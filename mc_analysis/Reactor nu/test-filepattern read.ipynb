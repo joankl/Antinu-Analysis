{
 "cells": [
  {
   "cell_type": "markdown",
   "id": "7056b35b-28d4-4f73-bc10-57ab3e076b54",
   "metadata": {},
   "source": [
    "# Notebook Dedicated to Read filenames with Pattetns"
   ]
  },
  {
   "cell_type": "code",
   "execution_count": 1,
   "id": "3bfb8006-5000-4d84-abef-547b195d9446",
   "metadata": {},
   "outputs": [],
   "source": [
    "import numpy as np\n",
    "import uproot\n",
    "\n",
    "import matplotlib.pyplot as plt\n",
    "import seaborn as sn\n",
    "\n",
    "import pandas as pd\n",
    "\n",
    "import glob\n",
    "\n",
    "from analysis_antinu import analysis"
   ]
  },
  {
   "cell_type": "code",
   "execution_count": 2,
   "id": "d7fdb401-43b6-4934-aab0-6905b03eacf4",
   "metadata": {},
   "outputs": [
    {
     "name": "stdout",
     "output_type": "stream",
     "text": [
      "reading file /snoplus simulations/reactor_nu\\ScintFit_2p2ReactoribdRun_r300000_s0_p0.ntuple.root\n",
      "reading file /snoplus simulations/reactor_nu\\ScintFit_2p2ReactoribdRun_r304956_s0_p2.ntuple.root\n"
     ]
    },
    {
     "name": "stderr",
     "output_type": "stream",
     "text": [
      "C:\\Users\\joanc\\jupyter notebooks\\Antineutrino Analysis\\Reactor nu\\analysis_antinu.py:89: FutureWarning: The behavior of DataFrame concatenation with empty or all-NA entries is deprecated. In a future version, this will no longer exclude empty or all-NA columns when determining the result dtypes. To retain the old behavior, exclude the relevant entries before the concat operation.\n",
      "  df = pd.concat([df, df_i], ignore_index=True)\n"
     ]
    }
   ],
   "source": [
    "route = '/snoplus simulations/reactor_nu/'\n",
    "pattern_file = 'ScintFit_2p2ReactoribdRun_r*'\n",
    "\n",
    "analysis(route, pattern_file)"
   ]
  },
  {
   "cell_type": "code",
   "execution_count": null,
   "id": "b9c85101-0282-4c4a-ae6f-a265b3c01f60",
   "metadata": {},
   "outputs": [],
   "source": []
  }
 ],
 "metadata": {
  "kernelspec": {
   "display_name": "Python 3 (ipykernel)",
   "language": "python",
   "name": "python3"
  },
  "language_info": {
   "codemirror_mode": {
    "name": "ipython",
    "version": 3
   },
   "file_extension": ".py",
   "mimetype": "text/x-python",
   "name": "python",
   "nbconvert_exporter": "python",
   "pygments_lexer": "ipython3",
   "version": "3.12.2"
  }
 },
 "nbformat": 4,
 "nbformat_minor": 5
}
