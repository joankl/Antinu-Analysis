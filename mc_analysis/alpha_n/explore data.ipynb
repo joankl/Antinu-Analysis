{
 "cells": [
  {
   "cell_type": "markdown",
   "id": "c04afa40-9e27-4537-b15c-b27be191fe96",
   "metadata": {},
   "source": [
    "# Explore Data of  $\\alpha$-n events\n",
    "\n",
    "The alpha_n events happens when an alpha particle interacts with and 13-C atom an produces an exited 16-O atom and a neutron whose delayed signal coincide with the signal of delayed neutron signal in IBD event"
   ]
  },
  {
   "cell_type": "code",
   "execution_count": 1,
   "id": "a4ff020d-b92c-4cb6-b392-7960f12c6abf",
   "metadata": {},
   "outputs": [],
   "source": [
    "import numpy as np\n",
    "import uproot\n",
    "\n",
    "import matplotlib.pyplot as plt\n",
    "import seaborn as sn\n",
    "\n",
    "import pandas as pd"
   ]
  },
  {
   "cell_type": "code",
   "execution_count": 2,
   "id": "0a3f90a2-97f3-44c5-a010-510c13581063",
   "metadata": {},
   "outputs": [],
   "source": [
    "def pos_r(x, y, z):\n",
    "    #function to recompute the radius of events due to the posz correction given the x, y and z position\n",
    "    r = np.sqrt(x**2 + y**2 + z**2)\n",
    "    return r"
   ]
  },
  {
   "cell_type": "code",
   "execution_count": 3,
   "id": "42095cfb-5a64-45bb-a677-098185adb831",
   "metadata": {},
   "outputs": [
    {
     "data": {
      "text/plain": [
       "['output;1', 'meta;1']"
      ]
     },
     "execution_count": 3,
     "metadata": {},
     "output_type": "execute_result"
    }
   ],
   "source": [
    "file = uproot.open('/snoplus simulations/alpha_n/ScintFit_2p2Alphan_Lab_13cRun_r300000_s0_p2.ntuple.root')\n",
    "file.keys()"
   ]
  },
  {
   "cell_type": "code",
   "execution_count": 4,
   "id": "ce9de1c5-a4ea-4c68-b069-6fc3182145ca",
   "metadata": {},
   "outputs": [],
   "source": [
    "output = file['output;1']\n",
    "#output.keys()\n",
    "#fitValid - good postion reconstruction\n",
    "#scintFit - good position and energy reconstruction"
   ]
  },
  {
   "cell_type": "code",
   "execution_count": 5,
   "id": "85846c75-8f13-4fa2-9616-c0b119743156",
   "metadata": {},
   "outputs": [
    {
     "data": {
      "text/plain": [
       "array([ True,  True,  True, ...,  True,  True,  True])"
      ]
     },
     "execution_count": 5,
     "metadata": {},
     "output_type": "execute_result"
    }
   ],
   "source": [
    "output['scintFit'].array(library = 'np')"
   ]
  },
  {
   "cell_type": "markdown",
   "id": "e30d44da-0b3c-488a-b5fc-840f06a5a31c",
   "metadata": {},
   "source": [
    "## 1 - Extract useful variables"
   ]
  },
  {
   "cell_type": "code",
   "execution_count": 6,
   "id": "f1959b8e-fa8a-443e-8dc5-bc7e48f2489e",
   "metadata": {},
   "outputs": [],
   "source": [
    "#validation info\n",
    "scint_fit = np.array(output['scintFit'])\n",
    "\n",
    "#event Index\n",
    "evIndex = np.array(output['evIndex'])  #evIndex = 0 is prompt, and evIndex > 0 is delayed and tails of prompt and delayed\n",
    "\n",
    "#recons. energy\n",
    "energy = np.array(output['energy'])\n",
    "\n",
    "#recons. position\n",
    "posx = np.array(output['posx'])\n",
    "posy = np.array(output['posy'])\n",
    "posz = np.array(output['posz']) - 184.4\n",
    "posr = pos_r(posx, posy, posz)\n",
    "\n",
    "#MC info\n",
    "mcID = np.array(output['mcIndex'])\n",
    "mc_posx = np.array(output['mcPosx'])\n",
    "mc_posy = np.array(output['mcPosy'])\n",
    "mc_posz = np.array(output['mcPosz'])\n",
    "mc_posr = np.array(output['mcPosr'])\n",
    "\n",
    "# Time info\n",
    "clock_count50 = np.array(output['clockCount50'], dtype = np.int64)\n",
    "\n",
    "#ev info\n",
    "evID = np.array(output['eventID'])\n",
    "nhits = np.array(output['nhits'])\n",
    "\n",
    "# Extract valid info -> Valid scint_fit -------------\n",
    "\n",
    "evIndex = np.extract(scint_fit, evIndex)\n",
    "\n",
    "mc_posx = np.extract(scint_fit, mc_posx)\n",
    "mc_posy = np.extract(scint_fit, mc_posy)\n",
    "mc_posz = np.extract(scint_fit, mc_posz)\n",
    "\n",
    "posx = np.extract(scint_fit, posx)\n",
    "posy = np.extract(scint_fit, posy)\n",
    "posz = np.extract(scint_fit, posz)\n",
    "posr = np.extract(scint_fit, posr)\n",
    "\n",
    "time = np.extract(scint_fit, (clock_count50*20)/1000)  #convert ns to μs\n",
    "\n",
    "evID = np.extract(scint_fit, evID)\n",
    "\n",
    "energy = np.extract(scint_fit, energy)"
   ]
  },
  {
   "cell_type": "code",
   "execution_count": 7,
   "id": "02a354ae-0f9a-4331-8dd1-4d300fd5cdc2",
   "metadata": {},
   "outputs": [
    {
     "data": {
      "text/plain": [
       "array([0, 1, 2, ..., 1, 2, 3])"
      ]
     },
     "execution_count": 7,
     "metadata": {},
     "output_type": "execute_result"
    }
   ],
   "source": [
    "evIndex"
   ]
  },
  {
   "cell_type": "markdown",
   "id": "53a8acbd-9700-4978-8e19-3308749baedf",
   "metadata": {},
   "source": [
    "## 1.1 - Observation of the Contributions to the $\\alpha$-n Events"
   ]
  },
  {
   "cell_type": "code",
   "execution_count": 8,
   "id": "b16c9f74-0914-4c54-91d4-5399e17b9d57",
   "metadata": {},
   "outputs": [],
   "source": [
    "#Code to extract smartly the varibles of each eventIndex and to avoid the -9.999e+4 MeV values. However, this proceduce doesnt guarant the pair matching of prompt and delayed events ...\n",
    "\n",
    "#prefix names of variables\n",
    "prefix_en = 'energy_evin_'\n",
    "#prefix_time = 'time_evin_'\n",
    "#prefix_x = 'pos_x_evin_'\n",
    "#prefix_y = 'pos_x_evin_'\n",
    "#prefix_z = 'pos_x_evin_'\n",
    "\n",
    "#index of variables\n",
    "type_var = np.unique(evIndex)\n",
    "\n",
    "energy_index_i = [] #array with the energies of each eventIndex\n",
    "#time_index_i = []\n",
    "#pos_x_index_i = []\n",
    "#pos_y_index_i = []\n",
    "#pos_z_index_i = []\n",
    "\n",
    "for i in type_var:\n",
    "    \n",
    "    # select eventIndex and energy > 0\n",
    "    condition = ((evIndex == i) & (energy > 0))\n",
    "    \n",
    "    locals()[prefix_en + str(i)] = np.extract(condition, energy)\n",
    "    #locals()[prefix_time + str(i)] = np.extract(condition, time)\n",
    "    #locals()[prefix_x + str(i)] = np.extract(condition, posx)\n",
    "    #locals()[prefix_y + str(i)] = np.extract(condition, posy)\n",
    "    #locals()[prefix_z + str(i)] = np.extract(condition, posz)\n",
    "\n",
    "    # Save the observables of each evIndex within a list which indices are the list of results for each evIndex\n",
    "    energy_index_i.append(locals()[prefix_en + str(i)])\n",
    "    #time_index_i.append(locals()[prefix_time + str(i)])\n",
    "    #pos_x_index_i.append(locals()[prefix_x + str(i)])\n",
    "    #pos_y_index_i.append(locals()[prefix_y + str(i)])\n",
    "    #pos_z_index_i.append(locals()[prefix_z + str(i)])"
   ]
  },
  {
   "cell_type": "code",
   "execution_count": 9,
   "id": "e648269a-e5e2-4dd5-b56a-2bd809f99636",
   "metadata": {},
   "outputs": [
    {
     "data": {
      "image/png": "[encoded data removed]",
      "text/plain": [
       "<Figure size 700x500 with 1 Axes>"
      ]
     },
     "metadata": {},
     "output_type": "display_data"
    }
   ],
   "source": [
    "save_fig = True\n",
    "\n",
    "plot_i = np.unique(evIndex)\n",
    "color_i = ['black', 'b', 'r', 'g']\n",
    "bins_i = [30, 10, 30, 15]\n",
    "\n",
    "plt.figure(figsize=(7,5))\n",
    "\n",
    "for i in plot_i:\n",
    "    sn.histplot(energy_index_i[i], bins = bins_i[i], color = color_i[i], element = 'step', alpha = 0.0, label = 'evIndex = '+str(i))\n",
    "\n",
    "plt.legend(loc = 'upper right')\n",
    "plt.xlabel('Energy (MeV)')\n",
    "plt.yscale('log')\n",
    "plt.title(r'Energy Distribution of Contributions for and $\\alpha$-n event - No energy cut', fontsize = 10)\n",
    "\n",
    "if save_fig:\n",
    "    plt.savefig('figs/Energy Distribution of Contributions for alpha-n event - No energy cut.png', format = 'png', bbox_inches = 'tight')\n",
    "    \n",
    "plt.show()"
   ]
  },
  {
   "cell_type": "markdown",
   "id": "0d2130e6-70b3-442b-82e5-974acb383431",
   "metadata": {},
   "source": [
    "### *Observations and Questions:\n",
    "\n",
    "- evIndex = 0 (prompt) has three peaks, corresponding to the 3 possible channels of the $\\alpha$-n events. Consequtively: 1) the neutron scatter with protons, 2) The inelastic of n with the 12-C nucleus, and 3) The excitation of the 16-O atoms by the $\\alpha$, which emmits gamma and neutron;\n",
    "- evIndex = 1 are tails of distributions, but what is the small contribution within the peak of the prompt (1) peak? It is due to the multiple proton scattering?;\n",
    "- evIndex = 2 (delayed) of 2.2 MeV mainly, but what are the other small contributions?;\n",
    "- evIndex = 3 are tails"
   ]
  },
  {
   "cell_type": "markdown",
   "id": "493acf6e-fa25-4cde-9d27-7ecbf1440867",
   "metadata": {},
   "source": [
    "## 1.2 - Matching Prompt and Delayed\n",
    "\n",
    "Lets guarant that we are keeping the correct pair of delayed events while performing cuts on data"
   ]
  },
  {
   "cell_type": "code",
   "execution_count": 10,
   "id": "7f3970dd-d26e-41cf-b80d-0dba119c87cd",
   "metadata": {},
   "outputs": [],
   "source": [
    "# Look for the indices of the array elements that verifies evIndex 0 and 2. Guarant that we dont have the same consecutive values of evIndex, and then extract the correct indices of array elements\n",
    "# for then extract the observables of interest.\n",
    "\n",
    "ev_index_condition = (evIndex == 0) | (evIndex == 2)\n",
    "\n",
    "filter_index = np.where(ev_index_condition)[0]  # Indices which verifies the evIndex condition. Useful to look for the energy, time, and position of the desired prompt and delayed\n",
    "\n",
    "test_evindex = evIndex[filter_index]  #This shows that even when we select the evIndex 0 and 2, there are consecutive records with 0 and 2. Lets remove this consecutive values following the rules:\n",
    "                                     #1) if there is zero in i and i+1 indices, remove the i. 2) if there is twos in i and i+1, remove i+1.\n",
    "\n",
    "index_to_del = []  #list of indicies of elements to be removed in filter_index. This is used to correct the filter_index list.\n",
    "\n",
    "for i in range(len(test_evindex)-1):\n",
    "    if test_evindex[i] == 0 and test_evindex[i+1] == 0:\n",
    "        index_to_del.append(i)\n",
    "    if test_evindex[i] == 2 and test_evindex[i+1] == 2:\n",
    "        index_to_del.append(i+1)\n",
    "\n",
    "filter_index = np.delete(filter_index, index_to_del)  #cleaning of the filter_index list\n",
    "\n",
    "# Extract observables and Arange by pairs of prompt and delayed. If there is an error due to non-equal division, then set a condition for the filter_index:\n",
    "evindex_filter = evIndex[filter_index].reshape((-1,2))\n",
    "energy_filter = energy[filter_index].reshape((-1,2))\n",
    "posr_filter = posr[filter_index].reshape((-1,2))\n",
    "posx_filter = posx[filter_index].reshape((-1,2))\n",
    "posy_filter = posy[filter_index].reshape((-1,2))\n",
    "posz_filter = posz[filter_index].reshape((-1,2))\n",
    "time_filter = time[filter_index].reshape((-1,2))"
   ]
  },
  {
   "cell_type": "markdown",
   "id": "838fd738-39cc-4d00-9fa2-5bc7b00042e8",
   "metadata": {},
   "source": [
    "# 2 - Computation of Observables"
   ]
  },
  {
   "cell_type": "code",
   "execution_count": 11,
   "id": "67f8d99f-2eb8-4938-96e6-40e167c0c99b",
   "metadata": {},
   "outputs": [],
   "source": [
    "# Now we are in conditions to apply cuts on energy and position of the events\n",
    "en_cut = 1.0\n",
    "r_cut = 5500\n",
    "\n",
    "cut_condition = (energy_filter >= en_cut) & (posr_filter <= r_cut)\n",
    "\n",
    "mask = np.all(cut_condition, axis = 1)  #evaluates where all the elements of axis 1 (rows) are True\n",
    "\n",
    "#cut values of energy and postions\n",
    "energy_cut = energy_filter[mask]\n",
    "posr_cut = posr_filter[mask]\n",
    "posx_cut = posx_filter[mask]\n",
    "posy_cut = posy_filter[mask]\n",
    "posz_cut = posz_filter[mask]\n",
    "time_cut = time_filter[mask]\n",
    "\n",
    "#extract the information of prompt and delayed\n",
    "#Delta time\n",
    "t0 = time_cut[:,0]\n",
    "t1 = time_cut[:,1]\n",
    "Dt = t1 - t0\n",
    "\n",
    "#Delta r\n",
    "posx_0 = posx_cut[:,0]\n",
    "posy_0 = posy_cut[:,0]\n",
    "posz_0 = posz_cut[:,0]\n",
    "\n",
    "posx_1 = posx_cut[:,1]\n",
    "posy_1 = posy_cut[:,1]\n",
    "posz_1 = posz_cut[:,1]\n",
    "\n",
    "dx = posx_1 - posx_0\n",
    "dy = posy_1 - posy_0\n",
    "dz = posz_1 - posz_0\n",
    "\n",
    "Dr = np.sqrt((dx**2) + (dy**2) + (dz**2))"
   ]
  },
  {
   "cell_type": "markdown",
   "id": "1478e60c-db7d-433f-b5ac-357e34de0851",
   "metadata": {},
   "source": [
    "## 2.1 - Plots of Observables"
   ]
  },
  {
   "cell_type": "code",
   "execution_count": 12,
   "id": "489672fe-0e51-481a-8f3a-dc840c6f438f",
   "metadata": {},
   "outputs": [
    {
     "name": "stderr",
     "output_type": "stream",
     "text": [
      "<>:17: SyntaxWarning: invalid escape sequence '\\l'\n",
      "<>:17: SyntaxWarning: invalid escape sequence '\\l'\n",
      "C:\\Users\\joanc\\AppData\\Local\\Temp\\ipykernel_18000\\1936893123.py:17: SyntaxWarning: invalid escape sequence '\\l'\n",
      "  plt.suptitle(r'$\\alpha$-n - E $\\geq$ ' + str(en_cut) + ' (MeV) & R $\\leq$ '+ str(r_cut) + ' (mm)')\n"
     ]
    },
    {
     "data": {
      "image/png": "[encoded data removed]",
      "text/plain": [
       "<Figure size 1500x500 with 2 Axes>"
      ]
     },
     "metadata": {},
     "output_type": "display_data"
    }
   ],
   "source": [
    "save_fig = True\n",
    "\n",
    "bins_t = 30\n",
    "bins_r = 30\n",
    "\n",
    "linewidth = 1.05\n",
    "\n",
    "fig, axes = plt.subplots(1, 2,  figsize=(15, 5))\n",
    "\n",
    "sn.histplot(Dt, bins = bins_t, ax = axes[0], color = 'black', alpha = 0.0, element = 'step', linewidth = linewidth)\n",
    "sn.histplot(Dr, bins = bins_r, ax = axes[1], color = 'black', alpha = 0.0, element = 'step' , linewidth = linewidth)\n",
    "\n",
    "axes[0].set_xlabel(r'$\\Delta$t = t$_{\\text{delayed}}$ - t$_{\\text{prompt}}$ ($\\mu$s)')\n",
    "\n",
    "axes[1].set_xlabel(r'$\\Delta$r (mm)')\n",
    "\n",
    "plt.suptitle(r'$\\alpha$-n - E $\\geq$ ' + str(en_cut) + ' (MeV) & R $\\leq$ '+ str(r_cut) + ' (mm)')\n",
    "\n",
    "if save_fig:\n",
    "    plt.savefig('figs/alpha-n_dt_dr_E_1MeV_R_5500mm.png', format = 'png', bbox_inches = 'tight')\n",
    "    \n",
    "plt.show()"
   ]
  },
  {
   "cell_type": "markdown",
   "id": "e7ca3bd5-f8d1-42c3-97b9-82e19d81c9d9",
   "metadata": {
    "jp-MarkdownHeadingCollapsed": true
   },
   "source": [
    "# 3 - Save Informations of Observables"
   ]
  },
  {
   "cell_type": "markdown",
   "id": "4bf0cd5d-6474-4acc-9cc9-3acbc1d504b2",
   "metadata": {},
   "source": [
    "# 4 - Hight Statistical Analysis"
   ]
  },
  {
   "cell_type": "code",
   "execution_count": 2,
   "id": "14449ab2-a625-4ea4-a057-ab4497fe4e6d",
   "metadata": {},
   "outputs": [
    {
     "name": "stdout",
     "output_type": "stream",
     "text": [
      "reading file /snoplus simulations/alpha_n\\ScintFit_2p2Alphan_Lab_13cRun_r300000_s0_p2.ntuple.root\n",
      "reading file /snoplus simulations/alpha_n\\ScintFit_2p2Alphan_Lab_13cRun_r300002_s0_p1.ntuple.root\n",
      "reading file /snoplus simulations/alpha_n\\ScintFit_2p2Alphan_Lab_13cRun_r300004_s0_p2.ntuple.root\n"
     ]
    },
    {
     "name": "stderr",
     "output_type": "stream",
     "text": [
      "C:\\Users\\joanc\\jupyter notebooks\\Antineutrino Analysis\\alpha_n\\analysis_antinu.py:95: FutureWarning: The behavior of DataFrame concatenation with empty or all-NA entries is deprecated. In a future version, this will no longer exclude empty or all-NA columns when determining the result dtypes. To retain the old behavior, exclude the relevant entries before the concat operation.\n",
      "  df = pd.concat([df, df_i], ignore_index=True)\n"
     ]
    },
    {
     "name": "stdout",
     "output_type": "stream",
     "text": [
      "reading file /snoplus simulations/alpha_n\\ScintFit_2p2Alphan_Lab_13cRun_r300006_s0_p1.ntuple.root\n",
      "reading file /snoplus simulations/alpha_n\\ScintFit_2p2Alphan_Lab_13cRun_r300008_s0_p2.ntuple.root\n",
      "reading file /snoplus simulations/alpha_n\\ScintFit_2p2Alphan_Lab_13cRun_r300010_s0_p1.ntuple.root\n",
      "reading file /snoplus simulations/alpha_n\\ScintFit_2p2Alphan_Lab_13cRun_r300013_s0_p2.ntuple.root\n",
      "reading file /snoplus simulations/alpha_n\\ScintFit_2p2Alphan_Lab_13cRun_r300015_s0_p1.ntuple.root\n",
      "reading file /snoplus simulations/alpha_n\\ScintFit_2p2Alphan_Lab_13cRun_r300017_s0_p2.ntuple.root\n",
      "reading file /snoplus simulations/alpha_n\\ScintFit_2p2Alphan_Lab_13cRun_r300019_s0_p1.ntuple.root\n",
      "reading file /snoplus simulations/alpha_n\\ScintFit_2p2Alphan_Lab_13cRun_r300021_s0_p2.ntuple.root\n",
      "reading file /snoplus simulations/alpha_n\\ScintFit_2p2Alphan_Lab_13cRun_r300023_s0_p1.ntuple.root\n",
      "reading file /snoplus simulations/alpha_n\\ScintFit_2p2Alphan_Lab_13cRun_r300025_s0_p2.ntuple.root\n",
      "reading file /snoplus simulations/alpha_n\\ScintFit_2p2Alphan_Lab_13cRun_r300027_s0_p1.ntuple.root\n",
      "reading file /snoplus simulations/alpha_n\\ScintFit_2p2Alphan_Lab_13cRun_r300029_s0_p2.ntuple.root\n"
     ]
    }
   ],
   "source": [
    "new_data = True  #Turn true only to rewrite the full_data file!\n",
    "\n",
    "import analysis_antinu\n",
    "if new_data:\n",
    "    analysis_antinu\n",
    "\n",
    "import Dt_Dr\n",
    "from Dt_Dr import Dt_Dr"
   ]
  },
  {
   "cell_type": "code",
   "execution_count": 3,
   "id": "b0da035e-884a-4283-b303-cfc19ebe4953",
   "metadata": {},
   "outputs": [
    {
     "data": {
      "text/html": [
       "<div>\n",
       "<style scoped>\n",
       "    .dataframe tbody tr th:only-of-type {\n",
       "        vertical-align: middle;\n",
       "    }\n",
       "\n",
       "    .dataframe tbody tr th {\n",
       "        vertical-align: top;\n",
       "    }\n",
       "\n",
       "    .dataframe thead th {\n",
       "        text-align: right;\n",
       "    }\n",
       "</style>\n",
       "<table border=\"1\" class=\"dataframe\">\n",
       "  <thead>\n",
       "    <tr style=\"text-align: right;\">\n",
       "      <th></th>\n",
       "      <th>Dt (mcs)</th>\n",
       "      <th>Dr (mm)</th>\n",
       "    </tr>\n",
       "  </thead>\n",
       "  <tbody>\n",
       "    <tr>\n",
       "      <th>0</th>\n",
       "      <td>304.480011</td>\n",
       "      <td>371.806396</td>\n",
       "    </tr>\n",
       "    <tr>\n",
       "      <th>1</th>\n",
       "      <td>389.180023</td>\n",
       "      <td>629.836258</td>\n",
       "    </tr>\n",
       "    <tr>\n",
       "      <th>2</th>\n",
       "      <td>631.779999</td>\n",
       "      <td>985.572957</td>\n",
       "    </tr>\n",
       "    <tr>\n",
       "      <th>3</th>\n",
       "      <td>31.960022</td>\n",
       "      <td>292.292659</td>\n",
       "    </tr>\n",
       "    <tr>\n",
       "      <th>4</th>\n",
       "      <td>140.860016</td>\n",
       "      <td>806.792639</td>\n",
       "    </tr>\n",
       "    <tr>\n",
       "      <th>...</th>\n",
       "      <td>...</td>\n",
       "      <td>...</td>\n",
       "    </tr>\n",
       "    <tr>\n",
       "      <th>10286</th>\n",
       "      <td>146.779999</td>\n",
       "      <td>828.715583</td>\n",
       "    </tr>\n",
       "    <tr>\n",
       "      <th>10287</th>\n",
       "      <td>116.360001</td>\n",
       "      <td>1424.089797</td>\n",
       "    </tr>\n",
       "    <tr>\n",
       "      <th>10288</th>\n",
       "      <td>447.959991</td>\n",
       "      <td>745.531416</td>\n",
       "    </tr>\n",
       "    <tr>\n",
       "      <th>10289</th>\n",
       "      <td>0.939987</td>\n",
       "      <td>253.704192</td>\n",
       "    </tr>\n",
       "    <tr>\n",
       "      <th>10290</th>\n",
       "      <td>433.339996</td>\n",
       "      <td>1130.259786</td>\n",
       "    </tr>\n",
       "  </tbody>\n",
       "</table>\n",
       "<p>10291 rows × 2 columns</p>\n",
       "</div>"
      ],
      "text/plain": [
       "         Dt (mcs)      Dr (mm)\n",
       "0      304.480011   371.806396\n",
       "1      389.180023   629.836258\n",
       "2      631.779999   985.572957\n",
       "3       31.960022   292.292659\n",
       "4      140.860016   806.792639\n",
       "...           ...          ...\n",
       "10286  146.779999   828.715583\n",
       "10287  116.360001  1424.089797\n",
       "10288  447.959991   745.531416\n",
       "10289    0.939987   253.704192\n",
       "10290  433.339996  1130.259786\n",
       "\n",
       "[10291 rows x 2 columns]"
      ]
     },
     "execution_count": 3,
     "metadata": {},
     "output_type": "execute_result"
    }
   ],
   "source": [
    "en_cut = 0.8\n",
    "r_cut = 5500\n",
    "\n",
    "data = Dt_Dr(en_cut = en_cut, r_cut = r_cut)\n",
    "data"
   ]
  },
  {
   "cell_type": "code",
   "execution_count": 4,
   "id": "dce95e84-413b-4b27-9914-0e62e884b194",
   "metadata": {},
   "outputs": [],
   "source": [
    "Dt = data['Dt (mcs)']\n",
    "Dr = data['Dr (mm)']"
   ]
  },
  {
   "cell_type": "code",
   "execution_count": 8,
   "id": "a307ee2e-dff3-42f6-bd95-7ea34e6b9232",
   "metadata": {},
   "outputs": [
    {
     "name": "stderr",
     "output_type": "stream",
     "text": [
      "<>:19: SyntaxWarning: invalid escape sequence '\\l'\n",
      "<>:19: SyntaxWarning: invalid escape sequence '\\l'\n",
      "C:\\Users\\joanc\\AppData\\Local\\Temp\\ipykernel_21932\\1372235058.py:19: SyntaxWarning: invalid escape sequence '\\l'\n",
      "  plt.suptitle(r'$\\alpha$-n - E $\\geq$ ' + str(en_cut) + ' (MeV) & R $\\leq$ '+ str(r_cut) + ' (mm)')\n"
     ]
    },
    {
     "data": {
      "image/png": "[encoded data removed]",
      "text/plain": [
       "<Figure size 1500x500 with 2 Axes>"
      ]
     },
     "metadata": {},
     "output_type": "display_data"
    }
   ],
   "source": [
    "save_fig = False\n",
    "\n",
    "bins_t = 50\n",
    "bins_r = 50\n",
    "\n",
    "linewidth = 1.05\n",
    "\n",
    "fig, axes = plt.subplots(1, 2,  figsize=(15, 5))\n",
    "\n",
    "sn.histplot(Dt, bins = bins_t, ax = axes[0], color = 'black', alpha = 0.0, element = 'step', linewidth = linewidth)\n",
    "sn.histplot(Dr, bins = bins_r, ax = axes[1], color = 'black', alpha = 0.0, element = 'step' , linewidth = linewidth)\n",
    "\n",
    "axes[0].set_xlabel(r'$\\Delta$t = t$_{\\text{delayed}}$ - t$_{\\text{prompt}}$ ($\\mu$s)')\n",
    "\n",
    "axes[1].set_xlabel(r'$\\Delta$r (mm)')\n",
    "#axes[1].set_xlim(800,1400)\n",
    "#axes[1].set_yscale('log')\n",
    "\n",
    "plt.suptitle(r'$\\alpha$-n - E $\\geq$ ' + str(en_cut) + ' (MeV) & R $\\leq$ '+ str(r_cut) + ' (mm)')\n",
    "\n",
    "if save_fig:\n",
    "    plt.savefig('figs/dt_dr_E_{i}MeV_R_{j}mm.png'.format(i = en_cut, j = r_cut), format = 'png', bbox_inches = 'tight')\n",
    "    \n",
    "plt.show()"
   ]
  },
  {
   "cell_type": "code",
   "execution_count": 1,
   "id": "7fdec78b-011f-4518-9919-54b70f3d3f5a",
   "metadata": {},
   "outputs": [
    {
     "name": "stdout",
     "output_type": "stream",
     "text": [
      "reading file /snoplus simulations/alpha_n\\ScintFit_2p2Alphan_Lab_13cRun_r300000_s0_p2.ntuple.root\n"
     ]
    },
    {
     "name": "stderr",
     "output_type": "stream",
     "text": [
      "C:\\Users\\joanc\\jupyter notebooks\\Antineutrino Analysis\\alpha_n\\analysis_antinu.py:95: FutureWarning: The behavior of DataFrame concatenation with empty or all-NA entries is deprecated. In a future version, this will no longer exclude empty or all-NA columns when determining the result dtypes. To retain the old behavior, exclude the relevant entries before the concat operation.\n",
      "  df = pd.concat([df, df_i], ignore_index=True)\n"
     ]
    },
    {
     "data": {
      "text/html": [
       "<div>\n",
       "<style scoped>\n",
       "    .dataframe tbody tr th:only-of-type {\n",
       "        vertical-align: middle;\n",
       "    }\n",
       "\n",
       "    .dataframe tbody tr th {\n",
       "        vertical-align: top;\n",
       "    }\n",
       "\n",
       "    .dataframe thead th {\n",
       "        text-align: right;\n",
       "    }\n",
       "</style>\n",
       "<table border=\"1\" class=\"dataframe\">\n",
       "  <thead>\n",
       "    <tr style=\"text-align: right;\">\n",
       "      <th></th>\n",
       "      <th>Unnamed: 0</th>\n",
       "      <th>evIndex</th>\n",
       "      <th>evID</th>\n",
       "      <th>energy</th>\n",
       "      <th>posx</th>\n",
       "      <th>posy</th>\n",
       "      <th>posz</th>\n",
       "      <th>posr</th>\n",
       "      <th>time_clock (mcs)</th>\n",
       "    </tr>\n",
       "  </thead>\n",
       "  <tbody>\n",
       "    <tr>\n",
       "      <th>0</th>\n",
       "      <td>0</td>\n",
       "      <td>0</td>\n",
       "      <td>0</td>\n",
       "      <td>1.220028</td>\n",
       "      <td>596.729980</td>\n",
       "      <td>614.432861</td>\n",
       "      <td>-4718.193457</td>\n",
       "      <td>4795.306446</td>\n",
       "      <td>1.694742e+11</td>\n",
       "    </tr>\n",
       "    <tr>\n",
       "      <th>1</th>\n",
       "      <td>1</td>\n",
       "      <td>1</td>\n",
       "      <td>1</td>\n",
       "      <td>0.023918</td>\n",
       "      <td>-3579.566895</td>\n",
       "      <td>-1895.714233</td>\n",
       "      <td>-3326.732764</td>\n",
       "      <td>5241.582060</td>\n",
       "      <td>1.694742e+11</td>\n",
       "    </tr>\n",
       "    <tr>\n",
       "      <th>2</th>\n",
       "      <td>2</td>\n",
       "      <td>2</td>\n",
       "      <td>2</td>\n",
       "      <td>2.076024</td>\n",
       "      <td>667.008972</td>\n",
       "      <td>270.984802</td>\n",
       "      <td>-4842.065527</td>\n",
       "      <td>4895.296958</td>\n",
       "      <td>1.694742e+11</td>\n",
       "    </tr>\n",
       "    <tr>\n",
       "      <th>3</th>\n",
       "      <td>3</td>\n",
       "      <td>3</td>\n",
       "      <td>3</td>\n",
       "      <td>-99999.000000</td>\n",
       "      <td>-4952.392578</td>\n",
       "      <td>-4940.307617</td>\n",
       "      <td>-464.674994</td>\n",
       "      <td>7010.617266</td>\n",
       "      <td>1.694742e+11</td>\n",
       "    </tr>\n",
       "    <tr>\n",
       "      <th>4</th>\n",
       "      <td>4</td>\n",
       "      <td>0</td>\n",
       "      <td>4</td>\n",
       "      <td>2.191498</td>\n",
       "      <td>-1339.986450</td>\n",
       "      <td>5743.831055</td>\n",
       "      <td>-711.670203</td>\n",
       "      <td>5940.844498</td>\n",
       "      <td>1.694801e+11</td>\n",
       "    </tr>\n",
       "    <tr>\n",
       "      <th>...</th>\n",
       "      <td>...</td>\n",
       "      <td>...</td>\n",
       "      <td>...</td>\n",
       "      <td>...</td>\n",
       "      <td>...</td>\n",
       "      <td>...</td>\n",
       "      <td>...</td>\n",
       "      <td>...</td>\n",
       "      <td>...</td>\n",
       "    </tr>\n",
       "    <tr>\n",
       "      <th>4276</th>\n",
       "      <td>4276</td>\n",
       "      <td>3</td>\n",
       "      <td>4276</td>\n",
       "      <td>-99999.000000</td>\n",
       "      <td>-11041.914062</td>\n",
       "      <td>-615.353027</td>\n",
       "      <td>3709.806055</td>\n",
       "      <td>11664.698302</td>\n",
       "      <td>1.730674e+11</td>\n",
       "    </tr>\n",
       "    <tr>\n",
       "      <th>4277</th>\n",
       "      <td>4277</td>\n",
       "      <td>0</td>\n",
       "      <td>4277</td>\n",
       "      <td>1.612437</td>\n",
       "      <td>1088.154663</td>\n",
       "      <td>4410.348145</td>\n",
       "      <td>-1165.887305</td>\n",
       "      <td>4689.834169</td>\n",
       "      <td>1.730712e+11</td>\n",
       "    </tr>\n",
       "    <tr>\n",
       "      <th>4278</th>\n",
       "      <td>4278</td>\n",
       "      <td>1</td>\n",
       "      <td>4278</td>\n",
       "      <td>-99999.000000</td>\n",
       "      <td>338.840973</td>\n",
       "      <td>6278.539062</td>\n",
       "      <td>721.189355</td>\n",
       "      <td>6328.900382</td>\n",
       "      <td>1.730712e+11</td>\n",
       "    </tr>\n",
       "    <tr>\n",
       "      <th>4279</th>\n",
       "      <td>4279</td>\n",
       "      <td>2</td>\n",
       "      <td>4279</td>\n",
       "      <td>1.975093</td>\n",
       "      <td>1520.517822</td>\n",
       "      <td>4102.967773</td>\n",
       "      <td>-2129.613013</td>\n",
       "      <td>4866.371398</td>\n",
       "      <td>1.730712e+11</td>\n",
       "    </tr>\n",
       "    <tr>\n",
       "      <th>4280</th>\n",
       "      <td>4280</td>\n",
       "      <td>3</td>\n",
       "      <td>4280</td>\n",
       "      <td>-99999.000000</td>\n",
       "      <td>-6788.842773</td>\n",
       "      <td>9281.837891</td>\n",
       "      <td>-21544.222266</td>\n",
       "      <td>24421.187806</td>\n",
       "      <td>1.730712e+11</td>\n",
       "    </tr>\n",
       "  </tbody>\n",
       "</table>\n",
       "<p>4281 rows × 9 columns</p>\n",
       "</div>"
      ],
      "text/plain": [
       "      Unnamed: 0  evIndex  evID        energy          posx         posy  \\\n",
       "0              0        0     0      1.220028    596.729980   614.432861   \n",
       "1              1        1     1      0.023918  -3579.566895 -1895.714233   \n",
       "2              2        2     2      2.076024    667.008972   270.984802   \n",
       "3              3        3     3 -99999.000000  -4952.392578 -4940.307617   \n",
       "4              4        0     4      2.191498  -1339.986450  5743.831055   \n",
       "...          ...      ...   ...           ...           ...          ...   \n",
       "4276        4276        3  4276 -99999.000000 -11041.914062  -615.353027   \n",
       "4277        4277        0  4277      1.612437   1088.154663  4410.348145   \n",
       "4278        4278        1  4278 -99999.000000    338.840973  6278.539062   \n",
       "4279        4279        2  4279      1.975093   1520.517822  4102.967773   \n",
       "4280        4280        3  4280 -99999.000000  -6788.842773  9281.837891   \n",
       "\n",
       "              posz          posr  time_clock (mcs)  \n",
       "0     -4718.193457   4795.306446      1.694742e+11  \n",
       "1     -3326.732764   5241.582060      1.694742e+11  \n",
       "2     -4842.065527   4895.296958      1.694742e+11  \n",
       "3      -464.674994   7010.617266      1.694742e+11  \n",
       "4      -711.670203   5940.844498      1.694801e+11  \n",
       "...            ...           ...               ...  \n",
       "4276   3709.806055  11664.698302      1.730674e+11  \n",
       "4277  -1165.887305   4689.834169      1.730712e+11  \n",
       "4278    721.189355   6328.900382      1.730712e+11  \n",
       "4279  -2129.613013   4866.371398      1.730712e+11  \n",
       "4280 -21544.222266  24421.187806      1.730712e+11  \n",
       "\n",
       "[4281 rows x 9 columns]"
      ]
     },
     "execution_count": 1,
     "metadata": {},
     "output_type": "execute_result"
    }
   ],
   "source": [
    "import analysis_antinu\n",
    "import pandas as pd\n",
    "\n",
    "analysis_antinu\n",
    "\n",
    "pd.read_csv('data/full_data.csv')"
   ]
  },
  {
   "cell_type": "code",
   "execution_count": 13,
   "id": "45fdcea8-2b45-4309-a66f-2287598ce0fe",
   "metadata": {},
   "outputs": [],
   "source": [
    "prompt_energy = energy_cut[:,0]\n",
    "delayed_energy = energy_cut[:,1]\n",
    "\n",
    "delta_t = Dt\n",
    "delta_r = Dr\n",
    "\n",
    "data_energy = {'Prompt Energy (MeV)': prompt_energy,\n",
    "        'Delayed Energy (MeV)': delayed_energy\n",
    "        }\n",
    "\n",
    "data_delta = {'Delta t (mcs)': delta_t,\n",
    "              'Delta r (mm)': delta_r\n",
    "             }\n",
    "\n",
    "\n",
    "pandas_data_energy = pd.DataFrame(data_energy)\n",
    "pandas_data_delta = pd.DataFrame(data_delta)\n",
    "\n",
    "\n",
    "pandas_data_energy.to_csv('data/energy_E_1mev_R_5500mm.csv')\n",
    "pandas_data_delta.to_csv('data/delta_(t,r)_1mev_R_5500mm.csv')"
   ]
  },
  {
   "cell_type": "code",
   "execution_count": 14,
   "id": "b658e384-2687-44ed-8cec-fc95e8bac6a4",
   "metadata": {},
   "outputs": [
    {
     "data": {
      "text/html": [
       "<div>\n",
       "<style scoped>\n",
       "    .dataframe tbody tr th:only-of-type {\n",
       "        vertical-align: middle;\n",
       "    }\n",
       "\n",
       "    .dataframe tbody tr th {\n",
       "        vertical-align: top;\n",
       "    }\n",
       "\n",
       "    .dataframe thead th {\n",
       "        text-align: right;\n",
       "    }\n",
       "</style>\n",
       "<table border=\"1\" class=\"dataframe\">\n",
       "  <thead>\n",
       "    <tr style=\"text-align: right;\">\n",
       "      <th></th>\n",
       "      <th>Unnamed: 0</th>\n",
       "      <th>Delta t (mcs)</th>\n",
       "      <th>Delta r (mm)</th>\n",
       "    </tr>\n",
       "  </thead>\n",
       "  <tbody>\n",
       "    <tr>\n",
       "      <th>0</th>\n",
       "      <td>0</td>\n",
       "      <td>304.480011</td>\n",
       "      <td>371.806396</td>\n",
       "    </tr>\n",
       "    <tr>\n",
       "      <th>1</th>\n",
       "      <td>1</td>\n",
       "      <td>389.180023</td>\n",
       "      <td>629.836258</td>\n",
       "    </tr>\n",
       "    <tr>\n",
       "      <th>2</th>\n",
       "      <td>2</td>\n",
       "      <td>631.779999</td>\n",
       "      <td>985.572957</td>\n",
       "    </tr>\n",
       "    <tr>\n",
       "      <th>3</th>\n",
       "      <td>3</td>\n",
       "      <td>31.960022</td>\n",
       "      <td>292.292659</td>\n",
       "    </tr>\n",
       "    <tr>\n",
       "      <th>4</th>\n",
       "      <td>4</td>\n",
       "      <td>140.860016</td>\n",
       "      <td>806.792639</td>\n",
       "    </tr>\n",
       "    <tr>\n",
       "      <th>...</th>\n",
       "      <td>...</td>\n",
       "      <td>...</td>\n",
       "      <td>...</td>\n",
       "    </tr>\n",
       "    <tr>\n",
       "      <th>636</th>\n",
       "      <td>636</td>\n",
       "      <td>55.980011</td>\n",
       "      <td>1136.092004</td>\n",
       "    </tr>\n",
       "    <tr>\n",
       "      <th>637</th>\n",
       "      <td>637</td>\n",
       "      <td>550.139984</td>\n",
       "      <td>356.905295</td>\n",
       "    </tr>\n",
       "    <tr>\n",
       "      <th>638</th>\n",
       "      <td>638</td>\n",
       "      <td>192.540009</td>\n",
       "      <td>615.196834</td>\n",
       "    </tr>\n",
       "    <tr>\n",
       "      <th>639</th>\n",
       "      <td>639</td>\n",
       "      <td>585.799988</td>\n",
       "      <td>439.121056</td>\n",
       "    </tr>\n",
       "    <tr>\n",
       "      <th>640</th>\n",
       "      <td>640</td>\n",
       "      <td>144.500000</td>\n",
       "      <td>1100.085376</td>\n",
       "    </tr>\n",
       "  </tbody>\n",
       "</table>\n",
       "<p>641 rows × 3 columns</p>\n",
       "</div>"
      ],
      "text/plain": [
       "     Unnamed: 0  Delta t (mcs)  Delta r (mm)\n",
       "0             0     304.480011    371.806396\n",
       "1             1     389.180023    629.836258\n",
       "2             2     631.779999    985.572957\n",
       "3             3      31.960022    292.292659\n",
       "4             4     140.860016    806.792639\n",
       "..          ...            ...           ...\n",
       "636         636      55.980011   1136.092004\n",
       "637         637     550.139984    356.905295\n",
       "638         638     192.540009    615.196834\n",
       "639         639     585.799988    439.121056\n",
       "640         640     144.500000   1100.085376\n",
       "\n",
       "[641 rows x 3 columns]"
      ]
     },
     "execution_count": 14,
     "metadata": {},
     "output_type": "execute_result"
    }
   ],
   "source": [
    "pd.read_csv('data/delta_(t,r)_1mev_R_5500mm.csv')"
   ]
  },
  {
   "cell_type": "code",
   "execution_count": null,
   "id": "dfd70642-5d3e-40db-b6a3-c6fabbf57e5a",
   "metadata": {},
   "outputs": [],
   "source": []
  }
 ],
 "metadata": {
  "kernelspec": {
   "display_name": "Python 3 (ipykernel)",
   "language": "python",
   "name": "python3"
  },
  "language_info": {
   "codemirror_mode": {
    "name": "ipython",
    "version": 3
   },
   "file_extension": ".py",
   "mimetype": "text/x-python",
   "name": "python",
   "nbconvert_exporter": "python",
   "pygments_lexer": "ipython3",
   "version": "3.12.2"
  }
 },
 "nbformat": 4,
 "nbformat_minor": 5
}
