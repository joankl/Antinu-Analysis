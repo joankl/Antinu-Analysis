{
 "cells": [
  {
   "cell_type": "markdown",
   "id": "f3044328-27c9-4440-89bb-90ebbca03b38",
   "metadata": {},
   "source": [
    "# Notebook Dedicated to Develop time cuts to separate tail events of $\\bar{\\nu}$ like events"
   ]
  },
  {
   "cell_type": "code",
   "execution_count": 1,
   "id": "bd5a05d7-2be6-4bd3-b2bd-0837165164bb",
   "metadata": {},
   "outputs": [],
   "source": [
    "import numpy as np\n",
    "import uproot\n",
    "\n",
    "import matplotlib.pyplot as plt\n",
    "import seaborn as sn\n",
    "\n",
    "import pandas as pd"
   ]
  },
  {
   "cell_type": "code",
   "execution_count": 9,
   "id": "598910f4-c0e4-44d4-aabb-b58a964a7624",
   "metadata": {},
   "outputs": [],
   "source": [
    "def pos_r(x, y, z):\n",
    "    #function to recompute the radius of events due to the posz correction given the x, y and z position\n",
    "    r = np.sqrt(x**2 + y**2 + z**2)\n",
    "    return r"
   ]
  },
  {
   "cell_type": "code",
   "execution_count": 2,
   "id": "194b1a77-6f7c-4c8b-b403-c396109d5ed6",
   "metadata": {},
   "outputs": [
    {
     "data": {
      "text/plain": [
       "['output;1', 'meta;1']"
      ]
     },
     "execution_count": 2,
     "metadata": {},
     "output_type": "execute_result"
    }
   ],
   "source": [
    "file = uproot.open('/snoplus simulations/reactor_nu/ScintFit_2p2ReactoribdRun_r304956_s0_p2.ntuple.root')\n",
    "file.keys()"
   ]
  },
  {
   "cell_type": "code",
   "execution_count": 3,
   "id": "0af5fbf2-cc09-4f61-b2b9-d15027479c1c",
   "metadata": {},
   "outputs": [],
   "source": [
    "output = file['output;1']"
   ]
  },
  {
   "cell_type": "markdown",
   "id": "794c97f6-0452-494e-afd5-7bb734f8421c",
   "metadata": {},
   "source": [
    "## 1 - Extract useful variables"
   ]
  },
  {
   "cell_type": "code",
   "execution_count": 12,
   "id": "db38c518-cd53-47df-b3e2-8d9dad3e8bd0",
   "metadata": {},
   "outputs": [],
   "source": [
    "#validation info\n",
    "scint_fit = np.array(output['scintFit'])\n",
    "\n",
    "#event Index\n",
    "evIndex = np.array(output['evIndex'])  #evIndex = 0 is prompt, and evIndex > 0 is delayed and tails of prompt and delayed\n",
    "\n",
    "#recons. energy\n",
    "energy = np.array(output['energy'])\n",
    "\n",
    "#recons. position\n",
    "posx = np.array(output['posx'])\n",
    "posy = np.array(output['posy'])\n",
    "posz = np.array(output['posz']) - 184.4\n",
    "posr = pos_r(posx, posy, posz)\n",
    "\n",
    "#MC info\n",
    "mcID = np.array(output['mcIndex'])\n",
    "mc_posx = np.array(output['mcPosx'])\n",
    "mc_posy = np.array(output['mcPosy'])\n",
    "mc_posz = np.array(output['mcPosz'])\n",
    "mc_posr = np.array(output['mcPosr'])\n",
    "\n",
    "# Time info\n",
    "clock_count50 = np.array(output['clockCount50'], dtype = np.int64)\n",
    "\n",
    "#ev info\n",
    "evID = np.array(output['eventID'])\n",
    "nhits = np.array(output['nhits'])\n",
    "\n",
    "# Extract valid info -> Valid scint_fit -------------\n",
    "\n",
    "evIndex = np.extract(scint_fit, evIndex)\n",
    "\n",
    "mc_posx = np.extract(scint_fit, mc_posx)\n",
    "mc_posy = np.extract(scint_fit, mc_posy)\n",
    "mc_posz = np.extract(scint_fit, mc_posz)\n",
    "\n",
    "posx = np.extract(scint_fit, posx)\n",
    "posy = np.extract(scint_fit, posy)\n",
    "posz = np.extract(scint_fit, posz)\n",
    "posr = np.extract(scint_fit, posr)\n",
    "\n",
    "time = np.extract(scint_fit, (clock_count50*20)/1000)  #convert ns to μs\n",
    "\n",
    "evID = np.extract(scint_fit, evID)\n",
    "\n",
    "energy = np.extract(scint_fit, energy)"
   ]
  },
  {
   "cell_type": "code",
   "execution_count": 5,
   "id": "3be00e95-bbf1-4985-baf6-61eabb88b276",
   "metadata": {},
   "outputs": [
    {
     "data": {
      "text/plain": [
       "3938"
      ]
     },
     "execution_count": 5,
     "metadata": {},
     "output_type": "execute_result"
    }
   ],
   "source": [
    "len(evID)"
   ]
  },
  {
   "cell_type": "markdown",
   "id": "29d764db-6963-441a-9f29-77576f9a8dd9",
   "metadata": {},
   "source": [
    "# 2 - Use of the evID\n",
    "\n",
    "\n",
    "Lets use the evID to distiguish events. Then, evaluates the $\\Delta$t between consequitive events and apply cuts to select which looks like an IBD. Also, save the evIndex to keep track of our selection."
   ]
  },
  {
   "cell_type": "code",
   "execution_count": 33,
   "id": "62a0db29-7b37-43a4-b951-cd4b52c1782b",
   "metadata": {
    "scrolled": true
   },
   "outputs": [],
   "source": [
    "#The next code perform an analysis of IBD like events based un lenght, time and energy cuts. The basic logic consist on take an events which is suspiciously a prompt and evaluate its Dr, Dt, to\n",
    "#find a delayed. Also, there are cuts on recons position and energy of the prompt and delayed events\n",
    "\n",
    "#Cuts ----------------------------\n",
    "#cut on event quantities\n",
    "energy_cut = 1\n",
    "radial_cut = 5500\n",
    "\n",
    "#Cut on delta quantities\n",
    "dt_cut_low =  20\n",
    "dt_cut_up = 2000\n",
    "\n",
    "dr_cut_low = 0\n",
    "dr_cut_up = 750\n",
    "#---------------------------------\n",
    "\n",
    "ev_index_val = [] #list with information of the validation of ev_index after the selection to measure how much tails bkg is getting in. If 1, is truly a prompt and delayed, if 0 is bkg.\n",
    "dt_cut = []  #list to be filled with the Delta t which verifies the time cut\n",
    "dr_cut = []  #list to be filled with the Delta r which verifies the time cut\n",
    "energy_ev_cut = []\n",
    "\n",
    "N_try = 3  #Allow us to evaluate the time1 of the following N_try events after the suspected promt\n",
    "\n",
    "N_events = len(evID)\n",
    "\n",
    "for event_i in range(N_events - N_try):\n",
    "\n",
    "    #cut on reconst. energy and position of the prompt event\n",
    "    if energy[event_i] < energy_cut or posr[event_i] > radial_cut:\n",
    "        continue\n",
    "    \n",
    "    #extract the timeclock of ith event (prompt) \n",
    "    time0 = time[event_i]\n",
    "    #extract the position of ith event (prompt) \n",
    "    posx0 = posx[event_i]\n",
    "    posy0 = posy[event_i]\n",
    "    posz0 = posz[event_i]\n",
    "    #extract energy of prompt\n",
    "    energy0 = energy[event_i]\n",
    "\n",
    "    #Now look for the next N_try events and evaluates Dt for each one of these\n",
    "    for event_j in range(1, N_try+1):\n",
    "        \n",
    "        #cut on reconst. energy and position of the prompt event\n",
    "        if energy[event_i + event_j] < energy_cut or posr[event_i + event_j] > radial_cut:\n",
    "            continue\n",
    "\n",
    "        #time of delayed\n",
    "        time1 = time[event_i + event_j]\n",
    "        #position of delayed\n",
    "        posx1 = posx[event_i + event_j]\n",
    "        posy1 = posy[event_i + event_j]\n",
    "        posz1 = posz[event_i + event_j]\n",
    "        #energy of delayed\n",
    "        energy1 = energy[event_i + event_j]\n",
    "        \n",
    "        #compute Dt for those events\n",
    "        Dt = time1 - time0\n",
    "        \n",
    "        #Compute Dr for those events\n",
    "        dx = posx1 - posx0\n",
    "        dy = posy1 - posy0\n",
    "        dz = posz1 - posz0\n",
    "\n",
    "        Dr = np.sqrt(dx**2 + dy**2 + dz**2)\n",
    "        #print(Dr)\n",
    "\n",
    "        #Cuts on Dr and Dt\n",
    "        condition_dt = (Dt >= dt_cut_low) & (Dt <= dt_cut_up)\n",
    "        condition_dr = (Dr >= dr_cut_low) & (Dr <= dr_cut_up)\n",
    "\n",
    "        if condition_dt and condition_dr:\n",
    "            dt_cut.append(Dt)\n",
    "            dr_cut.append(Dr)\n",
    "            energy_ev_cut.append(energy0)\n",
    "            energy_ev_cut.append(energy1)\n",
    "\n",
    "            #Save evIndex information\n",
    "            ev_index_prompt = evIndex[event_i]\n",
    "            ev_index_delay = evIndex[event_i+event_j]\n",
    "\n",
    "            if ev_index_prompt == 0 and ev_index_delay == 2:\n",
    "                ev_index_val.append(1)\n",
    "            else:\n",
    "                ev_index_val.append(0)\n",
    "\n",
    "dt_cut = np.array(dt_cut)\n",
    "dr_cut = np.array(dr_cut)\n",
    "energy_ev_cut = np.array(energy_ev_cut)\n",
    "ev_index_val = np.array(ev_index_val)\n",
    "\n",
    "#Separate signal from bkg dt\n",
    "signal_index = (ev_index_val == 1)\n",
    "bkg_index = (ev_index_val == 0)\n",
    "\n",
    "dt_signal = dt_cut[signal_index]\n",
    "dt_bkg = dt_cut[bkg_index]\n",
    "\n",
    "dr_signal = dr_cut[signal_index]\n",
    "dr_bkg = dr_cut[bkg_index]"
   ]
  },
  {
   "cell_type": "code",
   "execution_count": 27,
   "id": "baa7bdb1-6090-4ba5-a693-15f606c55e60",
   "metadata": {},
   "outputs": [
    {
     "data": {
      "text/plain": [
       "array([2.20794576, 2.06575081, 3.39104495, ..., 2.24164492, 3.12696786,\n",
       "       2.20032246])"
      ]
     },
     "execution_count": 27,
     "metadata": {},
     "output_type": "execute_result"
    }
   ],
   "source": [
    "energy_ev_cut"
   ]
  },
  {
   "cell_type": "markdown",
   "id": "8d80ce45-10ff-4621-9cef-d3615c064c2a",
   "metadata": {},
   "source": [
    "# 3 - Plots"
   ]
  },
  {
   "cell_type": "code",
   "execution_count": 34,
   "id": "ee1ed767-5999-4dc1-ba5c-a93eae63080e",
   "metadata": {},
   "outputs": [
    {
     "data": {
      "image/png": "[encoded data removed]",
      "text/plain": [
       "<Figure size 1800x600 with 2 Axes>"
      ]
     },
     "metadata": {},
     "output_type": "display_data"
    }
   ],
   "source": [
    "bins = 30\n",
    "\n",
    "fig, axes = plt.subplots(1, 2, figsize=(18,6))\n",
    "\n",
    "sn.histplot(dt_signal, ax = axes[0], bins = bins, color = 'r', element = 'step', alpha = 0, label = 'Truly Prompt and Delayed')\n",
    "sn.histplot(dt_bkg, ax = axes[0], bins = bins, color = 'b', element = 'step', alpha = 0, label = 'Tails')\n",
    "\n",
    "sn.histplot(dr_signal, ax = axes[1], bins = bins, color = 'r', element = 'step', alpha = 0, label = 'Truly Prompt and Delayed')\n",
    "sn.histplot(dr_bkg, ax = axes[1], bins = bins, color = 'b', element = 'step', alpha = 0, label = 'Tails')\n",
    "\n",
    "axes[0].legend(loc = 'upper right')\n",
    "axes[1].legend(loc = 'upper right')\n",
    "\n",
    "axes[0].set_xlabel(r'$\\Delta$t ($\\mu$s)')\n",
    "axes[1].set_xlabel(r'$\\Delta$r (mm)')\n",
    "\n",
    "#plt.title(r'Reactor $\\bar{\\nu}$ - E $\\geq$ ' + str(energy_cut) + ' (MeV) & R $\\leq$ '+ str(radial_cut) + ' (mm)')\n",
    "plt.show()"
   ]
  },
  {
   "cell_type": "markdown",
   "id": "d13a6732-e005-4a95-94d7-886614c2adeb",
   "metadata": {},
   "source": [
    "Cuts on Dt isnt enough, lest test cuts on Dr and reconstructed event energy and position!\n",
    "\n",
    "Observations:\n",
    "\n",
    "- Cuts on Dt gives the best signal selection, however a lot of bkg is included;\n",
    "- Cuts on DT and Dr doesnt really help to improve the relation sig bkg...\n",
    "- What really helps is the selection on energy and position of the event! The Dt and Dr are enough to select the correct pairs of events"
   ]
  },
  {
   "cell_type": "code",
   "execution_count": null,
   "id": "6006210d-b694-4204-9f07-51ea4be580a1",
   "metadata": {},
   "outputs": [],
   "source": []
  }
 ],
 "metadata": {
  "kernelspec": {
   "display_name": "Python 3 (ipykernel)",
   "language": "python",
   "name": "python3"
  },
  "language_info": {
   "codemirror_mode": {
    "name": "ipython",
    "version": 3
   },
   "file_extension": ".py",
   "mimetype": "text/x-python",
   "name": "python",
   "nbconvert_exporter": "python",
   "pygments_lexer": "ipython3",
   "version": "3.12.2"
  }
 },
 "nbformat": 4,
 "nbformat_minor": 5
}
