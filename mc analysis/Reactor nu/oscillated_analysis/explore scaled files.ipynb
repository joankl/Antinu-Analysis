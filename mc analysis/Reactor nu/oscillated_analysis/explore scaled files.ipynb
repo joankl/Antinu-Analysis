{
 "cells": [
  {
   "cell_type": "code",
   "execution_count": 2,
   "id": "edfe6291-6403-400f-9c2c-dc6cfd61dbb9",
   "metadata": {},
   "outputs": [],
   "source": [
    "import uproot\n",
    "import numpy as np\n",
    "import matplotlib.pyplot as plt\n",
    "import seaborn as sn"
   ]
  },
  {
   "cell_type": "code",
   "execution_count": 14,
   "id": "5bd59dc2-59fd-4120-9563-7945511f1bb0",
   "metadata": {},
   "outputs": [],
   "source": [
    "def pos_r(x, y, z):\n",
    "    #function to recompute the radius of events due to the posz correction given the x, y and z position\n",
    "    r = np.sqrt(x**2 + y**2 + z**2)\n",
    "    return r"
   ]
  },
  {
   "cell_type": "markdown",
   "id": "51124635-ba76-4908-bf93-117695d34ea2",
   "metadata": {},
   "source": [
    "# Load Files"
   ]
  },
  {
   "cell_type": "code",
   "execution_count": 16,
   "id": "7935f10c-c332-4cb3-8eb3-0c9b58ded412",
   "metadata": {},
   "outputs": [
    {
     "name": "stdout",
     "output_type": "stream",
     "text": [
      "['output;1']\n"
     ]
    }
   ],
   "source": [
    "file = uproot.open('data/scaled_oscillated_ScintFit_2p2ReactoribdRun_r300000_s0_p0.ntuple.root')\n",
    "print(file.keys())\n",
    "output = file['output;1']"
   ]
  },
  {
   "cell_type": "markdown",
   "id": "3f34e315-cbb0-4c22-887e-e27c58509bd3",
   "metadata": {},
   "source": [
    "# Extract Observables"
   ]
  },
  {
   "cell_type": "code",
   "execution_count": 15,
   "id": "f27f2beb-f10e-4c59-956b-9c989c083bf9",
   "metadata": {},
   "outputs": [],
   "source": [
    "#validation info\n",
    "scint_fit = np.array(output['scintFit'])\n",
    "fit_valid = np.array(output['fitValid'])\n",
    "\n",
    "condition = (scint_fit & fit_valid)\n",
    "\n",
    "#event Index\n",
    "evIndex = np.array(output['evIndex'])  #evIndex = 0 is prompt, and evIndex > 0 is delayed and tails of prompt and delayed\n",
    "\n",
    "#recons. energy\n",
    "energy = np.array(output['energy'])\n",
    "\n",
    "#recons. position\n",
    "posx = np.array(output['posx'])\n",
    "posy = np.array(output['posy'])\n",
    "posz = np.array(output['posz']) - 184.4\n",
    "posr = pos_r(posx, posy, posz)\n",
    "\n",
    "#MC info\n",
    "mcID = np.array(output['mcIndex'])\n",
    "mc_posx = np.array(output['mcPosx'])\n",
    "mc_posy = np.array(output['mcPosy'])\n",
    "mc_posz = np.array(output['mcPosz'])\n",
    "mc_posr = np.array(output['mcPosr'])\n",
    "\n",
    "# Time info\n",
    "clock_count50 = np.array(output['clockCount50'], dtype = np.int64)\n",
    "\n",
    "#ev info\n",
    "evID = np.array(output['eventID'])\n",
    "nhits = np.array(output['nhits'])\n",
    "\n",
    "# Extract valid info -> Valid scint_fit -------------\n",
    "\n",
    "evIndex = np.extract(scint_fit, evIndex)\n",
    "\n",
    "mc_posx = np.extract(scint_fit, mc_posx)\n",
    "mc_posy = np.extract(scint_fit, mc_posy)\n",
    "mc_posz = np.extract(scint_fit, mc_posz)\n",
    "\n",
    "posx = np.extract(scint_fit, posx)\n",
    "posy = np.extract(scint_fit, posy)\n",
    "posz = np.extract(scint_fit, posz)\n",
    "posr = np.extract(scint_fit, posr)\n",
    "\n",
    "time = np.extract(scint_fit, (clock_count50*20)/1000)  #convert ns to μs\n",
    "\n",
    "evID = np.extract(scint_fit, evID)\n",
    "\n",
    "energy = np.extract(scint_fit, energy)"
   ]
  },
  {
   "cell_type": "markdown",
   "id": "9d387c54-0fbc-41f1-979d-c31e247bd98d",
   "metadata": {},
   "source": [
    "## Separation of Prompt and Delay"
   ]
  },
  {
   "cell_type": "code",
   "execution_count": 17,
   "id": "40a3bef6-7eb7-4d89-8f7a-59bcf2e11cb4",
   "metadata": {},
   "outputs": [],
   "source": [
    "#Code to extract smartly the varibles of each eventIndex and to avoid the -9.999e+4 MeV values. However, this proceduce doesnt guarant the pair matching of prompt and delayed events ...\n",
    "\n",
    "#prefix names of variables\n",
    "prefix_en = 'energy_evin_'\n",
    "#prefix_time = 'time_evin_'\n",
    "#prefix_x = 'pos_x_evin_'\n",
    "#prefix_y = 'pos_x_evin_'\n",
    "#prefix_z = 'pos_x_evin_'\n",
    "\n",
    "#index of variables\n",
    "type_var = np.unique(evIndex)\n",
    "\n",
    "energy_index_i = [] #array with the energies of each eventIndex\n",
    "#time_index_i = []\n",
    "#pos_x_index_i = []\n",
    "#pos_y_index_i = []\n",
    "#pos_z_index_i = []\n",
    "\n",
    "for i in type_var:\n",
    "    \n",
    "    # select eventIndex and energy > 0\n",
    "    condition = ((evIndex == i) & (energy > 0))\n",
    "    \n",
    "    locals()[prefix_en + str(i)] = np.extract(condition, energy)\n",
    "    #locals()[prefix_time + str(i)] = np.extract(condition, time)\n",
    "    #locals()[prefix_x + str(i)] = np.extract(condition, posx)\n",
    "    #locals()[prefix_y + str(i)] = np.extract(condition, posy)\n",
    "    #locals()[prefix_z + str(i)] = np.extract(condition, posz)\n",
    "\n",
    "    # Save the observables of each evIndex within a list which indices are the list of results for each evIndex\n",
    "    energy_index_i.append(locals()[prefix_en + str(i)])\n",
    "    #time_index_i.append(locals()[prefix_time + str(i)])\n",
    "    #pos_x_index_i.append(locals()[prefix_x + str(i)])\n",
    "    #pos_y_index_i.append(locals()[prefix_y + str(i)])\n",
    "    #pos_z_index_i.append(locals()[prefix_z + str(i)])"
   ]
  },
  {
   "cell_type": "code",
   "execution_count": 20,
   "id": "669179c3-d158-4e27-bb67-a0fd059f911e",
   "metadata": {},
   "outputs": [
    {
     "data": {
      "image/png": "[encoded data removed]",
      "text/plain": [
       "<Figure size 700x500 with 1 Axes>"
      ]
     },
     "metadata": {},
     "output_type": "display_data"
    }
   ],
   "source": [
    "save_fig = False\n",
    "\n",
    "plot_i = np.unique(evIndex)\n",
    "color_i = ['black', 'b', 'r', 'g']\n",
    "bins_i = [15, 10, 20, 15]\n",
    "\n",
    "plt.figure(figsize=(7,5))\n",
    "\n",
    "for i in plot_i:\n",
    "    sn.histplot(energy_index_i[i], bins = bins_i[i], color = color_i[i], element = 'step', alpha = 0.0, label = 'evIndex = '+str(i))\n",
    "\n",
    "plt.legend(loc = 'upper right')\n",
    "plt.xlabel('Energy (MeV)')\n",
    "plt.yscale('log')\n",
    "plt.title('Energy Distribution of Contributions for IBD event - No energy cut', fontsize = 10)\n",
    "\n",
    "if save_fig:\n",
    "    plt.savefig('figs/Energy Distribution of Contributions for IBD event - No energy cut.png', format = 'png', bbox_inches = 'tight')\n",
    "    \n",
    "plt.show()"
   ]
  },
  {
   "cell_type": "code",
   "execution_count": null,
   "id": "8d5b1590-9024-49e1-b05f-4492b67e4a1a",
   "metadata": {},
   "outputs": [],
   "source": []
  }
 ],
 "metadata": {
  "kernelspec": {
   "display_name": "Python 3 (ipykernel)",
   "language": "python",
   "name": "python3"
  },
  "language_info": {
   "codemirror_mode": {
    "name": "ipython",
    "version": 3
   },
   "file_extension": ".py",
   "mimetype": "text/x-python",
   "name": "python",
   "nbconvert_exporter": "python",
   "pygments_lexer": "ipython3",
   "version": "3.12.2"
  }
 },
 "nbformat": 4,
 "nbformat_minor": 5
}
