{
 "cells": [
  {
   "cell_type": "markdown",
   "id": "ad7daaa1-5ee8-45f5-a25b-3285a1409dd8",
   "metadata": {},
   "source": [
    "# Explore Data\n",
    "\n",
    "useful link of howto to read and understand the file.ntuple.root structure: https://snopl.us/docs/rat/user_manual/html/standard_ntuples.html"
   ]
  },
  {
   "cell_type": "markdown",
   "id": "f51e78d2-3ee6-4d5c-a0c9-d749a42a7fe3",
   "metadata": {},
   "source": [
    "### Useful variable for the analysis\n",
    "\n",
    "- scintFit -> To select well reconstructed energy and position events;\n",
    "- mcIndex -> To follow up each event;\n",
    "- MC postion -> MC vertex coordinates;\n",
    "- reconstructed postion -> reconstructed vertex position;\n",
    "##### Use the MC position and recons. position ot measure the space difference between the IBD vertices of promt and delayed, and then compare the MC diference with the recons. difference histograms. PROBLEM: In the dataset there is not posr1 and posr2 for both n and beta particles ...\n",
    "- reconstructed energy -> to select events within energy of interest;\n",
    "- clockCount50 -> to meature time intervale between prompt and delayed events;"
   ]
  },
  {
   "cell_type": "code",
   "execution_count": 1,
   "id": "3041064b-d0fb-4aa4-8efd-ea5a9ffabb9f",
   "metadata": {},
   "outputs": [],
   "source": [
    "import numpy as np\n",
    "import uproot\n",
    "\n",
    "import matplotlib.pyplot as plt\n",
    "import seaborn as sn\n",
    "\n",
    "import pandas as pd"
   ]
  },
  {
   "cell_type": "code",
   "execution_count": 3,
   "id": "174bb212-8f11-4397-9886-abeb8f6e86c7",
   "metadata": {},
   "outputs": [
    {
     "data": {
      "text/plain": [
       "(3, 2)"
      ]
     },
     "execution_count": 3,
     "metadata": {},
     "output_type": "execute_result"
    }
   ],
   "source": [
    "a = np.array([[1,2],[3,4], [5,6]])\n",
    "a.shape"
   ]
  },
  {
   "cell_type": "code",
   "execution_count": 9,
   "id": "1343f926-09e0-4c9c-acb0-41bc75dce576",
   "metadata": {},
   "outputs": [],
   "source": [
    "def pos_r(x, y, z):\n",
    "    #function to recompute the radius of events due to the posz correction given the x, y and z position\n",
    "    r = np.sqrt(x**2 + y**2 + z**2)\n",
    "    return r"
   ]
  },
  {
   "cell_type": "code",
   "execution_count": 10,
   "id": "42095cfb-5a64-45bb-a677-098185adb831",
   "metadata": {},
   "outputs": [
    {
     "data": {
      "text/plain": [
       "['output;1', 'meta;1']"
      ]
     },
     "execution_count": 10,
     "metadata": {},
     "output_type": "execute_result"
    }
   ],
   "source": [
    "file = uproot.open('/snoplus simulations/reactor_nu/ScintFit_2p2ReactoribdRun_r304956_s0_p2.ntuple.root')\n",
    "file.keys()"
   ]
  },
  {
   "cell_type": "code",
   "execution_count": 11,
   "id": "ab84f5a4-6a01-464f-bac7-4d54f273e9b7",
   "metadata": {
    "scrolled": true
   },
   "outputs": [
    {
     "data": {
      "text/plain": [
       "['runID',\n",
       " 'ratversion',\n",
       " 'mcIndex',\n",
       " 'evIndex',\n",
       " 'mc',\n",
       " 'eventID',\n",
       " 'pdg1',\n",
       " 'pdg2',\n",
       " 'parentpdg1',\n",
       " 'parentpdg2',\n",
       " 'parentKE1',\n",
       " 'parentKE2',\n",
       " 'parentMeta1',\n",
       " 'parentMeta2',\n",
       " 'mcke1',\n",
       " 'mcke2',\n",
       " 'mcmom1x',\n",
       " 'mcmom1y',\n",
       " 'mcmom1z',\n",
       " 'mcmom2x',\n",
       " 'mcmom2y',\n",
       " 'mcmom2z',\n",
       " 'mctime1',\n",
       " 'mctime2',\n",
       " 'mct',\n",
       " 'mcEdep',\n",
       " 'mcEdepQuenched',\n",
       " 'mcNCherPhotons',\n",
       " 'mcPosx',\n",
       " 'mcPosy',\n",
       " 'mcPosz',\n",
       " 'mcPosr',\n",
       " 'nhits',\n",
       " 'owlnhits',\n",
       " 'necknhits',\n",
       " 'nhitsCleaned',\n",
       " 'correctedNhits',\n",
       " 'inTimeHits100',\n",
       " 'inTimeHits20',\n",
       " 'isCal',\n",
       " 'fecdHits',\n",
       " 'q',\n",
       " 'triggerWord',\n",
       " 'tubiiWord',\n",
       " 'dcApplied',\n",
       " 'dcFlagged',\n",
       " 'clockCount10',\n",
       " 'clockCount50',\n",
       " 'uTDays',\n",
       " 'uTSecs',\n",
       " 'uTNSecs',\n",
       " 'scintFit',\n",
       " 'waterFit',\n",
       " 'partialWaterFit',\n",
       " 'partialFit',\n",
       " 'posx_MultiPath',\n",
       " 'posy_MultiPath',\n",
       " 'posz_MultiPath',\n",
       " 'posr_MultiPath',\n",
       " 'time_MultiPath',\n",
       " 'posz_fastZ',\n",
       " 'time_fastZ',\n",
       " 'fitValid',\n",
       " 'fitValidityMask',\n",
       " 'fitValid_MultiPath',\n",
       " 'fitValid_fastZ',\n",
       " 'posx',\n",
       " 'posxPosError',\n",
       " 'posxNegError',\n",
       " 'posy',\n",
       " 'posyPosError',\n",
       " 'posyNegError',\n",
       " 'posz',\n",
       " 'poszPosError',\n",
       " 'poszNegError',\n",
       " 'posr',\n",
       " 'posFOM',\n",
       " 'posFOM2',\n",
       " 'posFOM_Multipath',\n",
       " 'posFOM2_Multipath',\n",
       " 'dirx',\n",
       " 'dirxPosError',\n",
       " 'dirxNegError',\n",
       " 'diry',\n",
       " 'diryPosError',\n",
       " 'diryNegError',\n",
       " 'dirz',\n",
       " 'dirzPosError',\n",
       " 'dirzNegError',\n",
       " 'dirFOM',\n",
       " 'dirFOM2',\n",
       " 'energy',\n",
       " 'energyPosError',\n",
       " 'energyNegError',\n",
       " 'energyFOMmedProb',\n",
       " 'energyFOMmedProbHit',\n",
       " 'energyFOMmedDev',\n",
       " 'energyFOMmedDevHit',\n",
       " 'energyFOMGtest',\n",
       " 'energyFOMUtest',\n",
       " 'penergyEnergy',\n",
       " 'penergyError',\n",
       " 'penergyAEnergy',\n",
       " 'penergyAError',\n",
       " 'penergyCEnergy',\n",
       " 'penergyCError',\n",
       " 'time',\n",
       " 'timePosError',\n",
       " 'timeNegError',\n",
       " 'itr',\n",
       " 'xsite',\n",
       " 'timingPeaks',\n",
       " 'berkeleyAlphaBeta',\n",
       " 'berkeleyAlphaBetaNhit',\n",
       " 'berkeleyAlphaBetaRetrigger',\n",
       " 'thetaij',\n",
       " 'beta14',\n",
       " 'qpdtProbability',\n",
       " 'qpdtNhitsEarly',\n",
       " 'qpdtQMax',\n",
       " 'meanTime',\n",
       " 'earlyTime',\n",
       " 'preTriggerHits',\n",
       " 'isotropyRegions',\n",
       " 'latIsotropyRegions',\n",
       " 'biPoCumul',\n",
       " 'biPoLikelihood212',\n",
       " 'biPoLikelihood214',\n",
       " 'alphaBeta212',\n",
       " 'alphaBeta212_logLTe',\n",
       " 'alphaBeta212_logLBiPo',\n",
       " 'alphaBeta212_BiPoDT',\n",
       " 'alphaBeta212_BiPoER',\n",
       " 'alphaBeta212_Retrigger',\n",
       " 'alphaBeta212_totalNhits',\n",
       " 'alphaBeta214',\n",
       " 'alphaBeta214_logLTe',\n",
       " 'alphaBeta214_logLBiPo',\n",
       " 'alphaBeta214_BiPoDT',\n",
       " 'alphaBeta214_BiPoER',\n",
       " 'alphaBeta214_Retrigger',\n",
       " 'alphaBeta214_totalNhits',\n",
       " 'annR',\n",
       " 'nearAV',\n",
       " 'skyShine',\n",
       " 'topOWLCount',\n",
       " 'tcen_x',\n",
       " 'tcen_y',\n",
       " 'tcen_z',\n",
       " 'ext0NuAngleTl208AV',\n",
       " 'ext0NuAngleTl208HDR',\n",
       " 'ext0NuAngleTl208Exwater',\n",
       " 'ext0NuAnglePMTbg',\n",
       " 'ext0NuTimeTl208AV',\n",
       " 'ext0NuTimeTl208HDR',\n",
       " 'ext0NuTimeTl208ExWater',\n",
       " 'ext0NuTimePMTbg',\n",
       " 'ext0NuTimeTl208AVNaive',\n",
       " 'ext0NuTimeTl208HDRNaive',\n",
       " 'ext0NuTimeTl208ExWaterNaive',\n",
       " 'ext0NuTimePMTbgNaive',\n",
       " 'ext0NuTimeTl208AVOffset',\n",
       " 'ext0NuTimeTl208HDROffset',\n",
       " 'ext0NuTimeTl208ExWaterOffset',\n",
       " 'ext0NuTimePMTbgOffset',\n",
       " 'ext0NuTimeBi214Naive',\n",
       " 'ext0NuTimeBi210Bi214Naive',\n",
       " 'alphaNReactorIBD']"
      ]
     },
     "execution_count": 11,
     "metadata": {},
     "output_type": "execute_result"
    }
   ],
   "source": [
    "output = file['output;1']\n",
    "output.keys()\n",
    "#fitValid - good postion reconstruction\n",
    "#scintFit - good position and energy reconstruction"
   ]
  },
  {
   "cell_type": "markdown",
   "id": "19c9ca41-e727-49b6-8111-b3e785ad914b",
   "metadata": {},
   "source": [
    "## 1 - Extract useful variables"
   ]
  },
  {
   "cell_type": "code",
   "execution_count": 5,
   "id": "22389b0f-7cbf-4246-8290-d3502bb100f2",
   "metadata": {},
   "outputs": [
    {
     "data": {
      "text/plain": [
       "array([304956, 304956, 304956, ..., 304956, 304956, 304956])"
      ]
     },
     "execution_count": 5,
     "metadata": {},
     "output_type": "execute_result"
    }
   ],
   "source": [
    "runID = np.array(output['runID'])\n",
    "runID"
   ]
  },
  {
   "cell_type": "code",
   "execution_count": 12,
   "id": "e20f8629-d635-49ef-a564-fe11305c4de8",
   "metadata": {},
   "outputs": [
    {
     "data": {
      "text/plain": [
       "array([0, 0, 0, ..., 0, 0, 0])"
      ]
     },
     "execution_count": 12,
     "metadata": {},
     "output_type": "execute_result"
    }
   ],
   "source": [
    "neck_nhits = np.array(output['necknhits'])\n",
    "neck_nhits"
   ]
  },
  {
   "cell_type": "code",
   "execution_count": 8,
   "id": "cc16a0cd-7c64-4577-b893-120dfccb1dfb",
   "metadata": {},
   "outputs": [
    {
     "data": {
      "text/plain": [
       "array([846074198065021, 846074198064990, 846074198063998, ...,\n",
       "       846074198064990, 846074198065022, 846074198064990], dtype=uint64)"
      ]
     },
     "execution_count": 8,
     "metadata": {},
     "output_type": "execute_result"
    }
   ],
   "source": [
    "dc_flag = np.array(output['dcFlagged'])\n",
    "dc_flag"
   ]
  },
  {
   "cell_type": "code",
   "execution_count": 9,
   "id": "c8bb4d6c-7c48-4d9a-af3a-fbd5b724da35",
   "metadata": {},
   "outputs": [
    {
     "data": {
      "text/plain": [
       "36283883733698"
      ]
     },
     "execution_count": 9,
     "metadata": {},
     "output_type": "execute_result"
    }
   ],
   "source": [
    "int(0x2100000042C2)"
   ]
  },
  {
   "cell_type": "code",
   "execution_count": 7,
   "id": "38254e6c-71f3-4fd4-98b3-6467c38a914e",
   "metadata": {},
   "outputs": [],
   "source": [
    "#validation info\n",
    "scint_fit = np.array(output['scintFit'])\n",
    "fit_valid = np.array(output['fitValid'])\n",
    "\n",
    "condition = (scint_fit & fit_valid)\n",
    "\n",
    "#event Index\n",
    "evIndex = np.array(output['evIndex'])  #evIndex = 0 is prompt, and evIndex > 0 is delayed and tails of prompt and delayed\n",
    "\n",
    "#recons. energy\n",
    "energy = np.array(output['energy'])\n",
    "\n",
    "#recons. position\n",
    "posx = np.array(output['posx'])\n",
    "posy = np.array(output['posy'])\n",
    "posz = np.array(output['posz']) - 184.4\n",
    "posr = pos_r(posx, posy, posz)\n",
    "\n",
    "#MC info\n",
    "mcID = np.array(output['mcIndex'])\n",
    "mc_posx = np.array(output['mcPosx'])\n",
    "mc_posy = np.array(output['mcPosy'])\n",
    "mc_posz = np.array(output['mcPosz'])\n",
    "mc_posr = np.array(output['mcPosr'])\n",
    "\n",
    "# Time info\n",
    "clock_count50 = np.array(output['clockCount50'], dtype = np.int64)\n",
    "\n",
    "#ev info\n",
    "evID = np.array(output['eventID'])\n",
    "nhits = np.array(output['nhits'])\n",
    "\n",
    "# Extract valid info -> Valid scint_fit -------------\n",
    "\n",
    "evIndex = np.extract(scint_fit, evIndex)\n",
    "\n",
    "mc_posx = np.extract(scint_fit, mc_posx)\n",
    "mc_posy = np.extract(scint_fit, mc_posy)\n",
    "mc_posz = np.extract(scint_fit, mc_posz)\n",
    "\n",
    "posx = np.extract(scint_fit, posx)\n",
    "posy = np.extract(scint_fit, posy)\n",
    "posz = np.extract(scint_fit, posz)\n",
    "posr = np.extract(scint_fit, posr)\n",
    "\n",
    "time = np.extract(scint_fit, (clock_count50*20)/1000)  #convert ns to μs\n",
    "\n",
    "evID = np.extract(scint_fit, evID)\n",
    "\n",
    "energy = np.extract(scint_fit, energy)"
   ]
  },
  {
   "cell_type": "code",
   "execution_count": 13,
   "id": "234115fa-78ce-4c42-9369-1822ae0b4fcb",
   "metadata": {},
   "outputs": [
    {
     "data": {
      "text/plain": [
       "array([4.23114206e+10, 4.23114206e+10, 4.23114208e+10, ...,\n",
       "       4.59092870e+10, 4.59092873e+10, 4.59092873e+10])"
      ]
     },
     "execution_count": 13,
     "metadata": {},
     "output_type": "execute_result"
    }
   ],
   "source": [
    "time"
   ]
  },
  {
   "cell_type": "code",
   "execution_count": 14,
   "id": "9f869585-fbf3-4572-aa3d-ce1d4322967f",
   "metadata": {},
   "outputs": [
    {
     "data": {
      "text/plain": [
       "array([0, 1, 2, ..., 1, 2, 3])"
      ]
     },
     "execution_count": 14,
     "metadata": {},
     "output_type": "execute_result"
    }
   ],
   "source": [
    "evIndex"
   ]
  },
  {
   "cell_type": "code",
   "execution_count": 15,
   "id": "786ef593-2383-405a-9473-1510d36b6638",
   "metadata": {},
   "outputs": [
    {
     "data": {
      "text/plain": [
       "array([   0,    1,    2, ..., 3935, 3936, 3937])"
      ]
     },
     "execution_count": 15,
     "metadata": {},
     "output_type": "execute_result"
    }
   ],
   "source": [
    "evID"
   ]
  },
  {
   "cell_type": "code",
   "execution_count": 16,
   "id": "fd52c778-82a3-4ecb-b006-9d6bfe140192",
   "metadata": {},
   "outputs": [
    {
     "data": {
      "text/plain": [
       "(3938,)"
      ]
     },
     "execution_count": 16,
     "metadata": {},
     "output_type": "execute_result"
    }
   ],
   "source": [
    "evID.shape"
   ]
  },
  {
   "cell_type": "code",
   "execution_count": 17,
   "id": "bb711a04-1df6-41a4-8f1b-3fd79794f3f7",
   "metadata": {},
   "outputs": [
    {
     "data": {
      "text/plain": [
       "array([4.23114206e+10, 4.23114206e+10, 4.23114208e+10, ...,\n",
       "       4.59092870e+10, 4.59092873e+10, 4.59092873e+10])"
      ]
     },
     "execution_count": 17,
     "metadata": {},
     "output_type": "execute_result"
    }
   ],
   "source": [
    "time"
   ]
  },
  {
   "cell_type": "code",
   "execution_count": 18,
   "id": "73cd96a6-abd0-49bc-bc18-e87cb498f3a3",
   "metadata": {},
   "outputs": [
    {
     "data": {
      "text/plain": [
       "(3938,)"
      ]
     },
     "execution_count": 18,
     "metadata": {},
     "output_type": "execute_result"
    }
   ],
   "source": [
    "time.shape"
   ]
  },
  {
   "cell_type": "code",
   "execution_count": 19,
   "id": "166672e8-f6d0-41cd-96ff-d16926de8664",
   "metadata": {},
   "outputs": [
    {
     "data": {
      "text/plain": [
       "array([ 1.76703140e+00, -9.99990000e+04,  1.87130532e+00, ...,\n",
       "       -9.99990000e+04,  2.20032246e+00, -9.99990000e+04])"
      ]
     },
     "execution_count": 19,
     "metadata": {},
     "output_type": "execute_result"
    }
   ],
   "source": [
    "energy"
   ]
  },
  {
   "cell_type": "code",
   "execution_count": 20,
   "id": "0743c105-cbed-4bb0-8183-6ef948edd709",
   "metadata": {},
   "outputs": [
    {
     "data": {
      "text/plain": [
       "(3938,)"
      ]
     },
     "execution_count": 20,
     "metadata": {},
     "output_type": "execute_result"
    }
   ],
   "source": [
    "energy.shape"
   ]
  },
  {
   "cell_type": "code",
   "execution_count": 21,
   "id": "383a5007-9065-402a-b702-91dfccc8b7ba",
   "metadata": {},
   "outputs": [
    {
     "data": {
      "text/plain": [
       "array([ 1587.01477051, -9488.67089844,  1443.8059082 , ...,\n",
       "        1111.68493652,   -73.35767365,  1141.82128906])"
      ]
     },
     "execution_count": 21,
     "metadata": {},
     "output_type": "execute_result"
    }
   ],
   "source": [
    "posx"
   ]
  },
  {
   "cell_type": "code",
   "execution_count": 22,
   "id": "2929eaa5-e216-4347-ae6d-85b7a0594fd7",
   "metadata": {},
   "outputs": [
    {
     "data": {
      "text/plain": [
       "(3938,)"
      ]
     },
     "execution_count": 22,
     "metadata": {},
     "output_type": "execute_result"
    }
   ],
   "source": [
    "posx.shape"
   ]
  },
  {
   "cell_type": "markdown",
   "id": "0484d637-c692-4189-98d7-60f2747ba885",
   "metadata": {},
   "source": [
    "PROBLEMAS:\n",
    "1) Donde esta posr1 y posr2?\n",
    "2) para medir Dt = (time1-time0)*20 definimos time0 = clockCount50, y time1?\n",
    "\n",
    "SOLUCIÓN:\n",
    "Podemos dividir cada IBD en 4 eventos: \n",
    "1) prompt\n",
    "2) nail of prompt\n",
    "3) delayed\n",
    "4) nail of delayed\n",
    "\n",
    "PROBLEMA CON ESTA SOLUCIÓN: Puedo estar mezclando prompts con delayed. Mejor usar eventIndex para separar los eventos"
   ]
  },
  {
   "cell_type": "markdown",
   "id": "85f75640-92fa-437e-9f0b-10edc80a4e1c",
   "metadata": {},
   "source": [
    "## 1.1 - Separation of prompt and delayed Energies with eventIndex"
   ]
  },
  {
   "cell_type": "code",
   "execution_count": 15,
   "id": "50342873-34fa-4a3d-a79b-e15bd61fd6ed",
   "metadata": {},
   "outputs": [],
   "source": [
    "#Code to extract smartly the varibles of each eventIndex and to avoid the -9.999e+4 MeV values. However, this proceduce doesnt guarant the pair matching of prompt and delayed events ...\n",
    "\n",
    "#prefix names of variables\n",
    "prefix_en = 'energy_evin_'\n",
    "#prefix_time = 'time_evin_'\n",
    "#prefix_x = 'pos_x_evin_'\n",
    "#prefix_y = 'pos_x_evin_'\n",
    "#prefix_z = 'pos_x_evin_'\n",
    "\n",
    "#index of variables\n",
    "type_var = np.unique(evIndex)\n",
    "\n",
    "energy_index_i = [] #array with the energies of each eventIndex\n",
    "#time_index_i = []\n",
    "#pos_x_index_i = []\n",
    "#pos_y_index_i = []\n",
    "#pos_z_index_i = []\n",
    "\n",
    "for i in type_var:\n",
    "    \n",
    "    # select eventIndex and energy > 0\n",
    "    condition = ((evIndex == i) & (energy > 0))\n",
    "    \n",
    "    locals()[prefix_en + str(i)] = np.extract(condition, energy)\n",
    "    #locals()[prefix_time + str(i)] = np.extract(condition, time)\n",
    "    #locals()[prefix_x + str(i)] = np.extract(condition, posx)\n",
    "    #locals()[prefix_y + str(i)] = np.extract(condition, posy)\n",
    "    #locals()[prefix_z + str(i)] = np.extract(condition, posz)\n",
    "\n",
    "    # Save the observables of each evIndex within a list which indices are the list of results for each evIndex\n",
    "    energy_index_i.append(locals()[prefix_en + str(i)])\n",
    "    #time_index_i.append(locals()[prefix_time + str(i)])\n",
    "    #pos_x_index_i.append(locals()[prefix_x + str(i)])\n",
    "    #pos_y_index_i.append(locals()[prefix_y + str(i)])\n",
    "    #pos_z_index_i.append(locals()[prefix_z + str(i)])"
   ]
  },
  {
   "cell_type": "code",
   "execution_count": 16,
   "id": "3f9ee4a3-5fa8-4a21-a64b-c3cf3270d6f9",
   "metadata": {},
   "outputs": [
    {
     "data": {
      "image/png": "[encoded data removed]",
      "text/plain": [
       "<Figure size 700x500 with 1 Axes>"
      ]
     },
     "metadata": {},
     "output_type": "display_data"
    }
   ],
   "source": [
    "save_fig = True\n",
    "\n",
    "plot_i = np.unique(evIndex)\n",
    "color_i = ['black', 'b', 'r', 'g']\n",
    "bins_i = [30, 10, 20, 15]\n",
    "\n",
    "plt.figure(figsize=(7,5))\n",
    "\n",
    "for i in plot_i:\n",
    "    sn.histplot(energy_index_i[i], bins = bins_i[i], color = color_i[i], element = 'step', alpha = 0.0, label = 'evIndex = '+str(i))\n",
    "\n",
    "plt.legend(loc = 'upper right')\n",
    "plt.xlabel('Energy (MeV)')\n",
    "plt.yscale('log')\n",
    "plt.title('Energy Distribution of Contributions for IBD event - No energy cut', fontsize = 10)\n",
    "\n",
    "if save_fig:\n",
    "    plt.savefig('figs/Energy Distribution of Contributions for IBD event - No energy cut.png', format = 'png', bbox_inches = 'tight')\n",
    "    \n",
    "plt.show()"
   ]
  },
  {
   "cell_type": "markdown",
   "id": "8e5e282f-a4c9-42e0-9900-2235d67ce70f",
   "metadata": {},
   "source": [
    "NOTES:\n",
    "- The eventIndex 0 and 2 are the prompt and delayed simulated events;\n",
    "- The eventIndex 1 and 3 are the residual energy of the prompt and delayed;\n",
    "- The energy statistics of the delayed event is peaker relatively to the statistics of the prompt event\n",
    "- An energy cut > 1 MeV should keep us away from tails of distributions"
   ]
  },
  {
   "cell_type": "markdown",
   "id": "22a63141-e9d6-4ecd-b32e-6d967ed23682",
   "metadata": {},
   "source": [
    "## 1.2 - Matching Prompt and Delayed\n",
    "\n",
    "Lets guarant that we are keeping the correct pair of delayed events while performing cuts on data"
   ]
  },
  {
   "cell_type": "code",
   "execution_count": 23,
   "id": "ab6c4821-1df8-403b-b4b0-816ab42d8f1a",
   "metadata": {},
   "outputs": [],
   "source": [
    "# Look for the indices of the array elements that verifies evIndex 0 and 2. Guarant that we dont have the same consecutive values of evIndex, and then extract the correct indices of array elements\n",
    "# for then extract the observables of interest.\n",
    "\n",
    "ev_index_condition = (evIndex == 0) | (evIndex == 2) \n",
    "\n",
    "filter_index = np.where(ev_index_condition)[0]  # Indices which verifies the evIndex condition. Useful to look for the energy, time, and position of the desired prompt and delayed\n",
    "\n",
    "test_evindex = evIndex[filter_index]  #This shows that even when we select the evIndex 0 and 2, there are consecutive records with 0 and 2. Lets remove this consecutive values following the rules:\n",
    "                                     #1) if there is zero in i and i+1 indices, remove the i. 2) if there is twos in i and i+1, remove i+1.\n",
    "\n",
    "index_to_del = []  #list of indicies of elements to be removed in filter_index. This is used to correct the filter_index list.\n",
    "\n",
    "for i in range(len(test_evindex)-1):\n",
    "    if test_evindex[i] == 0 and test_evindex[i+1] == 0:\n",
    "        index_to_del.append(i)\n",
    "    if test_evindex[i] == 2 and test_evindex[i+1] == 2:\n",
    "        index_to_del.append(i+1)\n",
    "\n",
    "filter_index = np.delete(filter_index, index_to_del)  #cleaning of the filter_index list\n",
    "\n",
    "# Extract observables and Arange by pairs of prompt and delayed. If there is an error due to non-equal division, then set a condition for the filter_index:\n",
    "evindex_filter = evIndex[filter_index].reshape((-1,2))\n",
    "energy_filter = energy[filter_index].reshape((-1,2))\n",
    "posr_filter = posr[filter_index].reshape((-1,2))\n",
    "posx_filter = posx[filter_index].reshape((-1,2))\n",
    "posy_filter = posy[filter_index].reshape((-1,2))\n",
    "posz_filter = posz[filter_index].reshape((-1,2))\n",
    "time_filter = time[filter_index].reshape((-1,2))"
   ]
  },
  {
   "cell_type": "code",
   "execution_count": 3,
   "id": "f3de68f7-1b87-4c08-a385-a055023d1ad9",
   "metadata": {},
   "outputs": [
    {
     "data": {
      "text/plain": [
       "[1, 2]"
      ]
     },
     "execution_count": 3,
     "metadata": {},
     "output_type": "execute_result"
    }
   ],
   "source": [
    "a = [1,2,3]\n",
    "a[:-1]"
   ]
  },
  {
   "cell_type": "markdown",
   "id": "cf586196-36fb-42a6-95fc-17716579ada3",
   "metadata": {},
   "source": [
    "# 2 - Computation of Observables"
   ]
  },
  {
   "cell_type": "code",
   "execution_count": 24,
   "id": "38d1a56e-63e9-43ab-a43d-4af0310a8825",
   "metadata": {},
   "outputs": [],
   "source": [
    "# Now we are in conditions to apply cuts on energy and position of the events\n",
    "en_cut = 1.0\n",
    "r_cut = 5500\n",
    "\n",
    "cut_condition = (energy_filter >= en_cut) & (posr_filter <= r_cut)\n",
    "\n",
    "mask = np.all(cut_condition, axis = 1)  #evaluates where all the elements of axis 1 (rows) are True\n",
    "\n",
    "#cut values of energy and postions\n",
    "energy_cut = energy_filter[mask]\n",
    "posr_cut = posr_filter[mask]\n",
    "posx_cut = posx_filter[mask]\n",
    "posy_cut = posy_filter[mask]\n",
    "posz_cut = posz_filter[mask]\n",
    "time_cut = time_filter[mask]\n",
    "\n",
    "#extract the information of prompt and delayed\n",
    "#Delta time\n",
    "t0 = time_cut[:,0]\n",
    "t1 = time_cut[:,1]\n",
    "Dt = t1 - t0\n",
    "\n",
    "#Delta r\n",
    "posx_0 = posx_cut[:,0]\n",
    "posy_0 = posy_cut[:,0]\n",
    "posz_0 = posz_cut[:,0]\n",
    "\n",
    "posx_1 = posx_cut[:,1]\n",
    "posy_1 = posy_cut[:,1]\n",
    "posz_1 = posz_cut[:,1]\n",
    "\n",
    "dx = posx_1 - posx_0\n",
    "dy = posy_1 - posy_0\n",
    "dz = posz_1 - posz_0\n",
    "\n",
    "Dr = np.sqrt((dx**2) + (dy**2) + (dz**2))"
   ]
  },
  {
   "cell_type": "markdown",
   "id": "0686cfa1-aad8-4fad-ab17-f4d8e9c38955",
   "metadata": {},
   "source": [
    "## 2.1 - Plots of Observables"
   ]
  },
  {
   "cell_type": "code",
   "execution_count": 25,
   "id": "57b082f0-0a41-445e-8f13-2246dfc4c806",
   "metadata": {},
   "outputs": [
    {
     "name": "stderr",
     "output_type": "stream",
     "text": [
      "<>:17: SyntaxWarning: invalid escape sequence '\\l'\n",
      "<>:17: SyntaxWarning: invalid escape sequence '\\l'\n",
      "C:\\Users\\joanc\\AppData\\Local\\Temp\\ipykernel_17600\\583391243.py:17: SyntaxWarning: invalid escape sequence '\\l'\n",
      "  plt.suptitle(r'Reactor $\\bar{\\nu}$ - E $\\geq$ ' + str(en_cut) + ' (MeV) & R $\\leq$ '+ str(r_cut) + ' (mm)')\n"
     ]
    },
    {
     "data": {
      "image/png": "[encoded data removed]",
      "text/plain": [
       "<Figure size 1500x500 with 2 Axes>"
      ]
     },
     "metadata": {},
     "output_type": "display_data"
    }
   ],
   "source": [
    "save_fig = True\n",
    "\n",
    "bins_t = 30\n",
    "bins_r = 30\n",
    "\n",
    "linewidth = 1.05\n",
    "\n",
    "fig, axes = plt.subplots(1, 2,  figsize=(15, 5))\n",
    "\n",
    "sn.histplot(Dt, bins = bins_t, ax = axes[0], color = 'black', alpha = 0.0, element = 'step', linewidth = linewidth)\n",
    "sn.histplot(Dr, bins = bins_r, ax = axes[1], color = 'black', alpha = 0.0, element = 'step' , linewidth = linewidth)\n",
    "\n",
    "axes[0].set_xlabel(r'$\\Delta$t = t$_{\\text{delayed}}$ - t$_{\\text{prompt}}$ ($\\mu$s)')\n",
    "\n",
    "axes[1].set_xlabel(r'$\\Delta$r (mm)')\n",
    "\n",
    "plt.suptitle(r'Reactor $\\bar{\\nu}$ - E $\\geq$ ' + str(en_cut) + ' (MeV) & R $\\leq$ '+ str(r_cut) + ' (mm)')\n",
    "\n",
    "if save_fig:\n",
    "    plt.savefig('figs/dt_dr_E_{i}MeV_R_{j}mm.png'.format(i = en_cut, j = r_cut), format = 'png', bbox_inches = 'tight')\n",
    "    \n",
    "plt.show()"
   ]
  },
  {
   "cell_type": "markdown",
   "id": "14be960e-cf69-4d8d-9a67-84e57c90ab80",
   "metadata": {},
   "source": [
    "# 3 - Save Informations of Observables in Pandas Dataframe"
   ]
  },
  {
   "cell_type": "code",
   "execution_count": 26,
   "id": "e837c2d9-6e80-4cb8-9254-d22c2239b702",
   "metadata": {},
   "outputs": [],
   "source": [
    "prompt_energy = energy_cut[:,0]\n",
    "delayed_energy = energy_cut[:,1]\n",
    "\n",
    "delta_t = Dt\n",
    "delta_r = Dr\n",
    "\n",
    "data_energy = {'Prompt Energy (MeV)': prompt_energy,\n",
    "        'Delayed Energy (MeV)': delayed_energy\n",
    "        }\n",
    "\n",
    "data_delta = {'Delta t (mcs)': delta_t,\n",
    "              'Delta r (mm)': delta_r\n",
    "             }\n",
    "\n",
    "\n",
    "pandas_data_energy = pd.DataFrame(data_energy)\n",
    "pandas_data_delta = pd.DataFrame(data_delta)\n",
    "\n",
    "\n",
    "pandas_data_energy.to_csv('data/energy_E_1mev_R_5500mm.csv')\n",
    "pandas_data_delta.to_csv('data/delta_(t,r)_1mev_R_5500mm.csv')"
   ]
  },
  {
   "cell_type": "code",
   "execution_count": 27,
   "id": "b8cabd43-fa46-462c-b4b4-ad03cf858d12",
   "metadata": {},
   "outputs": [
    {
     "data": {
      "text/html": [
       "<div>\n",
       "<style scoped>\n",
       "    .dataframe tbody tr th:only-of-type {\n",
       "        vertical-align: middle;\n",
       "    }\n",
       "\n",
       "    .dataframe tbody tr th {\n",
       "        vertical-align: top;\n",
       "    }\n",
       "\n",
       "    .dataframe thead th {\n",
       "        text-align: right;\n",
       "    }\n",
       "</style>\n",
       "<table border=\"1\" class=\"dataframe\">\n",
       "  <thead>\n",
       "    <tr style=\"text-align: right;\">\n",
       "      <th></th>\n",
       "      <th>Unnamed: 0</th>\n",
       "      <th>Delta t (mcs)</th>\n",
       "      <th>Delta r (mm)</th>\n",
       "    </tr>\n",
       "  </thead>\n",
       "  <tbody>\n",
       "    <tr>\n",
       "      <th>0</th>\n",
       "      <td>0</td>\n",
       "      <td>327.500000</td>\n",
       "      <td>662.804452</td>\n",
       "    </tr>\n",
       "    <tr>\n",
       "      <th>1</th>\n",
       "      <td>1</td>\n",
       "      <td>63.000000</td>\n",
       "      <td>163.073634</td>\n",
       "    </tr>\n",
       "    <tr>\n",
       "      <th>2</th>\n",
       "      <td>2</td>\n",
       "      <td>979.299995</td>\n",
       "      <td>1145.159602</td>\n",
       "    </tr>\n",
       "    <tr>\n",
       "      <th>3</th>\n",
       "      <td>3</td>\n",
       "      <td>295.260002</td>\n",
       "      <td>570.227987</td>\n",
       "    </tr>\n",
       "    <tr>\n",
       "      <th>4</th>\n",
       "      <td>4</td>\n",
       "      <td>32.879997</td>\n",
       "      <td>321.679064</td>\n",
       "    </tr>\n",
       "    <tr>\n",
       "      <th>...</th>\n",
       "      <td>...</td>\n",
       "      <td>...</td>\n",
       "      <td>...</td>\n",
       "    </tr>\n",
       "    <tr>\n",
       "      <th>675</th>\n",
       "      <td>675</td>\n",
       "      <td>50.320000</td>\n",
       "      <td>391.835320</td>\n",
       "    </tr>\n",
       "    <tr>\n",
       "      <th>676</th>\n",
       "      <td>676</td>\n",
       "      <td>202.360001</td>\n",
       "      <td>235.587470</td>\n",
       "    </tr>\n",
       "    <tr>\n",
       "      <th>677</th>\n",
       "      <td>677</td>\n",
       "      <td>64.459999</td>\n",
       "      <td>345.363548</td>\n",
       "    </tr>\n",
       "    <tr>\n",
       "      <th>678</th>\n",
       "      <td>678</td>\n",
       "      <td>359.480003</td>\n",
       "      <td>700.739996</td>\n",
       "    </tr>\n",
       "    <tr>\n",
       "      <th>679</th>\n",
       "      <td>679</td>\n",
       "      <td>302.860001</td>\n",
       "      <td>267.048715</td>\n",
       "    </tr>\n",
       "  </tbody>\n",
       "</table>\n",
       "<p>680 rows × 3 columns</p>\n",
       "</div>"
      ],
      "text/plain": [
       "     Unnamed: 0  Delta t (mcs)  Delta r (mm)\n",
       "0             0     327.500000    662.804452\n",
       "1             1      63.000000    163.073634\n",
       "2             2     979.299995   1145.159602\n",
       "3             3     295.260002    570.227987\n",
       "4             4      32.879997    321.679064\n",
       "..          ...            ...           ...\n",
       "675         675      50.320000    391.835320\n",
       "676         676     202.360001    235.587470\n",
       "677         677      64.459999    345.363548\n",
       "678         678     359.480003    700.739996\n",
       "679         679     302.860001    267.048715\n",
       "\n",
       "[680 rows x 3 columns]"
      ]
     },
     "execution_count": 27,
     "metadata": {},
     "output_type": "execute_result"
    }
   ],
   "source": [
    "pd.read_csv('data/delta_(t,r)_1mev_R_5500mm.csv')"
   ]
  },
  {
   "cell_type": "markdown",
   "id": "239f51cf-94b8-4192-8a1b-7ef94a3274d3",
   "metadata": {
    "jp-MarkdownHeadingCollapsed": true
   },
   "source": [
    "### *Observe the energy distribution just removing the atypical E values\n",
    "\n",
    "It will be useful if one desires to preserve the ordering of the events, because the above analisis implies to combine events which may not correspondo to a complete anti-nu event. Thr idea is to, in first place, order the events without any cut, and then remove the atypical values from the data set once the events are ordered."
   ]
  },
  {
   "cell_type": "markdown",
   "id": "3ced3897-b579-408e-8b53-e814f4180001",
   "metadata": {},
   "source": [
    "# 4 - Hight Statistical Analysis"
   ]
  },
  {
   "cell_type": "code",
   "execution_count": 2,
   "id": "a33be554-7084-451a-add5-d42784558f0a",
   "metadata": {},
   "outputs": [
    {
     "name": "stdout",
     "output_type": "stream",
     "text": [
      "reading file /snoplus simulations/reactor_nu\\ScintFit_2p2ReactoribdRun_r300000_s0_p0.ntuple.root\n",
      "reading file /snoplus simulations/reactor_nu\\ScintFit_2p2ReactoribdRun_r300001_s0_p0.ntuple.root\n",
      "reading file /snoplus simulations/reactor_nu\\ScintFit_2p2ReactoribdRun_r300002_s0_p0.ntuple.root\n"
     ]
    },
    {
     "name": "stderr",
     "output_type": "stream",
     "text": [
      "C:\\Users\\joanc\\jupyter notebooks\\Antineutrino Analysis\\Reactor nu\\analysis_antinu.py:95: FutureWarning: The behavior of DataFrame concatenation with empty or all-NA entries is deprecated. In a future version, this will no longer exclude empty or all-NA columns when determining the result dtypes. To retain the old behavior, exclude the relevant entries before the concat operation.\n",
      "  df = pd.concat([df, df_i], ignore_index=True)\n"
     ]
    },
    {
     "name": "stdout",
     "output_type": "stream",
     "text": [
      "reading file /snoplus simulations/reactor_nu\\ScintFit_2p2ReactoribdRun_r300003_s0_p0.ntuple.root\n",
      "reading file /snoplus simulations/reactor_nu\\ScintFit_2p2ReactoribdRun_r300004_s0_p0.ntuple.root\n",
      "reading file /snoplus simulations/reactor_nu\\ScintFit_2p2ReactoribdRun_r300005_s0_p0.ntuple.root\n",
      "reading file /snoplus simulations/reactor_nu\\ScintFit_2p2ReactoribdRun_r300006_s0_p0.ntuple.root\n",
      "reading file /snoplus simulations/reactor_nu\\ScintFit_2p2ReactoribdRun_r300007_s0_p0.ntuple.root\n",
      "reading file /snoplus simulations/reactor_nu\\ScintFit_2p2ReactoribdRun_r300008_s0_p0.ntuple.root\n",
      "reading file /snoplus simulations/reactor_nu\\ScintFit_2p2ReactoribdRun_r300009_s0_p0.ntuple.root\n",
      "reading file /snoplus simulations/reactor_nu\\ScintFit_2p2ReactoribdRun_r300010_s0_p0.ntuple.root\n",
      "reading file /snoplus simulations/reactor_nu\\ScintFit_2p2ReactoribdRun_r300011_s0_p0.ntuple.root\n",
      "reading file /snoplus simulations/reactor_nu\\ScintFit_2p2ReactoribdRun_r300012_s0_p0.ntuple.root\n",
      "reading file /snoplus simulations/reactor_nu\\ScintFit_2p2ReactoribdRun_r300013_s0_p0.ntuple.root\n",
      "reading file /snoplus simulations/reactor_nu\\ScintFit_2p2ReactoribdRun_r300014_s0_p0.ntuple.root\n",
      "reading file /snoplus simulations/reactor_nu\\ScintFit_2p2ReactoribdRun_r300015_s0_p0.ntuple.root\n",
      "reading file /snoplus simulations/reactor_nu\\ScintFit_2p2ReactoribdRun_r300016_s0_p0.ntuple.root\n",
      "reading file /snoplus simulations/reactor_nu\\ScintFit_2p2ReactoribdRun_r300017_s0_p0.ntuple.root\n",
      "reading file /snoplus simulations/reactor_nu\\ScintFit_2p2ReactoribdRun_r300018_s0_p0.ntuple.root\n",
      "reading file /snoplus simulations/reactor_nu\\ScintFit_2p2ReactoribdRun_r300019_s0_p0.ntuple.root\n",
      "reading file /snoplus simulations/reactor_nu\\ScintFit_2p2ReactoribdRun_r300020_s0_p0.ntuple.root\n",
      "reading file /snoplus simulations/reactor_nu\\ScintFit_2p2ReactoribdRun_r300021_s0_p0.ntuple.root\n",
      "reading file /snoplus simulations/reactor_nu\\ScintFit_2p2ReactoribdRun_r300022_s0_p0.ntuple.root\n",
      "reading file /snoplus simulations/reactor_nu\\ScintFit_2p2ReactoribdRun_r300023_s0_p0.ntuple.root\n",
      "reading file /snoplus simulations/reactor_nu\\ScintFit_2p2ReactoribdRun_r300024_s0_p0.ntuple.root\n",
      "reading file /snoplus simulations/reactor_nu\\ScintFit_2p2ReactoribdRun_r300025_s0_p0.ntuple.root\n",
      "reading file /snoplus simulations/reactor_nu\\ScintFit_2p2ReactoribdRun_r300026_s0_p0.ntuple.root\n",
      "reading file /snoplus simulations/reactor_nu\\ScintFit_2p2ReactoribdRun_r300027_s0_p0.ntuple.root\n",
      "reading file /snoplus simulations/reactor_nu\\ScintFit_2p2ReactoribdRun_r300028_s0_p0.ntuple.root\n",
      "reading file /snoplus simulations/reactor_nu\\ScintFit_2p2ReactoribdRun_r300029_s0_p0.ntuple.root\n",
      "reading file /snoplus simulations/reactor_nu\\ScintFit_2p2ReactoribdRun_r304956_s0_p2.ntuple.root\n"
     ]
    }
   ],
   "source": [
    "new_data = False  #Turn true only to rewrite the full_data file!\n",
    "\n",
    "import analysis_antinu\n",
    "if new_data:\n",
    "    analysis_antinu\n",
    "\n",
    "import Dt_Dr\n",
    "from Dt_Dr import Dt_Dr"
   ]
  },
  {
   "cell_type": "code",
   "execution_count": 3,
   "id": "27446115-4ef7-4765-b1a1-6cc4b8677e41",
   "metadata": {},
   "outputs": [
    {
     "data": {
      "text/html": [
       "<div>\n",
       "<style scoped>\n",
       "    .dataframe tbody tr th:only-of-type {\n",
       "        vertical-align: middle;\n",
       "    }\n",
       "\n",
       "    .dataframe tbody tr th {\n",
       "        vertical-align: top;\n",
       "    }\n",
       "\n",
       "    .dataframe thead th {\n",
       "        text-align: right;\n",
       "    }\n",
       "</style>\n",
       "<table border=\"1\" class=\"dataframe\">\n",
       "  <thead>\n",
       "    <tr style=\"text-align: right;\">\n",
       "      <th></th>\n",
       "      <th>Dt (mcs)</th>\n",
       "      <th>Dr (mm)</th>\n",
       "    </tr>\n",
       "  </thead>\n",
       "  <tbody>\n",
       "    <tr>\n",
       "      <th>0</th>\n",
       "      <td>94.040009</td>\n",
       "      <td>269.208651</td>\n",
       "    </tr>\n",
       "    <tr>\n",
       "      <th>1</th>\n",
       "      <td>4.919983</td>\n",
       "      <td>368.764447</td>\n",
       "    </tr>\n",
       "    <tr>\n",
       "      <th>2</th>\n",
       "      <td>145.940002</td>\n",
       "      <td>286.222398</td>\n",
       "    </tr>\n",
       "    <tr>\n",
       "      <th>3</th>\n",
       "      <td>11.500000</td>\n",
       "      <td>199.386492</td>\n",
       "    </tr>\n",
       "    <tr>\n",
       "      <th>4</th>\n",
       "      <td>116.199982</td>\n",
       "      <td>851.859367</td>\n",
       "    </tr>\n",
       "    <tr>\n",
       "      <th>...</th>\n",
       "      <td>...</td>\n",
       "      <td>...</td>\n",
       "    </tr>\n",
       "    <tr>\n",
       "      <th>20476</th>\n",
       "      <td>50.320000</td>\n",
       "      <td>391.835320</td>\n",
       "    </tr>\n",
       "    <tr>\n",
       "      <th>20477</th>\n",
       "      <td>202.360001</td>\n",
       "      <td>235.587470</td>\n",
       "    </tr>\n",
       "    <tr>\n",
       "      <th>20478</th>\n",
       "      <td>64.459999</td>\n",
       "      <td>345.363548</td>\n",
       "    </tr>\n",
       "    <tr>\n",
       "      <th>20479</th>\n",
       "      <td>359.480003</td>\n",
       "      <td>700.739996</td>\n",
       "    </tr>\n",
       "    <tr>\n",
       "      <th>20480</th>\n",
       "      <td>302.860001</td>\n",
       "      <td>267.048715</td>\n",
       "    </tr>\n",
       "  </tbody>\n",
       "</table>\n",
       "<p>20481 rows × 2 columns</p>\n",
       "</div>"
      ],
      "text/plain": [
       "         Dt (mcs)     Dr (mm)\n",
       "0       94.040009  269.208651\n",
       "1        4.919983  368.764447\n",
       "2      145.940002  286.222398\n",
       "3       11.500000  199.386492\n",
       "4      116.199982  851.859367\n",
       "...           ...         ...\n",
       "20476   50.320000  391.835320\n",
       "20477  202.360001  235.587470\n",
       "20478   64.459999  345.363548\n",
       "20479  359.480003  700.739996\n",
       "20480  302.860001  267.048715\n",
       "\n",
       "[20481 rows x 2 columns]"
      ]
     },
     "execution_count": 3,
     "metadata": {},
     "output_type": "execute_result"
    }
   ],
   "source": [
    "en_cut = 0.8\n",
    "r_cut = 5500\n",
    "\n",
    "data = Dt_Dr(en_cut = en_cut, r_cut = r_cut)\n",
    "data"
   ]
  },
  {
   "cell_type": "code",
   "execution_count": 4,
   "id": "5703ac70-43dc-4af6-99b2-0521fc4ef73a",
   "metadata": {},
   "outputs": [],
   "source": [
    "Dt = data['Dt (mcs)']\n",
    "Dr = data['Dr (mm)']"
   ]
  },
  {
   "cell_type": "code",
   "execution_count": 9,
   "id": "9e9c958e-ec89-4751-a5bb-5b11d8943e24",
   "metadata": {},
   "outputs": [
    {
     "name": "stderr",
     "output_type": "stream",
     "text": [
      "<>:19: SyntaxWarning: invalid escape sequence '\\l'\n",
      "<>:19: SyntaxWarning: invalid escape sequence '\\l'\n",
      "C:\\Users\\joanc\\AppData\\Local\\Temp\\ipykernel_11236\\2906936229.py:19: SyntaxWarning: invalid escape sequence '\\l'\n",
      "  plt.suptitle(r'Reactor $\\bar{\\nu}$ - E $\\geq$ ' + str(en_cut) + ' (MeV) & R $\\leq$ '+ str(r_cut) + ' (mm)')\n"
     ]
    },
    {
     "data": {
      "image/png": "[encoded data removed]",
      "text/plain": [
       "<Figure size 1500x500 with 2 Axes>"
      ]
     },
     "metadata": {},
     "output_type": "display_data"
    }
   ],
   "source": [
    "save_fig = True\n",
    "\n",
    "bins_t = 50\n",
    "bins_r = 50\n",
    "\n",
    "linewidth = 1.05\n",
    "\n",
    "fig, axes = plt.subplots(1, 2,  figsize=(15, 5))\n",
    "\n",
    "sn.histplot(Dt, bins = bins_t, ax = axes[0], color = 'black', alpha = 0.0, element = 'step', linewidth = linewidth)\n",
    "sn.histplot(Dr, bins = bins_r, ax = axes[1], color = 'black', alpha = 0.0, element = 'step' , linewidth = linewidth)\n",
    "\n",
    "axes[0].set_xlabel(r'$\\Delta$t = t$_{\\text{delayed}}$ - t$_{\\text{prompt}}$ ($\\mu$s)')\n",
    "\n",
    "axes[1].set_xlabel(r'$\\Delta$r (mm)')\n",
    "#axes[1].set_xlim(800,1400)\n",
    "#axes[1].set_yscale('log')\n",
    "\n",
    "plt.suptitle(r'Reactor $\\bar{\\nu}$ - E $\\geq$ ' + str(en_cut) + ' (MeV) & R $\\leq$ '+ str(r_cut) + ' (mm)')\n",
    "\n",
    "if save_fig:\n",
    "    plt.savefig('figs/dt_dr_E_{i}MeV_R_{j}mm.png'.format(i = en_cut, j = r_cut), format = 'png', bbox_inches = 'tight')\n",
    "    \n",
    "plt.show()"
   ]
  },
  {
   "cell_type": "code",
   "execution_count": 79,
   "id": "293106f6-ceb9-443e-aa49-428ffe008c2e",
   "metadata": {},
   "outputs": [
    {
     "name": "stdout",
     "output_type": "stream",
     "text": [
      "Eliminating elements which are not short ar 4 elements by group\n",
      "Eliminating elements which are not short ar 4 elements by group\n"
     ]
    }
   ],
   "source": [
    "energy_test = energy.copy()\n",
    "\n",
    "N_ev = 4 # Nº of desired events in each group\n",
    "N_group = int(len(energy_test)/N_ev) # Nº of groups to be created. Nº of splits.\n",
    "\n",
    "#The following avoid the error of non-equal divided arrays. So lets delete the latest events which cannot by sort to a group of 4 records.\n",
    "\n",
    "limiter = True\n",
    "while limiter:\n",
    "    \n",
    "    try:\n",
    "        energy_group = np.split(energy_test, N_group)\n",
    "        \n",
    "    except ValueError:\n",
    "        print('Eliminating elements which are not short ar 4 elements by group')\n",
    "        energy_test = np.delete(energy_test, -1)\n",
    "        \n",
    "    else:\n",
    "        limiter = False\n",
    "\n",
    "energy_group = np.array(energy_group)"
   ]
  },
  {
   "cell_type": "code",
   "execution_count": 80,
   "id": "c328a3ff-232f-48df-80b4-837e4c20bb07",
   "metadata": {},
   "outputs": [
    {
     "data": {
      "text/plain": [
       "array([[ 1.76703140e+00, -9.99990000e+04,  1.87130532e+00,\n",
       "        -9.99990000e+04],\n",
       "       [ 5.56501013e+00,  6.00208299e-02,  2.22836997e+00,\n",
       "         3.74664342e-02],\n",
       "       [ 4.50908144e+00, -9.99990000e+04, -9.99990000e+04,\n",
       "         2.20794576e+00],\n",
       "       ...,\n",
       "       [ 2.12960728e+00,  3.48557183e-02,  2.04057777e+00,\n",
       "        -9.99990000e+04],\n",
       "       [ 2.24164492e+00, -9.99990000e+04,  3.36224362e+00,\n",
       "        -9.99990000e+04],\n",
       "       [ 2.18170017e+00, -9.99990000e+04,  3.12696786e+00,\n",
       "        -9.99990000e+04]])"
      ]
     },
     "execution_count": 80,
     "metadata": {},
     "output_type": "execute_result"
    }
   ],
   "source": [
    "energy_group"
   ]
  },
  {
   "cell_type": "code",
   "execution_count": 81,
   "id": "a83d7c83-5609-4164-a73e-3b8d4ab5fcce",
   "metadata": {},
   "outputs": [],
   "source": [
    "prompt_condition = (energy_group[:,0] >= 0.8)\n",
    "delay_condition = (energy_group[:,2] >= 0.8)\n",
    "\n",
    "E_prompt = np.extract(prompt_condition, energy_group[:,0])\n",
    "E_delay = np.extract(delay_condition, energy_group[:,2])"
   ]
  },
  {
   "cell_type": "code",
   "execution_count": 88,
   "id": "c8b337d9-c2b4-411f-96f9-2a868fca987d",
   "metadata": {},
   "outputs": [
    {
     "data": {
      "image/png": "[encoded data removed]",
      "text/plain": [
       "<Figure size 640x480 with 1 Axes>"
      ]
     },
     "metadata": {},
     "output_type": "display_data"
    }
   ],
   "source": [
    "sn.histplot(E_prompt, bins = 50, color = 'r', element = 'step', alpha = 0, label = 'prompt?')\n",
    "sn.histplot(E_delay, bins = 50, color = 'b', element = 'step', alpha = 0, label = 'delayed?')\n",
    "plt.legend(loc='upper right')\n",
    "plt.xlabel('Energy (MeV)')\n",
    "plt.title(r'E $\\geq$ 0.8 MeV')\n",
    "plt.show()"
   ]
  },
  {
   "cell_type": "code",
   "execution_count": 59,
   "id": "97ec424a-60a3-4b49-b781-d7656885b33c",
   "metadata": {},
   "outputs": [],
   "source": [
    "arr = np.load('E:/Data/antinu/mc/reactor_nu/out_results/output_0/energy_prompt.npy')"
   ]
  },
  {
   "cell_type": "code",
   "execution_count": 60,
   "id": "dc26f1ac-c5c1-4b93-94ac-bda7a88e38a7",
   "metadata": {},
   "outputs": [
    {
     "data": {
      "image/png": "[encoded data removed]",
      "text/plain": [
       "<Figure size 640x480 with 1 Axes>"
      ]
     },
     "metadata": {},
     "output_type": "display_data"
    }
   ],
   "source": [
    "sn.histplot(arr[arr<8], bins = 50)\n",
    "plt.show()"
   ]
  },
  {
   "cell_type": "code",
   "execution_count": null,
   "id": "5d2c901d-5b15-4bc1-914c-114a2a35b38e",
   "metadata": {},
   "outputs": [],
   "source": []
  }
 ],
 "metadata": {
  "kernelspec": {
   "display_name": "Python 3 (ipykernel)",
   "language": "python",
   "name": "python3"
  },
  "language_info": {
   "codemirror_mode": {
    "name": "ipython",
    "version": 3
   },
   "file_extension": ".py",
   "mimetype": "text/x-python",
   "name": "python",
   "nbconvert_exporter": "python",
   "pygments_lexer": "ipython3",
   "version": "3.12.2"
  }
 },
 "nbformat": 4,
 "nbformat_minor": 5
}
