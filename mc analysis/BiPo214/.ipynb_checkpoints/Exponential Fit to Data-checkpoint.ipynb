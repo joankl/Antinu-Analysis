{
 "cells": [
  {
   "cell_type": "code",
   "execution_count": 11,
   "id": "a11f4242-f027-4220-832d-812aed72af35",
   "metadata": {},
   "outputs": [],
   "source": [
    "import numpy as np\n",
    "import uproot\n",
    "\n",
    "import matplotlib.pyplot as plt\n",
    "import seaborn as sn\n",
    "\n",
    "from lmfit import Model"
   ]
  },
  {
   "cell_type": "code",
   "execution_count": 12,
   "id": "c9e16f74-44eb-4661-847e-09486d7b0e00",
   "metadata": {},
   "outputs": [],
   "source": [
    "def pos_r(x, y, z):\n",
    "    #function to recompute the radius of events due to the posz correction given the x, y and z position\n",
    "    r = np.sqrt(x**2 + y**2 + z**2)\n",
    "    return r"
   ]
  },
  {
   "cell_type": "code",
   "execution_count": 13,
   "id": "15af0bde-4074-4699-add8-1fb58bca69ab",
   "metadata": {},
   "outputs": [
    {
     "data": {
      "text/plain": [
       "['output;1', 'meta;1']"
      ]
     },
     "execution_count": 13,
     "metadata": {},
     "output_type": "execute_result"
    }
   ],
   "source": [
    "file = uproot.open('/snoplus simulations/BiPo214/ScintFit_2p2Bipo214Run_r303060_s0_p0.ntuple.root')\n",
    "file.keys()"
   ]
  },
  {
   "cell_type": "code",
   "execution_count": 14,
   "id": "a04cb599-cff9-4680-bc31-4bb5a6b81a2e",
   "metadata": {},
   "outputs": [],
   "source": [
    "output = file['output;1']"
   ]
  },
  {
   "cell_type": "markdown",
   "id": "02af2200-441e-4969-8002-d40b0b573587",
   "metadata": {},
   "source": [
    "# 1 - Extract useful variables"
   ]
  },
  {
   "cell_type": "code",
   "execution_count": 15,
   "id": "2c44d8d7-7087-42df-be2d-cbf366658218",
   "metadata": {},
   "outputs": [],
   "source": [
    "#validation info\n",
    "scint_fit = np.array(output['scintFit'])\n",
    "\n",
    "#event Index\n",
    "evIndex = np.array(output['evIndex'])  #evIndex = 0 is prompt, and evIndex > 0 is delayed and tails of prompt and delayed\n",
    "\n",
    "#recons. energy\n",
    "energy = np.array(output['energy'])\n",
    "\n",
    "#recons. position\n",
    "posx = np.array(output['posx'])\n",
    "posy = np.array(output['posy'])\n",
    "posz = np.array(output['posz']) - 184.4\n",
    "posr = pos_r(posx, posy, posz)\n",
    "\n",
    "#MC info\n",
    "mcID = np.array(output['mcIndex'])\n",
    "mc_posx = np.array(output['mcPosx'])\n",
    "mc_posy = np.array(output['mcPosy'])\n",
    "mc_posz = np.array(output['mcPosz'])\n",
    "mc_posr = np.array(output['mcPosr'])\n",
    "\n",
    "# Time info\n",
    "clock_count50 = np.array(output['clockCount50'], dtype = np.int64)\n",
    "\n",
    "#ev info\n",
    "evID = np.array(output['eventID'])\n",
    "nhits = np.array(output['nhits'])\n",
    "\n",
    "# Extract valid info -> Valid scint_fit -------------\n",
    "\n",
    "evIndex = np.extract(scint_fit, evIndex)\n",
    "\n",
    "mc_posx = np.extract(scint_fit, mc_posx)\n",
    "mc_posy = np.extract(scint_fit, mc_posy)\n",
    "mc_posz = np.extract(scint_fit, mc_posz)\n",
    "\n",
    "posx = np.extract(scint_fit, posx)\n",
    "posy = np.extract(scint_fit, posy)\n",
    "posz = np.extract(scint_fit, posz)\n",
    "posr = np.extract(scint_fit, posr)\n",
    "\n",
    "time = np.extract(scint_fit, (clock_count50*20)/1000)  #convert ns to μs\n",
    "\n",
    "evID = np.extract(scint_fit, evID)\n",
    "\n",
    "energy = np.extract(scint_fit, energy)"
   ]
  },
  {
   "cell_type": "markdown",
   "id": "6e0775b2-b5df-4037-9dac-4480955a5f6b",
   "metadata": {},
   "source": [
    "# 2 - Procedure to Select the Correct Pairs of prompt and Delayed with cuts"
   ]
  },
  {
   "cell_type": "code",
   "execution_count": 16,
   "id": "a9c230b8-d27e-4b96-9576-26eddce86e84",
   "metadata": {},
   "outputs": [],
   "source": [
    "#Cuts ----------------\n",
    "energy_cut = 0.5\n",
    "radial_cut = 5500\n",
    "#---------------------\n",
    "\n",
    "# Look for the indices of the array elements that verifies evIndex 0 and 2. Guarant that we dont have the same consecutive values of evIndex, and then extract the correct indices of array elements\n",
    "# for then extract the observables of interest.\n",
    "\n",
    "ev_index_condition = (evIndex == 0) | (evIndex == 2)\n",
    "\n",
    "filter_index = np.where(ev_index_condition)[0]  # Indices which verifies the evIndex condition. Useful to look for the energy, time, and position of the desired prompt and delayed\n",
    "\n",
    "test_evindex = evIndex[filter_index]  #This shows that even when we select the evIndex 0 and 2, there are consecutive records with 0 and 2. Lets remove this consecutive values following the rules:\n",
    "                                     #1) if there is zero in i and i+1 indices, remove the i. 2) if there is twos in i and i+1, remove i+1.\n",
    "\n",
    "index_to_del = []  #list of indicies of elements to be removed in filter_index. This is used to correct the filter_index list.\n",
    "\n",
    "for i in range(len(test_evindex)-1):\n",
    "    if test_evindex[i] == 0 and test_evindex[i+1] == 0:\n",
    "        index_to_del.append(i)\n",
    "    if test_evindex[i] == 2 and test_evindex[i+1] == 2:\n",
    "        index_to_del.append(i+1)\n",
    "\n",
    "filter_index = np.delete(filter_index, index_to_del)  #cleaning of the filter_index list\n",
    "\n",
    "# Extract observables and Arange by pairs of prompt and delayed. If there is an error due to non-equal division, then set a condition for the filter_index:\n",
    "evindex_filter = evIndex[filter_index].reshape((-1,2))\n",
    "energy_filter = energy[filter_index].reshape((-1,2))\n",
    "posr_filter = posr[filter_index].reshape((-1,2))\n",
    "posx_filter = posx[filter_index].reshape((-1,2))\n",
    "posy_filter = posy[filter_index].reshape((-1,2))\n",
    "posz_filter = posz[filter_index].reshape((-1,2))\n",
    "time_filter = time[filter_index].reshape((-1,2))\n",
    "\n",
    "#Energy and radial cut\n",
    "cut_condition = (energy_filter >= energy_cut) & (posr_filter <= radial_cut)\n",
    "\n",
    "mask = np.all(cut_condition, axis = 1)  #evaluates where all the elements of axis 1 (rows) are True\n",
    "\n",
    "#cut values of energy and postions\n",
    "energy_cut = energy_filter[mask]\n",
    "posr_cut = posr_filter[mask]\n",
    "posx_cut = posx_filter[mask]\n",
    "posy_cut = posy_filter[mask]\n",
    "posz_cut = posz_filter[mask]\n",
    "time_cut = time_filter[mask]\n",
    "\n",
    "#extract the information of prompt and delayed\n",
    "#Compute Delta time\n",
    "t0 = time_cut[:,0]\n",
    "t1 = time_cut[:,1]\n",
    "Dt = t1 - t0\n",
    "\n",
    "#Compute Delta r\n",
    "posx_0 = posx_cut[:,0]\n",
    "posy_0 = posy_cut[:,0]\n",
    "posz_0 = posz_cut[:,0]\n",
    "\n",
    "posx_1 = posx_cut[:,1]\n",
    "posy_1 = posy_cut[:,1]\n",
    "posz_1 = posz_cut[:,1]\n",
    "\n",
    "dx = posx_1 - posx_0\n",
    "dy = posy_1 - posy_0\n",
    "dz = posz_1 - posz_0\n",
    "\n",
    "Dr = np.sqrt((dx**2) + (dy**2) + (dz**2))"
   ]
  },
  {
   "cell_type": "markdown",
   "id": "bf5adab8-8885-4b3b-9c92-9cad47cedbd8",
   "metadata": {},
   "source": [
    "# 3 - Proceed with the Exponential fit"
   ]
  },
  {
   "cell_type": "markdown",
   "id": "6c0e640b-5d70-4af1-a1cf-85e2175da692",
   "metadata": {},
   "source": [
    "## *Fit funtion"
   ]
  },
  {
   "cell_type": "code",
   "execution_count": 17,
   "id": "92d87ff8-0604-479e-a46e-16b2fd54f842",
   "metadata": {},
   "outputs": [],
   "source": [
    "def fit_exp(x, n0, lambda_):\n",
    "    return n0 * np.exp(lambda_ * x)"
   ]
  },
  {
   "cell_type": "markdown",
   "id": "37650993-f245-47ea-8611-e19865df14a0",
   "metadata": {},
   "source": [
    "## 3.1 - Extract the Data Points"
   ]
  },
  {
   "cell_type": "code",
   "execution_count": 18,
   "id": "f597960e-2019-4357-921e-46b3c9914cfc",
   "metadata": {},
   "outputs": [],
   "source": [
    "bins_t = 30\n",
    "\n",
    "counts, bins_edge = np.histogram(Dt, bins = bins_t)\n",
    "\n",
    "#Counts are y-axis values and bins_center are x_axis values\n",
    "bins_center = (bins_edge[:-1] + bins_edge[1:]) / 2\n",
    "bins_center = np.round(bins_center, decimals = 2)"
   ]
  },
  {
   "cell_type": "markdown",
   "id": "eb83fa7f-4799-47e9-9593-70ee86a3109a",
   "metadata": {},
   "source": [
    "## 3.2 - Perform the fit"
   ]
  },
  {
   "cell_type": "code",
   "execution_count": 19,
   "id": "6f1f0fed-6dd1-4911-8902-a650f60e8c71",
   "metadata": {},
   "outputs": [
    {
     "name": "stdout",
     "output_type": "stream",
     "text": [
      "[[Model]]\n",
      "    Model(fit_exp)\n",
      "[[Fit Statistics]]\n",
      "    # fitting method   = leastsq\n",
      "    # function evals   = 59\n",
      "    # data points      = 30\n",
      "    # variables        = 2\n",
      "    chi-square         = 4835.52137\n",
      "    reduced chi-square = 172.697192\n",
      "    Akaike info crit   = 156.476406\n",
      "    Bayesian info crit = 159.278800\n",
      "    R-squared          = 0.99518180\n",
      "[[Variables]]\n",
      "    n0:       875.327649 +/- 14.6937832 (1.68%) (init = 1)\n",
      "    lambda_: -0.00408810 +/- 9.5967e-05 (2.35%) (init = 0.006666667)\n",
      "[[Correlations]] (unreported correlations are < 0.100)\n",
      "    C(n0, lambda_) = -0.7243\n"
     ]
    }
   ],
   "source": [
    "y = counts\n",
    "x = bins_center\n",
    "\n",
    "fit_model = Model(fit_exp)\n",
    "result = fit_model.fit(y, x=x, n0 = 1, lambda_ = 1/150)\n",
    "\n",
    "n0 = result.best_values['n0']\n",
    "lambda_ = result.best_values['lambda_']\n",
    "\n",
    "lambda_err = result.params['lambda_'].stderr\n",
    "n0_err = result.params['n0'].stderr\n",
    "\n",
    "tau = -1/lambda_\n",
    "tau_err = lambda_err/(lambda_**2)  #error propagation\n",
    "tau \n",
    "\n",
    "print(result.fit_report())"
   ]
  },
  {
   "cell_type": "code",
   "execution_count": 21,
   "id": "39a60cfb-534c-4ab3-beb9-0b031553e62f",
   "metadata": {},
   "outputs": [
    {
     "data": {
      "image/png": "[encoded data removed]",
      "text/plain": [
       "<Figure size 800x600 with 1 Axes>"
      ]
     },
     "metadata": {},
     "output_type": "display_data"
    }
   ],
   "source": [
    "tau = np.round(tau, 0)\n",
    "tau_err = np.round(tau_err, 0)\n",
    "\n",
    "n0 = np.round(n0, 0)\n",
    "n0_err = np.round(n0_err, 0)\n",
    "\n",
    "save_fig = True\n",
    "\n",
    "plt.figure(figsize=(8,6))\n",
    "\n",
    "sn.histplot(Dt, bins = bins_t, color = 'black', alpha = 0.0, element = 'step')\n",
    "plt.scatter(x = bins_center, y =counts, color = 'r', marker='.')\n",
    "plt.plot(x, result.best_fit, label = r'fit N$_0$e$^{-\\lambda x}$')\n",
    "plt.legend(loc = 'upper right')\n",
    "plt.xlabel(r'$\\Delta$t ($\\mu$s)')\n",
    "plt.title(r'Fit result BiPo214: N$_0$ = {n0_} $\\pm$ {n0_err_} and $τ = $ {tau_} $\\pm$ {tau_err_}'.format(n0_=n0, n0_err_ = n0_err, tau_ = tau, tau_err_ = tau_err))\n",
    "\n",
    "if save_fig:\n",
    "    plt.savefig('figs/exp_fit_to_delta_t.png', format='png', bbox_inches = 'tight')\n",
    "\n",
    "plt.show()"
   ]
  },
  {
   "cell_type": "code",
   "execution_count": null,
   "id": "c8cbaac6-6767-4053-a872-81694d73d99f",
   "metadata": {},
   "outputs": [],
   "source": []
  }
 ],
 "metadata": {
  "kernelspec": {
   "display_name": "Python 3 (ipykernel)",
   "language": "python",
   "name": "python3"
  },
  "language_info": {
   "codemirror_mode": {
    "name": "ipython",
    "version": 3
   },
   "file_extension": ".py",
   "mimetype": "text/x-python",
   "name": "python",
   "nbconvert_exporter": "python",
   "pygments_lexer": "ipython3",
   "version": "3.12.2"
  }
 },
 "nbformat": 4,
 "nbformat_minor": 5
}
