{
 "cells": [
  {
   "cell_type": "markdown",
   "id": "904d53e5-2da7-4346-b236-e97e6a257c84",
   "metadata": {},
   "source": [
    "# Notebook dedicated to Implement event selection criteria using observables to obtain antinu like events"
   ]
  },
  {
   "cell_type": "code",
   "execution_count": 5,
   "id": "e14508da-28a4-44e7-bd82-32ae444df39e",
   "metadata": {},
   "outputs": [],
   "source": [
    "import numpy as np\n",
    "\n",
    "import matplotlib.pyplot as plt\n",
    "import seaborn as sn\n",
    "\n",
    "import glob\n",
    "import re\n",
    "import os\n",
    "import itertools\n",
    "import pickle"
   ]
  },
  {
   "cell_type": "code",
   "execution_count": 6,
   "id": "d5f7f0a2-4b28-438c-bf27-ff7c5286bb51",
   "metadata": {},
   "outputs": [],
   "source": [
    "def extract_file_number(filepath):\n",
    "    \"\"\"\n",
    "    Extrae el número entre 'output_' y '_<var>.npy' desde el nombre del archivo.\n",
    "    Ejemplo: output_104_clockCount50.npy → 104\n",
    "    \"\"\"\n",
    "    filename = os.path.basename(filepath)\n",
    "    match = re.search(r'output_(\\d+)_\\w+\\.npy', filename)\n",
    "    return int(match.group(1)) if match else -1  # -1 para poner errores al final\n"
   ]
  },
  {
   "cell_type": "code",
   "execution_count": 7,
   "id": "8a8bba83-39f1-4a37-9610-adfb0206a9be",
   "metadata": {},
   "outputs": [],
   "source": [
    "def posr_cal(x, y, z):\n",
    "    dr = np.sqrt(x**2 + y**2 + z**2)\n",
    "    return dr"
   ]
  },
  {
   "cell_type": "code",
   "execution_count": 8,
   "id": "718b515e-ee15-4d8d-bb50-6fe69256e7c1",
   "metadata": {},
   "outputs": [],
   "source": [
    "def split_list(lista, n):\n",
    "    \"\"\"\n",
    "    Divide una lista en `n` sublistas de tamaño lo más equilibrado posible.\n",
    "    \"\"\"\n",
    "    k, m = divmod(len(lista), n)\n",
    "    return [lista[i * k + min(i, m):(i + 1) * k + min(i + 1, m)] for i in range(n)]"
   ]
  },
  {
   "cell_type": "markdown",
   "id": "5457269f-ef41-4436-a11d-d020cfd7804b",
   "metadata": {},
   "source": [
    "# Load data and Extract Data"
   ]
  },
  {
   "cell_type": "raw",
   "id": "eca3d394-3273-4721-b9fe-70f36d9a6ab9",
   "metadata": {
    "jupyter": {
     "source_hidden": true
    }
   },
   "source": [
    "read_file_list = []\n",
    "\n",
    "var_name = ['runID','energy', 'posx', 'posy', 'posz', 'clockCount50', 'dcFlagged'] #List with the name of variables to be extracted\n",
    "\n",
    "#start filling the directory list with the files to be readen\n",
    "for var_name_i in var_name:\n",
    "    #read_file_gold_r_list.append(main_dir_files + gold_analysis_r_dir + var_name_i + '.npy')\n",
    "    read_file_list.append(main_dir_files + gold_analysis_R_dir + var_name_i + '.npy')\n",
    "\n",
    "#Create list with all directories and files to be readen:\n",
    "#read_file_full_list = list(itertools.chain(read_file_bronze_r_list, read_file_bronze_R_list, read_file_gold_r_list, read_file_gold_R_list))\n",
    "\n",
    "#analysis variables to be used along the analysis. The name of the variables will be the var_name + analysis:\n",
    "for i_dx, var_name_i in enumerate(var_name):   \n",
    "    #Create the empty list of the var_name_analysis:\n",
    "    locals()[var_name_i + '_analysis'] = np.array([])\n",
    "\n",
    "    if var_name_i == 'dcFlagged' or var_name_i == 'clockCount50':\n",
    "        locals()[var_name_i + '_analysis'] = np.array([], dtype = np.uint64)\n",
    "\n",
    "    #Start loading and filling the empty list of var_name_analysis:\n",
    "    file_i = np.load(read_file_list[i_dx])\n",
    "    locals()[var_name_i + '_analysis'] = np.append(locals()[var_name_i + '_analysis'], file_i)\n",
    "\n",
    "#Ensure that the dimenions of each observable are the same. When extracting the dat something could gonne wrong ...\n",
    "#compute the len of each observable, and only select the data until the min(len(variabel)) index\n",
    "\n",
    "var_len = []\n",
    "\n",
    "#Compute and append the len()\n",
    "for i_dx, var_name_i in enumerate(var_name):\n",
    "    var_len.append(len(locals()[var_name_i + '_analysis']))\n",
    "\n",
    "#Limit the dataset\n",
    "for i_dx, var_name_i in enumerate(var_name):\n",
    "    #locals()[var_name_i + '_gold_analysis_r'] = locals()[var_name_i + '_gold_analysis_r'][:min(var_len_gold_r)]\n",
    "    locals()[var_name_i + '_analysis'] = locals()[var_name_i + '_analysis'][:min(var_len)]\n",
    "    if (var_name_i == 'clockCount50') or (var_name_i == 'dcFlagged'):\n",
    "        locals()[var_name_i + '_analysis'] = locals()[var_name_i + '_analysis'].astype(np.int64)\n",
    "    \n",
    "\n",
    "#Now concatenate the analysis_r with analysis_R:\n",
    "#for i_dx, var_name_i in enumerate(var_name):\n",
    "\n",
    "    #concatenate\n",
    "    #locals()[var_name_i + '_gold_analysis'] = np.concatenate((locals()[var_name_i + '_gold_analysis_r'], locals()[var_name_i + '_gold_analysis_R']))\n",
    "    #freed memory\n",
    "    #locals()[var_name_i + '_gold_analysis_r'] = None\n",
    "    #locals()[var_name_i + '_gold_analysis_R'] = None\n",
    "\n",
    "#radial position calculation \n",
    "posr_analysis = posr_cal(posx_analysis, posy_analysis, posz_analysis)"
   ]
  },
  {
   "cell_type": "raw",
   "id": "854ab147-d83e-42c0-ac43-5fd358eb1b82",
   "metadata": {
    "jupyter": {
     "source_hidden": true
    }
   },
   "source": [
    "#Load directories part ------------------------------------------------------------------------------\n",
    "main_dir_files = 'E:/Data/antinu_realdata/gold/numpy_files/analysis/output_subset/output_*/'\n",
    "var_read_name_list = ['energy', 'posx', 'posy', 'posz', 'clockCount50']\n",
    "\n",
    "flist = glob.glob(main_dir_files)\n",
    "\n",
    "#ordenar lectura de carpetas:\n",
    "def natural_order(file):\n",
    "    return [int(t) if t.isdigit() else t.lower() for t in re.split(r'(\\d+)', file)]\n",
    "\n",
    "flist.sort(key=natural_order)\n",
    "\n",
    "#N_lim = 50 #limiter of the number of output_i folder to be readen\n",
    "#flist = flist[:N_lim]\n",
    "\n",
    "# We want to create a list wiht sublists where each sublist refers to and output_i with all the observables inside. \n",
    "#This will allow us to verify the len of each observable and cut if necessary.\n",
    "\n",
    "div_flist = []  #list to be filled with the sublists. Each subelement of div_list[i] referst to the observables in output_i directory\n",
    "\n",
    "for dir_out_i in flist:\n",
    "    subdir_list = [] #create sublist of observables for the same output_i directory\n",
    "    for var_i in var_read_name_list:\n",
    "        var_dir_out_i = dir_out_i + var_i + '.npy'\n",
    "        subdir_list.append(var_dir_out_i)\n",
    "    div_flist.append(subdir_list)\n",
    "\n",
    "\n",
    "# Crear el diccionario principal donde cada clave es una variable y su valor una lista de bloques de datos\n",
    "data_dict = {var: [] for var in var_read_name_list}\n",
    "\n",
    "for j_dx, sublist_dir_i in enumerate(div_flist):\n",
    "    #print(f'Reading sublist of output_{j_dx}')\n",
    "\n",
    "    # Diccionario temporal por sublista\n",
    "    temp_dict = {var: [] for var in var_read_name_list}\n",
    "    len_var = []\n",
    "\n",
    "    # Cargar cada archivo usando mmap_mode\n",
    "    for i_dx, file_i in enumerate(sublist_dir_i):\n",
    "        var_name_i = var_read_name_list[i_dx]\n",
    "        arr = np.load(file_i, mmap_mode='r')  # No se carga completamente en RAM\n",
    "        temp_dict[var_name_i] = arr\n",
    "        len_var.append(len(arr))  # Tomar la longitud real del array\n",
    "\n",
    "    # Determinar longitud mínima entre todas las variables cargadas\n",
    "    N_data_lim = min(len_var)\n",
    "\n",
    "    # Recortar cada observable a la longitud mínima y añadir al diccionario principal\n",
    "    for var_name_i in var_read_name_list:\n",
    "        trimmed_arr = temp_dict[var_name_i][:N_data_lim]\n",
    "        data_dict[var_name_i].append(trimmed_arr)  # Lista de arrays por variable\n",
    "\n",
    "#Concatenate all the subarrays within the list created for each observable\n",
    "for var_name in var_read_name_list:\n",
    "    print(f'concatenating observable {var_name}')\n",
    "    data_dict[var_name] = np.concatenate((data_dict[var_name]))\n",
    "\n",
    "    #Avoid using the dictionary format to call the observables, just call it by its names:\n",
    "    print(f'from dictionary to numpy array: {var_name}')\n",
    "    locals()[var_name] = data_dict[var_name]\n",
    "\n",
    "    if var_name == 'posx' or var_name == 'posy' or var_name == 'posz':\n",
    "        print(f'transforming data type {var_name}')\n",
    "        locals()[var_name] = locals()[var_name].astype(np.float32)\n",
    "        \n",
    "    data_dict[var_name] = None\n",
    "\n",
    "#posx = posx.astype(np.float32)\n",
    "#posy = posy.astype(np.float32)\n",
    "#posz = posz.astype(np.float32)\n",
    "\n",
    "print('computing posr ...')\n",
    "posr = posr_cal(posx, posy, posz)"
   ]
  },
  {
   "cell_type": "code",
   "execution_count": 256,
   "id": "a1f8e8d5-7eb6-4512-b406-a32ac97a7691",
   "metadata": {
    "scrolled": true
   },
   "outputs": [
    {
     "name": "stdout",
     "output_type": "stream",
     "text": [
      "reading spliten files in iteration 0\n",
      "reading directories of observable energy\n",
      "reading directories of observable posx\n",
      "reading directories of observable posy\n",
      "reading directories of observable posz\n",
      "reading directories of observable clockCount50\n",
      "flattening numpy array energy\n",
      "flattening numpy array posx\n",
      "transforming data type posx\n",
      "flattening numpy array posy\n",
      "transforming data type posy\n",
      "flattening numpy array posz\n",
      "transforming data type posz\n",
      "flattening numpy array clockCount50\n",
      "computing posr ...\n",
      "performing energy and FV cuts\n",
      "Getting in antinu finder\n",
      "Pair Found\n",
      "dr: 379.55045405327036 and dt: 51.0\n",
      "Pair Found\n",
      "dr: 281.3304972628383 and dt: 7.0\n",
      "Pair Found\n",
      "dr: 570.4345741129671 and dt: 512.0\n",
      "Pair Found\n",
      "dr: 476.16838178536227 and dt: 198.0\n",
      "Pair Found\n",
      "dr: 361.100129323819 and dt: 191.0\n",
      "Pair Found\n",
      "dr: 353.61132181307914 and dt: 49.0\n",
      "Pair Found\n",
      "dr: 456.6724866277654 and dt: 60.0\n",
      "Pair Found\n",
      "dr: 507.1154867166405 and dt: 61.0\n",
      "Pair Found\n",
      "dr: 506.0600134812218 and dt: 23.0\n",
      "Pair Found\n",
      "dr: 334.2450477836422 and dt: 28.0\n",
      "Pair Found\n",
      "dr: 502.32803383731584 and dt: 22.0\n",
      "Pair Found\n",
      "dr: 338.1852990652851 and dt: 52.0\n",
      "saving observables in antinu dictionary\n",
      "reading spliten files in iteration 1\n",
      "reading directories of observable energy\n",
      "reading directories of observable posx\n",
      "reading directories of observable posy\n",
      "reading directories of observable posz\n",
      "reading directories of observable clockCount50\n",
      "flattening numpy array energy\n",
      "flattening numpy array posx\n",
      "transforming data type posx\n",
      "flattening numpy array posy\n",
      "transforming data type posy\n",
      "flattening numpy array posz\n",
      "transforming data type posz\n",
      "flattening numpy array clockCount50\n",
      "computing posr ...\n",
      "performing energy and FV cuts\n",
      "Getting in antinu finder\n",
      "Pair Found\n",
      "dr: 252.0183596006782 and dt: 67.0\n",
      "saving observables in antinu dictionary\n",
      "reading spliten files in iteration 2\n",
      "reading directories of observable energy\n",
      "reading directories of observable posx\n",
      "reading directories of observable posy\n",
      "reading directories of observable posz\n",
      "reading directories of observable clockCount50\n",
      "flattening numpy array energy\n",
      "flattening numpy array posx\n",
      "transforming data type posx\n",
      "flattening numpy array posy\n",
      "transforming data type posy\n",
      "flattening numpy array posz\n",
      "transforming data type posz\n",
      "flattening numpy array clockCount50\n",
      "computing posr ...\n",
      "performing energy and FV cuts\n",
      "Getting in antinu finder\n",
      "Pair Found\n",
      "dr: 201.6991742658303 and dt: 295.0\n",
      "Pair Found\n",
      "dr: 539.339814397129 and dt: 513.0\n",
      "Pair Found\n",
      "dr: 100.6908521939306 and dt: 363.0\n",
      "Pair Found\n",
      "dr: 181.41730918002148 and dt: 189.0\n",
      "Pair Found\n",
      "dr: 220.38875951944314 and dt: 63.0\n",
      "Pair Found\n",
      "dr: 231.35858177225842 and dt: 57.0\n",
      "Pair Found\n",
      "dr: 146.14506471546895 and dt: 193.0\n",
      "saving observables in antinu dictionary\n",
      "reading spliten files in iteration 3\n",
      "reading directories of observable energy\n",
      "reading directories of observable posx\n",
      "reading directories of observable posy\n",
      "reading directories of observable posz\n",
      "reading directories of observable clockCount50\n",
      "flattening numpy array energy\n",
      "flattening numpy array posx\n",
      "transforming data type posx\n",
      "flattening numpy array posy\n",
      "transforming data type posy\n",
      "flattening numpy array posz\n",
      "transforming data type posz\n",
      "flattening numpy array clockCount50\n",
      "computing posr ...\n",
      "performing energy and FV cuts\n",
      "Getting in antinu finder\n",
      "Pair Found\n",
      "dr: 417.0334957331037 and dt: 202.0\n",
      "saving observables in antinu dictionary\n"
     ]
    }
   ],
   "source": [
    "# Read directories paths and split Data to be loaded ------------------------------------------------------------------------------\n",
    "main_dir_files = 'E:/Data/antinu_realdata/bronze/numpy_files/analysisR/'\n",
    "#name of variables to be used for the antinu analysis\n",
    "var_read_name_list = ['energy', 'posx', 'posy', 'posz', 'clockCount50']\n",
    "\n",
    "#Code settings -------------------\n",
    "#Data-split number:\n",
    "n_split = 4\n",
    "\n",
    "#Primary energy and FV cuts:\n",
    "en_cut_inf = 1.6\n",
    "en_cut_sup = 8.0\n",
    "posr_cut_sup = 5500\n",
    "\n",
    "# Antinu-finder algorithm:\n",
    "alpha = 9\n",
    "tau = 215\n",
    "dt_sup_lim = 1000\n",
    "dt_inf_lim = 0.5  # (0.5) -> To avoid retriggers\n",
    "\n",
    "dr_sup_lim = 600\n",
    "dr_inf_lim = 0\n",
    "\n",
    "energy_delay_sup_cut = 3.5\n",
    "energy_delay_inf_cut = 1.8\n",
    "\n",
    "#Dictionary Out Settings:\n",
    "save_dict = True\n",
    "dict_save_dir = 'antinu_dict/'\n",
    "dict_fname = f'antinuR_dict_delta_t_{dt_inf_lim}_{dt_sup_lim}(mcs)_dr_{dr_inf_lim}_{dr_sup_lim}(mm)_en_{en_cut_inf}_{en_cut_sup}(MeV)_R_{posr_cut_sup}(mm)_en_delay_{energy_delay_inf_cut}_{energy_delay_sup_cut}(MeV)'\n",
    "\n",
    "#---------------------------------\n",
    "\n",
    "#Information to save: Dictionary with the observables of interest for antinu candidates\n",
    "antinu_dict = {'all_energy': [],\n",
    "               'all_posr': [],\n",
    "               'energy_prompt': [],\n",
    "\t\t\t   'energy_delay': [],\n",
    "\t\t\t   'delta_t': [],\n",
    "\t\t\t   'delta_r': []}\n",
    "\n",
    "\n",
    "#create the full directory list for each of the var_read_name_list by just adding '_summary' to the end of the names\n",
    "for var_i in var_read_name_list:\n",
    "    locals()['flist_' + var_i] = glob.glob(os.path.join(main_dir_files, var_i + '_summary', '*.npy'))\n",
    "    locals()['flist_' + var_i].sort(key=extract_file_number)  # ordena por número en 'output_*_<var>.npy'\n",
    "\n",
    "    #Create the splitten list of observables\n",
    "    locals()['flist_split_' + var_i] = split_list(locals()['flist_' + var_i], n_split)\n",
    "\n",
    "#Iteration over files -------------------------------------------------------------------------------------------------------------------\n",
    "for i_dx in range(n_split):\n",
    "    \n",
    "    print(f'reading spliten files in iteration {i_dx}')\n",
    "    #create a temporal dictionary with empty lists to be filled with the observable values:\n",
    "    temp_obs_dict = {var_i: [] for var_i in var_read_name_list}\n",
    "    \n",
    "    #Extract sublist with the directory of observables\n",
    "    for var_i in var_read_name_list:\n",
    "        print(f'reading directories of observable {var_i}')\n",
    "        dir_obs_i = locals()['flist_split_' + var_i][i_dx]  #extract the directories of the observabel var_i\n",
    "\n",
    "        #Iterate over the files of the observable var_i and save info in temporal dictionary\n",
    "        for file_i in dir_obs_i:\n",
    "            arr = np.load(file_i, mmap_mode='r')\n",
    "            temp_obs_dict[var_i].append(arr)\n",
    "\n",
    "    #Now take the keys of the temp_obs_dict and transform data to numpy arrays and clean memory\n",
    "    for var_i in var_read_name_list:\n",
    "        print(f'flattening numpy array {var_i}')\n",
    "        locals()[var_i] = np.concatenate((temp_obs_dict[var_i]))  #Try to flatten the list of numpy arrays within the dictionary\n",
    "        \n",
    "        if var_i == 'posx' or var_i == 'posy' or var_i == 'posz':\n",
    "            print(f'transforming data type {var_i}')\n",
    "            locals()[var_i] = locals()[var_i].astype(np.float32)\n",
    "            \n",
    "        temp_obs_dict[var_i] = None\n",
    "\n",
    "    #Compute radial position of events\n",
    "    print('computing posr ...')\n",
    "    posr = posr_cal(posx, posy, posz)\n",
    "\n",
    "    # Selection of events based on Energy and FV cuts ------------------------------------------------\n",
    "    print('performing energy and FV cuts')\n",
    "    general_condition = (energy >= en_cut_inf) & (energy <= en_cut_sup) & (posr <= posr_cut_sup)\n",
    "    energy = energy[general_condition]\n",
    "    posr = posr[general_condition]\n",
    "    \n",
    "    posx = posx[general_condition]\n",
    "    posy = posy[general_condition]\n",
    "    posz = posz[general_condition]\n",
    "    \n",
    "    clockCount50 = clockCount50[general_condition]\n",
    "\n",
    "    #Create plots of the energy spectrum and radial distribution and save\n",
    "\n",
    "    # Antinu-finder algorithm ------------------------------------------------------------------------\n",
    "    print('Getting in antinu finder')\n",
    "    #Data to save\n",
    "    delta_t = []\n",
    "    delta_r = []\n",
    "    \n",
    "    energy_prompt = []\n",
    "    energy_delay = []\n",
    "    \n",
    "    N_ev = energy.shape[0]\n",
    "    \n",
    "    for ev_i in range(N_ev):\n",
    "    \n",
    "        delay_index = ev_i + 1\n",
    "        #print('In event', ev_i)\n",
    "    \n",
    "        #Suspected promt event observables\n",
    "        t1 = clockCount50[ev_i]\n",
    "        posx1 = posx[ev_i]\n",
    "        posy1 = posy[ev_i]\n",
    "        posz1 = posz[ev_i]\n",
    "        energy_1 = energy[ev_i]\n",
    "        \n",
    "        try:\n",
    "            #Suspected delayed\n",
    "            t2 = clockCount50[delay_index]\n",
    "            posx2 = posx[delay_index]\n",
    "            posy2 = posy[delay_index]\n",
    "            posz2 = posz[delay_index]\n",
    "            energy_2 = energy[delay_index]\n",
    "            \n",
    "            #Evaluate the dr and dt between events\n",
    "            dx = posx2 - posx1\n",
    "            dy = posy2 - posy1\n",
    "            dz = posz2 - posz1\n",
    "            dr = np.sqrt(dx**2 + dy**2 + dz**2)\n",
    "            dt = t2 - t1\n",
    "            \n",
    "        except IndexError:\n",
    "            continue\n",
    "    \n",
    "        #print('intial prompt_i: ', ev_i)\n",
    "        #print('intial delay_i: ', delay_index)\n",
    "           \n",
    "        #Start looking for a delay event within a windows alpha times tau\n",
    "        while (dt > dt_inf_lim) and (dt <= dt_sup_lim):\n",
    "            \n",
    "            #print(f'prompt_i within dt interval. index = {ev_i}, t1 = {t1}')\n",
    "            #print(f'delay_i within dt interval. index = {delay_index}, t2 = {t2}')\n",
    "            #print(f'dt within interval = {dt}')\n",
    "    \n",
    "            # If the dr coincide with the expected values, then save the observables of interest and break the while\n",
    "            #if (dr >= dr_exp - dr_unc) and (dr <= dr_exp + dr_unc) and (dt > 0) and (dt <= alpha*tau) and (energy_2 >= energy_delay_inf_cut) and (energy_2 <= energy_delay_sup_cut):\n",
    "            if (dr >= dr_inf_lim) and (dr <= dr_sup_lim) and (dt > dt_inf_lim) and (dt <= dt_sup_lim) and (energy_2 >= energy_delay_inf_cut) and (energy_2 <= energy_delay_sup_cut):\n",
    "                print('Pair Found')\n",
    "                print(f'dr: {dr} and dt: {dt}')\n",
    "                delta_t.append(dt)\n",
    "                delta_r.append(dr)\n",
    "                energy_prompt.append(energy_1)\n",
    "                energy_delay.append(energy_2)\n",
    "    \n",
    "                break\n",
    "            # Evolve the delay index if the condition is not fulfilled\n",
    "            delay_index += 1\n",
    "    \n",
    "            # Look for the next Suspected delayed\n",
    "            try:\n",
    "                t2 = clockCount50[delay_index]\n",
    "                #print(f'actual prompt index = {ev_i}')\n",
    "                #print(f'new delay candidate: index = {delay_index}, t2 ={t2}')\n",
    "                posx2 = posx[delay_index]\n",
    "                posy2 = posy[delay_index]\n",
    "                posz2 = posz[delay_index]\n",
    "                energy_2 = energy[delay_index]\n",
    "        \n",
    "                #Evaluate the dr and dt between events\n",
    "                dx = posx2 - posx1\n",
    "                dy = posy2 - posy1\n",
    "                dz = posz2 - posz1\n",
    "                dr = np.sqrt(dx**2 + dy**2 + dz**2)\n",
    "                dt = t2 - t1\n",
    "                #print(f'new dt = {dt}')\n",
    "            except IndexError:\n",
    "                break\n",
    "\n",
    "    # Save the outputs of the antinu finder in the outer antinu dictionary\n",
    "    print('saving observables in antinu dictionary')\n",
    "    antinu_dict['all_energy'].append(list(energy))\n",
    "    antinu_dict['all_posr'].append(list(posr))\n",
    "    antinu_dict['energy_prompt'].append(energy_prompt)\n",
    "    antinu_dict['energy_delay'].append(energy_delay)\n",
    "    antinu_dict['delta_t'].append(delta_t)\n",
    "    antinu_dict['delta_r'].append(delta_r)\n",
    "\n",
    "#transform the dictionary entries to flatten numpy array\n",
    "antinu_dict['all_energy'] = np.array(list(itertools.chain.from_iterable(antinu_dict['all_energy'])))\n",
    "antinu_dict['all_posr'] = np.array(list(itertools.chain.from_iterable(antinu_dict['all_posr'])))\n",
    "antinu_dict['energy_prompt'] = np.array(list(itertools.chain.from_iterable(antinu_dict['energy_prompt'])))\n",
    "antinu_dict['energy_delay'] = np.array(list(itertools.chain.from_iterable(antinu_dict['energy_delay'])))\n",
    "antinu_dict['delta_t'] = np.array(list(itertools.chain.from_iterable(antinu_dict['delta_t'])))\n",
    "antinu_dict['delta_r'] = np.array(list(itertools.chain.from_iterable(antinu_dict['delta_r'])))\n",
    "\n",
    "#save dictionary:\n",
    "if save_dict:\n",
    "    with open(dict_save_dir + dict_fname + '.pkl', 'wb') as f:\n",
    "        pickle.dump(antinu_dict, f)\n",
    "\n",
    "# Call the observables by their names and flat the lists\n",
    "energy = antinu_dict['all_energy']\n",
    "posr = antinu_dict['all_posr']\n",
    "energy_prompt = antinu_dict['energy_prompt']\n",
    "energy_delay = antinu_dict['energy_delay']\n",
    "delta_t = antinu_dict['delta_t']\n",
    "delta_r = antinu_dict['delta_r']"
   ]
  },
  {
   "cell_type": "markdown",
   "id": "ddcd61d7-8dcf-49f8-a2a0-d6fdca6151d9",
   "metadata": {},
   "source": [
    "# Observe Raw Plots with Primal Cuts"
   ]
  },
  {
   "cell_type": "code",
   "execution_count": 257,
   "id": "c765f754-c361-469c-a3f4-1164f81b65f1",
   "metadata": {},
   "outputs": [
    {
     "data": {
      "image/png": "[encoded data removed]",
      "text/plain": [
       "<Figure size 700x500 with 1 Axes>"
      ]
     },
     "metadata": {},
     "output_type": "display_data"
    }
   ],
   "source": [
    "plt.figure(figsize=(7,5))\n",
    "\n",
    "sn.histplot(energy, bins = 20, color = 'black', element = 'step', alpha = 0)\n",
    "plt.xlabel('Energy (MeV)')\n",
    "plt.title(fr'Energy Distribution - Energy: [{en_cut_inf}, {en_cut_sup}] (MeV) & Posr $\\leq$ {posr_cut_sup} (mm)', fontsize = 11)\n",
    "plt.yscale('log')"
   ]
  },
  {
   "cell_type": "code",
   "execution_count": 258,
   "id": "a41534d3-a8f6-405d-91ed-a057622abc4d",
   "metadata": {},
   "outputs": [
    {
     "data": {
      "image/png": "[encoded data removed]",
      "text/plain": [
       "<Figure size 700x500 with 1 Axes>"
      ]
     },
     "metadata": {},
     "output_type": "display_data"
    }
   ],
   "source": [
    "plt.figure(figsize=(7,5))\n",
    "sn.histplot(posr, bins = 20, color = 'black', element = 'step', alpha = 0)\n",
    "plt.xlabel('R (mm)')\n",
    "plt.title(rf'Radial Distribution - Energy: [{en_cut_inf}, {en_cut_sup}] (MeV) & Posr $\\leq$ {posr_cut_sup} (mm)', fontsize = 11)\n",
    "plt.yscale('log')"
   ]
  },
  {
   "cell_type": "markdown",
   "id": "2a902847-8fc3-4d07-9d49-728d9330deda",
   "metadata": {
    "jupyter": {
     "source_hidden": true
    }
   },
   "source": [
    "#Main selection Criteria for all events:\n",
    "en_inf_cut = 0.5\n",
    "en_sup_cut = 8\n",
    "\n",
    "posr_cut = 5500\n",
    "\n",
    "mask_cut = 0x2100000042C2\n",
    "\n",
    "energy_cut_condition = (energy_analysis >= en_inf_cut) & (energy_analysis <= en_sup_cut)\n",
    "posr_cut_condition = (posr_analysis <= posr_cut)\n",
    "dcFlag_cut_condition = ((int(mask_cut) & dcFlagged_analysis) == int(mask_cut))\n",
    "\n",
    "general_cut_condition = (energy_cut_condition) & (posr_cut_condition)# & dcFlag_cut_condition)\n",
    "\n",
    "#Select observables within this cuts.\n",
    "energy_cut = energy_analysis[general_cut_condition]\n",
    "posx_cut = posx_analysis[general_cut_condition]\n",
    "posy_cut = posy_analysis[general_cut_condition]\n",
    "posz_cut = posz_analysis[general_cut_condition]\n",
    "time_clock50_cut = clockCount50_analysis[general_cut_condition]"
   ]
  },
  {
   "cell_type": "code",
   "execution_count": 259,
   "id": "1341aec4-8212-49ec-88e2-1e21ee4817c7",
   "metadata": {},
   "outputs": [
    {
     "data": {
      "text/plain": [
       "(21,)"
      ]
     },
     "execution_count": 259,
     "metadata": {},
     "output_type": "execute_result"
    }
   ],
   "source": [
    "energy_delay.shape"
   ]
  },
  {
   "cell_type": "code",
   "execution_count": 260,
   "id": "29bf6be3-a752-42c6-8f6b-415a7616d642",
   "metadata": {},
   "outputs": [
    {
     "data": {
      "text/plain": [
       "(21,)"
      ]
     },
     "execution_count": 260,
     "metadata": {},
     "output_type": "execute_result"
    }
   ],
   "source": [
    "energy_prompt.shape"
   ]
  },
  {
   "cell_type": "markdown",
   "id": "27960916-de40-463a-b5d3-5b54f9a517bd",
   "metadata": {},
   "source": [
    "# 5 - Plots"
   ]
  },
  {
   "cell_type": "markdown",
   "id": "958d05fe-1bfc-42d3-a4df-c4a988a4383b",
   "metadata": {},
   "source": [
    "## 5.1 - Energy Spectrum"
   ]
  },
  {
   "cell_type": "code",
   "execution_count": 261,
   "id": "289de96e-5f80-4ebc-96d8-22859bbd686f",
   "metadata": {},
   "outputs": [
    {
     "data": {
      "image/png": "[encoded data removed]",
      "text/plain": [
       "<Figure size 700x500 with 1 Axes>"
      ]
     },
     "metadata": {},
     "output_type": "display_data"
    }
   ],
   "source": [
    "binwidth_prompt = 0.4\n",
    "binwidth_delay = 0.2\n",
    "\n",
    "bins = 3\n",
    "\n",
    "plt.figure(figsize = (7,5))\n",
    "sn.histplot(energy_prompt, binwidth = binwidth_prompt, color = 'b', element = 'step', alpha = 0, label = 'prompt candidates')\n",
    "sn.histplot(energy_delay, binwidth = binwidth_delay, color = 'r', element = 'step', alpha = 0, label = 'delay candidates')\n",
    "plt.legend(loc = 'best')\n",
    "\n",
    "plt.xlabel('Energy (MeV)')\n",
    "plt.ylabel(f'Counts')\n",
    "\n",
    "#plt.yscale('log')\n",
    "\n",
    "plt.title(rf'Energy Spectrum - Windows $\\Delta$t:[{dt_inf_lim}, {dt_sup_lim}] ($\\mu$s) and $\\Delta$r: [{dr_inf_lim}, {dr_sup_lim}] (mm)', fontsize = 11)\n",
    "\n",
    "plt.show()"
   ]
  },
  {
   "cell_type": "markdown",
   "id": "e679fa70-4e25-4631-8952-3806c39aaa50",
   "metadata": {},
   "source": [
    "## 5.2 - $\\Delta$t"
   ]
  },
  {
   "cell_type": "code",
   "execution_count": 262,
   "id": "0fc3b8cc-2244-4017-9996-d51aabbf4de5",
   "metadata": {},
   "outputs": [
    {
     "data": {
      "image/png": "[encoded data removed]",
      "text/plain": [
       "<Figure size 700x500 with 1 Axes>"
      ]
     },
     "metadata": {},
     "output_type": "display_data"
    }
   ],
   "source": [
    "plt.figure(figsize = (7,5))\n",
    "\n",
    "sn.histplot(delta_t, bins = 5, color = 'b', element = 'step', alpha = 0)\n",
    "\n",
    "plt.xlabel(r'$\\Delta$t ($\\mu$s)')\n",
    "plt.title(rf'$\\Delta$t Distribution - Pair Window of $\\Delta$t:[{dt_inf_lim}, {dt_sup_lim}] ($\\mu$s) and $\\Delta$r: [{dr_inf_lim}, {dr_sup_lim}] (mm)', fontsize = 10)\n",
    "\n",
    "plt.show()"
   ]
  },
  {
   "cell_type": "markdown",
   "id": "283ac129-0bda-4a3b-86fb-2c7c2d3f675e",
   "metadata": {},
   "source": [
    "## 5.3 - $\\Delta$r"
   ]
  },
  {
   "cell_type": "code",
   "execution_count": 264,
   "id": "2a2d1a74-d1ef-4542-8570-8fa11aa9804c",
   "metadata": {},
   "outputs": [
    {
     "data": {
      "image/png": "[encoded data removed]",
      "text/plain": [
       "<Figure size 700x500 with 1 Axes>"
      ]
     },
     "metadata": {},
     "output_type": "display_data"
    }
   ],
   "source": [
    "plt.figure(figsize = (7,5))\n",
    "\n",
    "sn.histplot(delta_r, bins = 5, color = 'b', element = 'step', alpha = 0)\n",
    "\n",
    "plt.xlabel(r'$\\Delta$r (mm)')\n",
    "plt.title(rf'$\\Delta$r Distribution - Pair Window of $\\Delta$t:[{dt_inf_lim}, {dt_sup_lim}] ($\\mu$s) and $\\Delta$r: [{dr_inf_lim}, {dr_sup_lim}] (mm)', fontsize = 10)\n",
    "\n",
    "plt.show()"
   ]
  },
  {
   "cell_type": "code",
   "execution_count": null,
   "id": "2ca8489d-13b6-475f-97f5-44f71e09ff54",
   "metadata": {},
   "outputs": [],
   "source": []
  }
 ],
 "metadata": {
  "kernelspec": {
   "display_name": "Python 3 (ipykernel)",
   "language": "python",
   "name": "python3"
  },
  "language_info": {
   "codemirror_mode": {
    "name": "ipython",
    "version": 3
   },
   "file_extension": ".py",
   "mimetype": "text/x-python",
   "name": "python",
   "nbconvert_exporter": "python",
   "pygments_lexer": "ipython3",
   "version": "3.12.2"
  }
 },
 "nbformat": 4,
 "nbformat_minor": 5
}
