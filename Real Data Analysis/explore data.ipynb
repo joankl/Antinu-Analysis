{
 "cells": [
  {
   "cell_type": "markdown",
   "id": "15816793-31fd-4660-ab28-8b6b6cc18c74",
   "metadata": {},
   "source": [
    "# Notebook Dedicated to Explore Real Data\n",
    "\n",
    "The Data used correspond to (scintillator phase?) a period of recording from April 2022 until January 2023"
   ]
  },
  {
   "cell_type": "code",
   "execution_count": 1,
   "id": "ca7ff197-c377-4a46-8540-a0397f1a67ee",
   "metadata": {},
   "outputs": [],
   "source": [
    "import numpy as np\n",
    "import uproot\n",
    "\n",
    "import matplotlib.pyplot as plt\n",
    "import seaborn as sn\n",
    "\n",
    "import pandas as pd\n",
    "\n",
    "import analysis_antinu"
   ]
  },
  {
   "cell_type": "markdown",
   "id": "f49e6dbc-68cb-40fe-a185-58f6f8a9ead4",
   "metadata": {
    "jp-MarkdownHeadingCollapsed": true
   },
   "source": [
    "# 1 - Extract and Import Data"
   ]
  },
  {
   "cell_type": "markdown",
   "id": "cea667e9-bb1f-4867-a3eb-bdb675b736a8",
   "metadata": {},
   "source": [
    "construct_data = True #Turn True if we want to create a new dataset\n",
    "\n",
    "if construct_data:\n",
    "    analysis_antinu\n",
    "\n",
    "data = pd.read_csv('data/full_data.csv').drop(columns='Unnamed: 0')\n",
    "data"
   ]
  },
  {
   "cell_type": "markdown",
   "id": "226bf529-2f4a-4570-b02b-40c634a72c13",
   "metadata": {},
   "source": [
    "en_inf_cut = 0\n",
    "en_up_cut = 10\n",
    "\n",
    "condition_energy = (data['energy'] > en_inf_cut) & (data['energy'] <= en_up_cut)\n",
    "\n",
    "energy = np.array(data[condition_energy]['energy'])\n",
    "energy"
   ]
  },
  {
   "cell_type": "markdown",
   "id": "0da26b93-7e6f-4862-b33c-ca3a32ef8ef6",
   "metadata": {
    "jp-MarkdownHeadingCollapsed": true
   },
   "source": [
    "# 2 - Observe the Energy of All Data"
   ]
  },
  {
   "cell_type": "markdown",
   "id": "bc5777ad-417b-4cb6-bb3d-22d12c23ec9c",
   "metadata": {},
   "source": [
    "sn.histplot(energy, bins = 80)\n",
    "plt.yscale('log')"
   ]
  },
  {
   "cell_type": "markdown",
   "id": "9c4d220c-f564-40e1-af4b-07cf90883223",
   "metadata": {},
   "source": [
    "We need more statistics!"
   ]
  },
  {
   "cell_type": "markdown",
   "id": "46fa6b1d-5b85-4763-aa13-87a602c82518",
   "metadata": {},
   "source": [
    "# 3 - Full Real data"
   ]
  },
  {
   "cell_type": "markdown",
   "id": "2af4bd35-fb88-4e4b-ae88-1aec80bd390e",
   "metadata": {},
   "source": [
    "## 3.1 - Extract and cut data"
   ]
  },
  {
   "cell_type": "code",
   "execution_count": 4,
   "id": "61c84e49-5af1-4fb1-b4b1-40e90ad9b967",
   "metadata": {},
   "outputs": [
    {
     "data": {
      "text/html": [
       "<div>\n",
       "<style scoped>\n",
       "    .dataframe tbody tr th:only-of-type {\n",
       "        vertical-align: middle;\n",
       "    }\n",
       "\n",
       "    .dataframe tbody tr th {\n",
       "        vertical-align: top;\n",
       "    }\n",
       "\n",
       "    .dataframe thead th {\n",
       "        text-align: right;\n",
       "    }\n",
       "</style>\n",
       "<table border=\"1\" class=\"dataframe\">\n",
       "  <thead>\n",
       "    <tr style=\"text-align: right;\">\n",
       "      <th></th>\n",
       "      <th>Unnamed: 0</th>\n",
       "      <th>fitValid</th>\n",
       "      <th>scintFit</th>\n",
       "      <th>runID</th>\n",
       "      <th>dcFlag</th>\n",
       "      <th>evIndex</th>\n",
       "      <th>evID</th>\n",
       "      <th>triggerWord</th>\n",
       "      <th>Nhits</th>\n",
       "      <th>NhitsClean</th>\n",
       "      <th>...</th>\n",
       "      <th>posz</th>\n",
       "      <th>posr</th>\n",
       "      <th>posFOM</th>\n",
       "      <th>posFOM2</th>\n",
       "      <th>time_clock50 (mcs)</th>\n",
       "      <th>ITR</th>\n",
       "      <th>beta14</th>\n",
       "      <th>alphabeta212</th>\n",
       "      <th>alphabeta214</th>\n",
       "      <th>NHits</th>\n",
       "    </tr>\n",
       "  </thead>\n",
       "  <tbody>\n",
       "    <tr>\n",
       "      <th>0</th>\n",
       "      <td>0.0</td>\n",
       "      <td>True</td>\n",
       "      <td>True</td>\n",
       "      <td>307661</td>\n",
       "      <td>951627314298878</td>\n",
       "      <td>0</td>\n",
       "      <td>9099475</td>\n",
       "      <td>1048577</td>\n",
       "      <td>66.0</td>\n",
       "      <td>59</td>\n",
       "      <td>...</td>\n",
       "      <td>-1331.167236</td>\n",
       "      <td>5731.488681</td>\n",
       "      <td>800.701782</td>\n",
       "      <td>59</td>\n",
       "      <td>1.432702e+11</td>\n",
       "      <td>0.305085</td>\n",
       "      <td>0.136984</td>\n",
       "      <td>-99999.0</td>\n",
       "      <td>-99999.0</td>\n",
       "      <td>NaN</td>\n",
       "    </tr>\n",
       "    <tr>\n",
       "      <th>1</th>\n",
       "      <td>1.0</td>\n",
       "      <td>True</td>\n",
       "      <td>True</td>\n",
       "      <td>307661</td>\n",
       "      <td>951627314298878</td>\n",
       "      <td>0</td>\n",
       "      <td>9099480</td>\n",
       "      <td>68157441</td>\n",
       "      <td>75.0</td>\n",
       "      <td>70</td>\n",
       "      <td>...</td>\n",
       "      <td>3321.097656</td>\n",
       "      <td>5832.544029</td>\n",
       "      <td>960.558411</td>\n",
       "      <td>70</td>\n",
       "      <td>1.432702e+11</td>\n",
       "      <td>0.214286</td>\n",
       "      <td>0.014681</td>\n",
       "      <td>-99999.0</td>\n",
       "      <td>-99999.0</td>\n",
       "      <td>NaN</td>\n",
       "    </tr>\n",
       "    <tr>\n",
       "      <th>2</th>\n",
       "      <td>2.0</td>\n",
       "      <td>True</td>\n",
       "      <td>True</td>\n",
       "      <td>307661</td>\n",
       "      <td>951627314298878</td>\n",
       "      <td>0</td>\n",
       "      <td>9099486</td>\n",
       "      <td>1048593</td>\n",
       "      <td>56.0</td>\n",
       "      <td>48</td>\n",
       "      <td>...</td>\n",
       "      <td>-239.081100</td>\n",
       "      <td>5722.460849</td>\n",
       "      <td>681.968994</td>\n",
       "      <td>48</td>\n",
       "      <td>1.432702e+11</td>\n",
       "      <td>0.354167</td>\n",
       "      <td>0.179642</td>\n",
       "      <td>-99999.0</td>\n",
       "      <td>-99999.0</td>\n",
       "      <td>NaN</td>\n",
       "    </tr>\n",
       "    <tr>\n",
       "      <th>3</th>\n",
       "      <td>3.0</td>\n",
       "      <td>True</td>\n",
       "      <td>True</td>\n",
       "      <td>307661</td>\n",
       "      <td>951627314298878</td>\n",
       "      <td>0</td>\n",
       "      <td>9099488</td>\n",
       "      <td>1048603</td>\n",
       "      <td>125.0</td>\n",
       "      <td>113</td>\n",
       "      <td>...</td>\n",
       "      <td>-1767.157959</td>\n",
       "      <td>5931.162156</td>\n",
       "      <td>1572.397949</td>\n",
       "      <td>113</td>\n",
       "      <td>1.432702e+11</td>\n",
       "      <td>0.318584</td>\n",
       "      <td>0.162851</td>\n",
       "      <td>-99999.0</td>\n",
       "      <td>-99999.0</td>\n",
       "      <td>NaN</td>\n",
       "    </tr>\n",
       "    <tr>\n",
       "      <th>4</th>\n",
       "      <td>4.0</td>\n",
       "      <td>True</td>\n",
       "      <td>True</td>\n",
       "      <td>307661</td>\n",
       "      <td>951627314298878</td>\n",
       "      <td>0</td>\n",
       "      <td>9099490</td>\n",
       "      <td>1048577</td>\n",
       "      <td>41.0</td>\n",
       "      <td>38</td>\n",
       "      <td>...</td>\n",
       "      <td>3698.150879</td>\n",
       "      <td>3750.010186</td>\n",
       "      <td>429.658875</td>\n",
       "      <td>38</td>\n",
       "      <td>1.432702e+11</td>\n",
       "      <td>0.157895</td>\n",
       "      <td>0.371640</td>\n",
       "      <td>-99999.0</td>\n",
       "      <td>-99999.0</td>\n",
       "      <td>NaN</td>\n",
       "    </tr>\n",
       "    <tr>\n",
       "      <th>...</th>\n",
       "      <td>...</td>\n",
       "      <td>...</td>\n",
       "      <td>...</td>\n",
       "      <td>...</td>\n",
       "      <td>...</td>\n",
       "      <td>...</td>\n",
       "      <td>...</td>\n",
       "      <td>...</td>\n",
       "      <td>...</td>\n",
       "      <td>...</td>\n",
       "      <td>...</td>\n",
       "      <td>...</td>\n",
       "      <td>...</td>\n",
       "      <td>...</td>\n",
       "      <td>...</td>\n",
       "      <td>...</td>\n",
       "      <td>...</td>\n",
       "      <td>...</td>\n",
       "      <td>...</td>\n",
       "      <td>...</td>\n",
       "      <td>...</td>\n",
       "    </tr>\n",
       "    <tr>\n",
       "      <th>14317803</th>\n",
       "      <td>130328.0</td>\n",
       "      <td>True</td>\n",
       "      <td>True</td>\n",
       "      <td>302896</td>\n",
       "      <td>951627314298878</td>\n",
       "      <td>0</td>\n",
       "      <td>9495632</td>\n",
       "      <td>68157459</td>\n",
       "      <td>101.0</td>\n",
       "      <td>95</td>\n",
       "      <td>...</td>\n",
       "      <td>4758.247070</td>\n",
       "      <td>6128.395650</td>\n",
       "      <td>1303.463745</td>\n",
       "      <td>95</td>\n",
       "      <td>5.587799e+10</td>\n",
       "      <td>0.252632</td>\n",
       "      <td>0.100641</td>\n",
       "      <td>-99999.0</td>\n",
       "      <td>-99999.0</td>\n",
       "      <td>NaN</td>\n",
       "    </tr>\n",
       "    <tr>\n",
       "      <th>14317804</th>\n",
       "      <td>130329.0</td>\n",
       "      <td>True</td>\n",
       "      <td>True</td>\n",
       "      <td>302896</td>\n",
       "      <td>951627314298871</td>\n",
       "      <td>0</td>\n",
       "      <td>9495635</td>\n",
       "      <td>1048577</td>\n",
       "      <td>36.0</td>\n",
       "      <td>30</td>\n",
       "      <td>...</td>\n",
       "      <td>1719.044678</td>\n",
       "      <td>4803.099206</td>\n",
       "      <td>419.945557</td>\n",
       "      <td>30</td>\n",
       "      <td>5.587799e+10</td>\n",
       "      <td>0.233333</td>\n",
       "      <td>-0.002518</td>\n",
       "      <td>-99999.0</td>\n",
       "      <td>-99999.0</td>\n",
       "      <td>NaN</td>\n",
       "    </tr>\n",
       "    <tr>\n",
       "      <th>14317805</th>\n",
       "      <td>130330.0</td>\n",
       "      <td>True</td>\n",
       "      <td>True</td>\n",
       "      <td>302896</td>\n",
       "      <td>951627314294782</td>\n",
       "      <td>0</td>\n",
       "      <td>9495645</td>\n",
       "      <td>68157441</td>\n",
       "      <td>38.0</td>\n",
       "      <td>37</td>\n",
       "      <td>...</td>\n",
       "      <td>115.009796</td>\n",
       "      <td>3578.380809</td>\n",
       "      <td>496.289795</td>\n",
       "      <td>37</td>\n",
       "      <td>5.587799e+10</td>\n",
       "      <td>0.243243</td>\n",
       "      <td>0.102068</td>\n",
       "      <td>-99999.0</td>\n",
       "      <td>-99999.0</td>\n",
       "      <td>NaN</td>\n",
       "    </tr>\n",
       "    <tr>\n",
       "      <th>14317806</th>\n",
       "      <td>130331.0</td>\n",
       "      <td>True</td>\n",
       "      <td>True</td>\n",
       "      <td>302896</td>\n",
       "      <td>951627314298878</td>\n",
       "      <td>0</td>\n",
       "      <td>9495648</td>\n",
       "      <td>1048577</td>\n",
       "      <td>40.0</td>\n",
       "      <td>36</td>\n",
       "      <td>...</td>\n",
       "      <td>-325.478424</td>\n",
       "      <td>5756.020145</td>\n",
       "      <td>483.299988</td>\n",
       "      <td>36</td>\n",
       "      <td>5.587799e+10</td>\n",
       "      <td>0.222222</td>\n",
       "      <td>-0.019751</td>\n",
       "      <td>-99999.0</td>\n",
       "      <td>-99999.0</td>\n",
       "      <td>NaN</td>\n",
       "    </tr>\n",
       "    <tr>\n",
       "      <th>14317807</th>\n",
       "      <td>130332.0</td>\n",
       "      <td>True</td>\n",
       "      <td>True</td>\n",
       "      <td>302896</td>\n",
       "      <td>951627314298878</td>\n",
       "      <td>0</td>\n",
       "      <td>9495649</td>\n",
       "      <td>1048577</td>\n",
       "      <td>34.0</td>\n",
       "      <td>31</td>\n",
       "      <td>...</td>\n",
       "      <td>-626.079712</td>\n",
       "      <td>3765.822160</td>\n",
       "      <td>422.410583</td>\n",
       "      <td>31</td>\n",
       "      <td>5.587799e+10</td>\n",
       "      <td>0.129032</td>\n",
       "      <td>0.263351</td>\n",
       "      <td>-99999.0</td>\n",
       "      <td>-99999.0</td>\n",
       "      <td>NaN</td>\n",
       "    </tr>\n",
       "  </tbody>\n",
       "</table>\n",
       "<p>14317808 rows × 25 columns</p>\n",
       "</div>"
      ],
      "text/plain": [
       "          Unnamed: 0  fitValid  scintFit   runID           dcFlag  evIndex  \\\n",
       "0                0.0      True      True  307661  951627314298878        0   \n",
       "1                1.0      True      True  307661  951627314298878        0   \n",
       "2                2.0      True      True  307661  951627314298878        0   \n",
       "3                3.0      True      True  307661  951627314298878        0   \n",
       "4                4.0      True      True  307661  951627314298878        0   \n",
       "...              ...       ...       ...     ...              ...      ...   \n",
       "14317803    130328.0      True      True  302896  951627314298878        0   \n",
       "14317804    130329.0      True      True  302896  951627314298871        0   \n",
       "14317805    130330.0      True      True  302896  951627314294782        0   \n",
       "14317806    130331.0      True      True  302896  951627314298878        0   \n",
       "14317807    130332.0      True      True  302896  951627314298878        0   \n",
       "\n",
       "             evID  triggerWord  Nhits  NhitsClean  ...         posz  \\\n",
       "0         9099475      1048577   66.0          59  ... -1331.167236   \n",
       "1         9099480     68157441   75.0          70  ...  3321.097656   \n",
       "2         9099486      1048593   56.0          48  ...  -239.081100   \n",
       "3         9099488      1048603  125.0         113  ... -1767.157959   \n",
       "4         9099490      1048577   41.0          38  ...  3698.150879   \n",
       "...           ...          ...    ...         ...  ...          ...   \n",
       "14317803  9495632     68157459  101.0          95  ...  4758.247070   \n",
       "14317804  9495635      1048577   36.0          30  ...  1719.044678   \n",
       "14317805  9495645     68157441   38.0          37  ...   115.009796   \n",
       "14317806  9495648      1048577   40.0          36  ...  -325.478424   \n",
       "14317807  9495649      1048577   34.0          31  ...  -626.079712   \n",
       "\n",
       "                 posr       posFOM  posFOM2  time_clock50 (mcs)       ITR  \\\n",
       "0         5731.488681   800.701782       59        1.432702e+11  0.305085   \n",
       "1         5832.544029   960.558411       70        1.432702e+11  0.214286   \n",
       "2         5722.460849   681.968994       48        1.432702e+11  0.354167   \n",
       "3         5931.162156  1572.397949      113        1.432702e+11  0.318584   \n",
       "4         3750.010186   429.658875       38        1.432702e+11  0.157895   \n",
       "...               ...          ...      ...                 ...       ...   \n",
       "14317803  6128.395650  1303.463745       95        5.587799e+10  0.252632   \n",
       "14317804  4803.099206   419.945557       30        5.587799e+10  0.233333   \n",
       "14317805  3578.380809   496.289795       37        5.587799e+10  0.243243   \n",
       "14317806  5756.020145   483.299988       36        5.587799e+10  0.222222   \n",
       "14317807  3765.822160   422.410583       31        5.587799e+10  0.129032   \n",
       "\n",
       "            beta14  alphabeta212  alphabeta214  NHits  \n",
       "0         0.136984      -99999.0      -99999.0    NaN  \n",
       "1         0.014681      -99999.0      -99999.0    NaN  \n",
       "2         0.179642      -99999.0      -99999.0    NaN  \n",
       "3         0.162851      -99999.0      -99999.0    NaN  \n",
       "4         0.371640      -99999.0      -99999.0    NaN  \n",
       "...            ...           ...           ...    ...  \n",
       "14317803  0.100641      -99999.0      -99999.0    NaN  \n",
       "14317804 -0.002518      -99999.0      -99999.0    NaN  \n",
       "14317805  0.102068      -99999.0      -99999.0    NaN  \n",
       "14317806 -0.019751      -99999.0      -99999.0    NaN  \n",
       "14317807  0.263351      -99999.0      -99999.0    NaN  \n",
       "\n",
       "[14317808 rows x 25 columns]"
      ]
     },
     "execution_count": 4,
     "metadata": {},
     "output_type": "execute_result"
    }
   ],
   "source": [
    "#read file\n",
    "#file = pd.read_csv('C:/snoplus simulations/real_data_antinu/real_data_filtered.csv')\n",
    "file = pd.read_csv('C:/snoplus simulations/real_data_antinu/bronze_data/Bronze_data_Analysis20.csv')\n",
    "file"
   ]
  },
  {
   "cell_type": "code",
   "execution_count": 5,
   "id": "a25e9865-7b8a-4622-b08d-8c89b7490a4c",
   "metadata": {},
   "outputs": [
    {
     "data": {
      "text/plain": [
       "Index(['Unnamed: 0', 'fitValid', 'scintFit', 'runID', 'dcFlag', 'evIndex',\n",
       "       'evID', 'triggerWord', 'Nhits', 'NhitsClean', 'correctedNhits',\n",
       "       'neckNhits', 'energy', 'posx', 'posy', 'posz', 'posr', 'posFOM',\n",
       "       'posFOM2', 'time_clock50 (mcs)', 'ITR', 'beta14', 'alphabeta212',\n",
       "       'alphabeta214', 'NHits'],\n",
       "      dtype='object')"
      ]
     },
     "execution_count": 5,
     "metadata": {},
     "output_type": "execute_result"
    }
   ],
   "source": [
    "file.columns"
   ]
  },
  {
   "cell_type": "code",
   "execution_count": 7,
   "id": "d33ccfe4-2163-44c0-bfa0-aa6d4648172c",
   "metadata": {},
   "outputs": [],
   "source": [
    "#cuts:\n",
    "en_cut_inf = 0.5  #To avoid accidentals and retriggers\n",
    "en_cut_sup = 8\n",
    "pos_r_cut = 5500\n",
    "condition_cut = (file['energy'] > en_cut_inf) & (file['energy'] <= en_cut_sup) & (file['posr'] <= pos_r_cut)\n",
    "file_cut = file[condition_cut].reset_index()\n",
    "\n",
    "#Extract Observables\n",
    "energy = file_cut['energy'].to_numpy()\n",
    "posx = file_cut['posx'].to_numpy()\n",
    "posy = file_cut['posy'].to_numpy()\n",
    "posz = file_cut['posz'].to_numpy() - 184.4\n",
    "time_clock = file_cut['time_clock50 (mcs)'].to_numpy()"
   ]
  },
  {
   "cell_type": "code",
   "execution_count": 8,
   "id": "95ef664b-fbe0-4b90-99f2-5ad342fa11be",
   "metadata": {},
   "outputs": [
    {
     "data": {
      "image/png": "[encoded data removed]",
      "text/plain": [
       "<Figure size 700x500 with 1 Axes>"
      ]
     },
     "metadata": {},
     "output_type": "display_data"
    }
   ],
   "source": [
    "plt.figure(figsize=(7,5))\n",
    "sn.histplot(energy, bins = 50, color = 'black', element = 'step', alpha = 0)\n",
    "plt.xlabel('Energy (MeV)')\n",
    "plt.title(rf'Energy Distribution - Real Data - E:[{en_cut_inf}, {en_cut_sup}] (MeV) - R $\\leq$ {pos_r_cut} (mm)')\n",
    "\n",
    "plt.yscale('log')"
   ]
  },
  {
   "cell_type": "markdown",
   "id": "ef53c00e-e4ab-48de-ac21-110a3bc5b5e1",
   "metadata": {},
   "source": [
    "## 3.2 - Event Selection"
   ]
  },
  {
   "cell_type": "markdown",
   "id": "4381799e-723d-4898-90d5-de77e11d78e6",
   "metadata": {},
   "source": [
    "### 3.2.1 - Select events based on $\\alpha\\tau$, $\\Delta$r and limits on promt and delayed energies"
   ]
  },
  {
   "cell_type": "markdown",
   "id": "1d32a2d1-d2d4-486d-8799-8c6dcd2b49e7",
   "metadata": {
    "jupyter": {
     "source_hidden": true
    }
   },
   "source": [
    "#Data to save\n",
    "delta_t = []\n",
    "delta_r = []\n",
    "\n",
    "energy_prompt = []\n",
    "energy_delay = []\n",
    "\n",
    "N_evt = energy.shape[0]\n",
    "\n",
    "for ev_i in range(N_evt):\n",
    "    #initiate with an arbitrary value for dt\n",
    "    dt = 0 \n",
    "    # Suspected prompt observables\n",
    "    t1 = time_clock[ev_i]\n",
    "    posx1 = posx_ev[ev_i]\n",
    "    posy1 = posy_ev[ev_i]\n",
    "    posz1 = posz_ev[ev_i]\n",
    "\n",
    "    delay_index = ev_i + 1\n",
    "    while dt < alpha*tau:\n",
    "        \n",
    "        #suspected delay\n",
    "        try:\n",
    "            t2 = time_clock[delay_index]\n",
    "            posx2 = posx_ev[delay_index]\n",
    "            posy2 = posy_ev[delay_index]\n",
    "            posz2 = posz_ev[delay_index]\n",
    "            \n",
    "        except IndexError:\n",
    "            break\n",
    "            \n",
    "        #evaluate dt\n",
    "        dt = t2 - t1\n",
    "        #print(dt)\n",
    "\n",
    "        \n",
    "\n",
    "        #condition to be a reactor nu candidate\n",
    "        if dt >= tau - low_tau and dt <= tau - up_tau:\n",
    "            print('Found a pair of prompt and delayed!')\n",
    "            delta_t.append(dt)\n",
    "\n",
    "            #Compute dr\n",
    "            dx = posx2 - posx1\n",
    "            dy = posy2 - posy1\n",
    "            dz = posz2 - posz1\n",
    "            dr = np.sqrt(dx**2 + dy**2 + dz**2)\n",
    "            delta_r.append(dr)\n",
    "\n",
    "            energy_prompt.append(energy[ev_i])\n",
    "            energy_delay.append(energy[delay_index])\n",
    "\n",
    "            #out of the while\n",
    "            break\n",
    "            \n",
    "        #evolve the index of the suspected delay\n",
    "\n",
    "        delay_index += 1\n",
    "\n",
    "delta_t = np.array(delta_t)\n",
    "delta_r = np.array(delta_r)\n",
    "\n",
    "energy_prompt = np.array(energy_prompt)\n",
    "energy_delay = np.array(energy_delay)"
   ]
  },
  {
   "cell_type": "code",
   "execution_count": 9,
   "id": "e1c30a47-2d86-42b7-a9d0-2ffaa886dd04",
   "metadata": {},
   "outputs": [
    {
     "name": "stdout",
     "output_type": "stream",
     "text": [
      "Pair Found\n",
      "870.3758220674193\n",
      "Pair Found\n",
      "566.2742571198868\n",
      "Pair Found\n",
      "365.3656311017482\n"
     ]
    }
   ],
   "source": [
    "# Values selected by looking at the delta_t and delta_r distribution of MC reactor nu data and the fit of the curves\n",
    "alpha = 8 \n",
    "#Expected values\n",
    "tau = 251\n",
    "dr_exp = 357\n",
    "dr_unc = 200 #choose a large interval otherwise we are rejecting a lot of events!\n",
    "\n",
    "dr_sup_lim = 1000 #choose a large interval otherwise we are rejecting a lot of events!\n",
    "dr_inf_lim = 0\n",
    "\n",
    "#Energy cut on delayed events\n",
    "energy_delay_inf_cut = 1.8\n",
    "energy_delay_sup_cut = 3\n",
    "\n",
    "'''\n",
    "The algorithm will work as follow:\n",
    "(1) take an event with time_clock[i] and pos[i];\n",
    "(2) evaluate the difference between events dr = dr[i+1] - dr[i]\n",
    "(3) if dr lies in dr_exp +/- dr_unc or dr_exp lies in interval [dr_sup_lim, dr_inf_lim] -> save event observables \n",
    "\n",
    "This logic must be applied along all the events and within a while loop until a size dt = (alpha)(tau) is reached.\n",
    "The code will use a candidate prompt and then find a delay candidate.\n",
    "'''\n",
    "\n",
    "#Data to save\n",
    "delta_t = []\n",
    "delta_r = []\n",
    "\n",
    "energy_prompt = []\n",
    "energy_delay = []\n",
    "\n",
    "N_ev = energy.shape[0]\n",
    "\n",
    "for ev_i in range(N_ev):\n",
    "\n",
    "    delay_index = ev_i + 1\n",
    "    #print('In event', ev_i)\n",
    "\n",
    "    #Suspected promt event observables\n",
    "    t1 = time_clock[ev_i]\n",
    "    posx1 = posx[ev_i]\n",
    "    posy1 = posy[ev_i]\n",
    "    posz1 = posz[ev_i]\n",
    "    energy_1 = energy[ev_i]\n",
    "    \n",
    "    try:\n",
    "        #Suspected delayed\n",
    "        t2 = time_clock[delay_index]\n",
    "        posx2 = posx[delay_index]\n",
    "        posy2 = posy[delay_index]\n",
    "        posz2 = posz[delay_index]\n",
    "        energy_2 = energy[delay_index]\n",
    "        \n",
    "        #Evaluate the dr and dt between events\n",
    "        dx = posx2 - posx1\n",
    "        dy = posy2 - posy1\n",
    "        dz = posz2 - posz1\n",
    "        dr = np.sqrt(dx**2 + dy**2 + dz**2)\n",
    "        dt = t2 - t1\n",
    "        \n",
    "    except IndexError:\n",
    "        continue\n",
    "       \n",
    "    #Start looking for a delay event within a windows alpha times tau\n",
    "    while (dt > 0) and (dt <= alpha*tau):\n",
    "\n",
    "        # If the dr coincide with the expected values, then save the observables of interest and break the while\n",
    "        #if (dr >= dr_exp - dr_unc) and (dr <= dr_exp + dr_unc) and (dt > 0) and (dt <= alpha*tau) and (energy_2 >= energy_delay_inf_cut) and (energy_2 <= energy_delay_sup_cut):\n",
    "        if (dr >= dr_inf_lim) and (dr <= dr_sup_lim) and (dt > 0) and (dt <= alpha*tau) and (energy_2 >= energy_delay_inf_cut) and (energy_2 <= energy_delay_sup_cut):\n",
    "            print('Pair Found')\n",
    "            print(dr)\n",
    "            delta_t.append(dt)\n",
    "            delta_r.append(dr)\n",
    "            energy_prompt.append(energy_1)\n",
    "            energy_delay.append(energy_2)\n",
    "\n",
    "            break\n",
    "        # Evolve the delay index if the condition is not fulfilled\n",
    "        delay_index += 1\n",
    "\n",
    "        # Look for the next Suspected delayed\n",
    "        try:\n",
    "            t2 = time_clock[delay_index]\n",
    "            posx2 = posx[delay_index]\n",
    "            posy2 = posy[delay_index]\n",
    "            posz2 = posz[delay_index]\n",
    "            energy_2 = energy[delay_index]\n",
    "    \n",
    "            #Evaluate the dr and dt between events\n",
    "            dx = posx2 - posx1\n",
    "            dy = posy2 - posy1\n",
    "            dz = posz2 - posz1\n",
    "            dr = np.sqrt(dx**2 + dy**2 + dz**2)\n",
    "            dt = t2 - t1\n",
    "        except IndexError:\n",
    "            break\n",
    "\n",
    "energy_prompt = np.array(energy_prompt)\n",
    "energy_delay = np.array(energy_delay)\n",
    "delta_t = np.array(delta_t)\n",
    "delta_r = np.array(delta_r)"
   ]
  },
  {
   "cell_type": "markdown",
   "id": "22c28e09-45a3-4105-8215-3d977d6217b0",
   "metadata": {},
   "source": [
    "## 3.3 - Plots of Selected Observables"
   ]
  },
  {
   "cell_type": "code",
   "execution_count": 24,
   "id": "6c375261-0103-4284-b678-275844cd16dc",
   "metadata": {},
   "outputs": [
    {
     "data": {
      "text/plain": [
       "Text(0.5, 1.0, 'Energy Spectrum - Windows $\\\\Delta$t:8$\\\\tau$ ($\\\\mu$s) and $\\\\Delta$r: [0, 1000] (mm)')"
      ]
     },
     "execution_count": 24,
     "metadata": {},
     "output_type": "execute_result"
    },
    {
     "data": {
      "image/png": "[encoded data removed]",
      "text/plain": [
       "<Figure size 700x500 with 1 Axes>"
      ]
     },
     "metadata": {},
     "output_type": "display_data"
    }
   ],
   "source": [
    "plt.figure(figsize = (7,5))\n",
    "sn.histplot(energy_prompt, binwidth=0.5 , color = 'b', element = 'step', alpha = 0, label = 'prompt candidates')\n",
    "sn.histplot(energy_delay, binwidth=0.5, color = 'r', element = 'step', alpha = 0, label = 'delay candidates')\n",
    "plt.legend(loc = 'best')\n",
    "\n",
    "plt.xlabel('Energy (MeV)')\n",
    "\n",
    "plt.yscale('log')\n",
    "\n",
    "plt.title(rf'Energy Spectrum - Windows $\\Delta$t:{alpha}$\\tau$ ($\\mu$s) and $\\Delta$r: [{dr_inf_lim}, {dr_sup_lim}] (mm)', fontsize = 11)"
   ]
  },
  {
   "cell_type": "code",
   "execution_count": 25,
   "id": "35f52133-ea81-4a20-a6c0-48c2c4b745eb",
   "metadata": {},
   "outputs": [
    {
     "data": {
      "text/plain": [
       "array([2.58561394, 2.08478373, 2.02367198])"
      ]
     },
     "execution_count": 25,
     "metadata": {},
     "output_type": "execute_result"
    }
   ],
   "source": [
    "energy_delay"
   ]
  },
  {
   "cell_type": "code",
   "execution_count": 22,
   "id": "00ac07de-4c68-4f1b-8df0-6aec50b897e8",
   "metadata": {},
   "outputs": [
    {
     "data": {
      "text/plain": [
       "Text(0.5, 1.0, '$\\\\Delta$t Distribution - Pair Windows of $\\\\Delta$t:8$\\\\tau$ ($\\\\mu$s) and $\\\\Delta$r: [0, 1000] (mm)')"
      ]
     },
     "execution_count": 22,
     "metadata": {},
     "output_type": "execute_result"
    },
    {
     "data": {
      "image/png": "[encoded data removed]",
      "text/plain": [
       "<Figure size 700x500 with 1 Axes>"
      ]
     },
     "metadata": {},
     "output_type": "display_data"
    }
   ],
   "source": [
    "plt.figure(figsize = (7,5))\n",
    "\n",
    "sn.histplot(delta_t, binwidth = 0.5, color = 'b', element = 'step', alpha = 0)\n",
    "\n",
    "plt.title(rf'$\\Delta$t Distribution - Pair Windows of $\\Delta$t:{alpha}$\\tau$ ($\\mu$s) and $\\Delta$r: [{dr_inf_lim}, {dr_sup_lim}] (mm)', fontsize = 11)"
   ]
  },
  {
   "cell_type": "code",
   "execution_count": 30,
   "id": "cbb75fe8-32e6-4141-95c2-f0b8c68da84c",
   "metadata": {},
   "outputs": [
    {
     "data": {
      "text/plain": [
       "<Axes: ylabel='Count'>"
      ]
     },
     "execution_count": 30,
     "metadata": {},
     "output_type": "execute_result"
    },
    {
     "data": {
      "image/png": "[encoded data removed]",
      "text/plain": [
       "<Figure size 640x480 with 1 Axes>"
      ]
     },
     "metadata": {},
     "output_type": "display_data"
    }
   ],
   "source": [
    "sn.histplot(delta_r, binwidth = 80, color = 'b', element = 'step', alpha = 0)"
   ]
  },
  {
   "cell_type": "code",
   "execution_count": null,
   "id": "b596f12b-d397-426b-936e-e3187640af7f",
   "metadata": {},
   "outputs": [],
   "source": []
  }
 ],
 "metadata": {
  "kernelspec": {
   "display_name": "Python 3 (ipykernel)",
   "language": "python",
   "name": "python3"
  },
  "language_info": {
   "codemirror_mode": {
    "name": "ipython",
    "version": 3
   },
   "file_extension": ".py",
   "mimetype": "text/x-python",
   "name": "python",
   "nbconvert_exporter": "python",
   "pygments_lexer": "ipython3",
   "version": "3.12.2"
  }
 },
 "nbformat": 4,
 "nbformat_minor": 5
}
